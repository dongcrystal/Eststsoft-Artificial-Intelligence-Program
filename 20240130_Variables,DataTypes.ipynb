{
  "cells": [
    {
      "cell_type": "markdown",
      "metadata": {
        "id": "w8C_iSSpYnVO"
      },
      "source": [
        "# [파이썬 기초] 변수,자료형\n",
        "\n",
        "\n",
        "\n"
      ]
    },
    {
      "cell_type": "markdown",
      "metadata": {
        "id": "Hoem8eDF6eU1"
      },
      "source": [
        "## 1. 파이썬 기초: 연산자와 변수"
      ]
    },
    {
      "cell_type": "markdown",
      "metadata": {
        "id": "PgakzyhIgKhS"
      },
      "source": [
        "### Help 이용하기"
      ]
    },
    {
      "cell_type": "markdown",
      "metadata": {
        "id": "wYmxAL8W1zVO"
      },
      "source": [
        "* ?함수명"
      ]
    },
    {
      "cell_type": "code",
      "execution_count": null,
      "metadata": {
        "id": "0wzhP3IXYnVQ"
      },
      "outputs": [],
      "source": [
        "?print"
      ]
    },
    {
      "cell_type": "markdown",
      "metadata": {
        "id": "ji8JTNMB118c"
      },
      "source": [
        "* () 괄호 사이를 클릭하고 Shift + Tab을 누르면 설명이 나타남"
      ]
    },
    {
      "cell_type": "code",
      "execution_count": null,
      "metadata": {
        "id": "XxgFnDwc1QJy"
      },
      "outputs": [],
      "source": [
        "sum()"
      ]
    },
    {
      "cell_type": "markdown",
      "metadata": {
        "id": "fclG3AdOwxiX"
      },
      "source": [
        "### 기본 연산자"
      ]
    },
    {
      "cell_type": "markdown",
      "metadata": {
        "id": "SEFFFs7MwxiY"
      },
      "source": [
        "* 숫자 연산자"
      ]
    },
    {
      "cell_type": "code",
      "execution_count": null,
      "metadata": {
        "colab": {
          "base_uri": "https://localhost:8080/"
        },
        "id": "RuRS3d_swxiZ",
        "outputId": "e4bc36bc-dc55-4242-a290-4fde8ce31ebc"
      },
      "outputs": [
        {
          "data": {
            "text/plain": [
              "3"
            ]
          },
          "execution_count": 1,
          "metadata": {},
          "output_type": "execute_result"
        }
      ],
      "source": [
        "# // 나눗셈의 몫\n",
        "23 // 7"
      ]
    },
    {
      "cell_type": "code",
      "execution_count": null,
      "metadata": {
        "colab": {
          "base_uri": "https://localhost:8080/"
        },
        "id": "pJ8DqjZ42NqW",
        "outputId": "c3817b9c-842c-432b-98c3-e6b2f97fecc1"
      },
      "outputs": [
        {
          "data": {
            "text/plain": [
              "2"
            ]
          },
          "execution_count": 2,
          "metadata": {},
          "output_type": "execute_result"
        }
      ],
      "source": [
        "# % (모듈로) 나눗셈의 나머지\n",
        "23 % 7"
      ]
    },
    {
      "cell_type": "code",
      "execution_count": null,
      "metadata": {
        "colab": {
          "base_uri": "https://localhost:8080/"
        },
        "id": "HJCcrJJd2T_r",
        "outputId": "50664525-5295-417d-b1a4-a15dd8d839e6"
      },
      "outputs": [
        {
          "data": {
            "text/plain": [
              "8"
            ]
          },
          "execution_count": 3,
          "metadata": {},
          "output_type": "execute_result"
        }
      ],
      "source": [
        "# ** 지수연산\n",
        "2 ** 3"
      ]
    },
    {
      "cell_type": "code",
      "execution_count": null,
      "metadata": {
        "colab": {
          "base_uri": "https://localhost:8080/"
        },
        "id": "8Zu8fare2T72",
        "outputId": "24fc25df-d850-4f5a-a085-98f46ac67a7a"
      },
      "outputs": [
        {
          "name": "stdout",
          "output_type": "stream",
          "text": [
            "0.002 0.002 0.002\n"
          ]
        }
      ],
      "source": [
        "print(0.002, 2*10**-3, 2e-3)"
      ]
    },
    {
      "cell_type": "markdown",
      "metadata": {
        "id": "O-E9kgFL2oGk"
      },
      "source": [
        "* 문자 연산자"
      ]
    },
    {
      "cell_type": "code",
      "execution_count": null,
      "metadata": {
        "colab": {
          "base_uri": "https://localhost:8080/",
          "height": 35
        },
        "id": "e1GpRWRi2oGk",
        "outputId": "ef4835fa-73df-4424-b15b-eb94ca5b97b8"
      },
      "outputs": [
        {
          "data": {
            "text/plain": [
              "'abcefg'"
            ]
          },
          "execution_count": 5,
          "metadata": {},
          "output_type": "execute_result"
        }
      ],
      "source": [
        "# +\n",
        "'abc' + 'efg'"
      ]
    },
    {
      "cell_type": "code",
      "execution_count": null,
      "metadata": {
        "colab": {
          "base_uri": "https://localhost:8080/",
          "height": 35
        },
        "id": "tpTAeDvr2u5-",
        "outputId": "300e92fa-a3c4-41c1-f4c3-2ac4fe4b80ab"
      },
      "outputs": [
        {
          "data": {
            "text/plain": [
              "'좋아요좋아요좋아요좋아요좋아요좋아요좋아요좋아요좋아요좋아요'"
            ]
          },
          "execution_count": 6,
          "metadata": {},
          "output_type": "execute_result"
        }
      ],
      "source": [
        "# *\n",
        "'좋아요' * 10"
      ]
    },
    {
      "cell_type": "markdown",
      "source": [
        "### [실습 추가문제 - 숫자, 문자 다루기]"
      ],
      "metadata": {
        "id": "lwAkgrmAls9E"
      }
    },
    {
      "cell_type": "code",
      "source": [
        "# 두 수 178, 13가 있습니다.\n",
        "# 두 수를 나눴을 때 몫과 나머지를 구해 보세요.\n",
        "print(178//13)\n",
        "print(178%13)"
      ],
      "metadata": {
        "colab": {
          "base_uri": "https://localhost:8080/"
        },
        "id": "nK2N4BbylyVu",
        "outputId": "b5622e4d-5c81-430b-df01-b9de3b10dccd"
      },
      "execution_count": null,
      "outputs": [
        {
          "output_type": "stream",
          "name": "stdout",
          "text": [
            "13\n",
            "9\n"
          ]
        }
      ]
    },
    {
      "cell_type": "code",
      "source": [
        "# 563421 이 3의 배수인지 확인해 봅시다.\n",
        "563421 % 3"
      ],
      "metadata": {
        "colab": {
          "base_uri": "https://localhost:8080/"
        },
        "id": "B85N__NalyZb",
        "outputId": "0a49d050-6e6b-4839-c6d8-dd94cdd16124"
      },
      "execution_count": null,
      "outputs": [
        {
          "output_type": "execute_result",
          "data": {
            "text/plain": [
              "0"
            ]
          },
          "metadata": {},
          "execution_count": 3
        }
      ]
    },
    {
      "cell_type": "code",
      "source": [
        "# 별표 '*'를 10개 출력해 봅시다.\n",
        "print('*' * 10)"
      ],
      "metadata": {
        "colab": {
          "base_uri": "https://localhost:8080/"
        },
        "id": "CWdcvp3ilyc9",
        "outputId": "82b1c7dc-3f22-4724-db31-0791f2b4d301"
      },
      "execution_count": null,
      "outputs": [
        {
          "output_type": "stream",
          "name": "stdout",
          "text": [
            "**********\n"
          ]
        }
      ]
    },
    {
      "cell_type": "code",
      "source": [
        "# 'a'와 'A' 둘 중 누가 더 큰지 비교해 봅시다.\n",
        "'a' < 'A'"
      ],
      "metadata": {
        "colab": {
          "base_uri": "https://localhost:8080/"
        },
        "id": "1G1cnrJNlygQ",
        "outputId": "e6ccfa70-f59b-4b6d-c4f7-76bacec074fa"
      },
      "execution_count": null,
      "outputs": [
        {
          "output_type": "execute_result",
          "data": {
            "text/plain": [
              "False"
            ]
          },
          "metadata": {},
          "execution_count": 5
        }
      ]
    },
    {
      "cell_type": "code",
      "source": [
        "# 'abc'와 'ABC' 가 같은지 비교해 봅시다\n",
        "'abc' == 'ABC'"
      ],
      "metadata": {
        "colab": {
          "base_uri": "https://localhost:8080/"
        },
        "id": "crhdukxUlyj4",
        "outputId": "9d98dc99-d78b-4001-f7bb-20d374de1deb"
      },
      "execution_count": null,
      "outputs": [
        {
          "output_type": "execute_result",
          "data": {
            "text/plain": [
              "False"
            ]
          },
          "metadata": {},
          "execution_count": 6
        }
      ]
    },
    {
      "cell_type": "markdown",
      "metadata": {
        "id": "Td2Kg5Im23HO"
      },
      "source": [
        "### 변수"
      ]
    },
    {
      "cell_type": "markdown",
      "metadata": {
        "id": "Hrj2F8_G27S5"
      },
      "source": [
        "* 숫자형 변수를 위한 특별한 연산자\n",
        "    * +=\n",
        "    * -=\n",
        "    * *=\n",
        "    * /="
      ]
    },
    {
      "cell_type": "code",
      "execution_count": null,
      "metadata": {
        "colab": {
          "base_uri": "https://localhost:8080/"
        },
        "id": "eh-f4XV12ydH",
        "outputId": "1413a073-57c8-4ba4-fcfe-a6aa07a58849"
      },
      "outputs": [
        {
          "name": "stdout",
          "output_type": "stream",
          "text": [
            "2\n"
          ]
        }
      ],
      "source": [
        "a = 1\n",
        "a += 1    # a = a + 1\n",
        "print(a)"
      ]
    },
    {
      "cell_type": "markdown",
      "metadata": {
        "id": "2KhjCCpy3Lex"
      },
      "source": [
        "* 셀의 결과를 출력할 때, print를 씁니다. (print문의 모든 결과 출력)\n",
        "* print를 안쓰면 제일 마지막 결과만 화면에 출력됩니다."
      ]
    },
    {
      "cell_type": "code",
      "execution_count": null,
      "metadata": {
        "colab": {
          "base_uri": "https://localhost:8080/"
        },
        "id": "XoduOR6h3G2A",
        "outputId": "3537f44a-5a71-431d-a483-afe104d1a67c"
      },
      "outputs": [
        {
          "data": {
            "text/plain": [
              "2"
            ]
          },
          "execution_count": 8,
          "metadata": {},
          "output_type": "execute_result"
        }
      ],
      "source": [
        "a"
      ]
    },
    {
      "cell_type": "code",
      "execution_count": null,
      "metadata": {
        "colab": {
          "base_uri": "https://localhost:8080/"
        },
        "id": "W1vklPDS3WOv",
        "outputId": "fe77e973-2842-4807-e048-d9692fef6c5f"
      },
      "outputs": [
        {
          "name": "stdout",
          "output_type": "stream",
          "text": [
            "2\n",
            "3\n"
          ]
        }
      ],
      "source": [
        "b = 3\n",
        "print(a)\n",
        "print(b)"
      ]
    },
    {
      "cell_type": "code",
      "execution_count": null,
      "metadata": {
        "colab": {
          "base_uri": "https://localhost:8080/"
        },
        "id": "MI5lIzTi3aGf",
        "outputId": "64af0f34-450f-45a0-9601-d1ffeb81aca6"
      },
      "outputs": [
        {
          "data": {
            "text/plain": [
              "3"
            ]
          },
          "execution_count": 10,
          "metadata": {},
          "output_type": "execute_result"
        }
      ],
      "source": [
        "a\n",
        "b"
      ]
    },
    {
      "cell_type": "markdown",
      "metadata": {
        "id": "iasv-AtO6mL7"
      },
      "source": [
        "### [실습-변수]"
      ]
    },
    {
      "cell_type": "code",
      "execution_count": null,
      "metadata": {
        "colab": {
          "base_uri": "https://localhost:8080/"
        },
        "id": "oDTWc_SV6oAL",
        "outputId": "051db9b4-faa6-443f-a8bf-40ddea999769"
      },
      "outputs": [
        {
          "name": "stdout",
          "output_type": "stream",
          "text": [
            "10\n"
          ]
        }
      ],
      "source": [
        "# 변수 c에 10을 담고 확인합니다.\n",
        "c = 10\n",
        "print(c)"
      ]
    },
    {
      "cell_type": "code",
      "execution_count": null,
      "metadata": {
        "colab": {
          "base_uri": "https://localhost:8080/"
        },
        "id": "JWhgfBX_6txO",
        "outputId": "384b56f8-0d76-4720-c0d8-7ab3b572853a"
      },
      "outputs": [
        {
          "name": "stdout",
          "output_type": "stream",
          "text": [
            "8\n",
            "4.0\n",
            "64.0\n"
          ]
        }
      ],
      "source": [
        "# += 연산자와 유사한 연산자를 사용하여,\n",
        "# c에서 2를 빼서 c에 저장하고 값을 확인합니다.\n",
        "c -= 2\n",
        "print(c)\n",
        "\n",
        "# 이어서, c에서 2를 나눠서 c에 저장하고 값을 확인합니다.\n",
        "c /= 2\n",
        "print(c)\n",
        "\n",
        "# 이어서, c의 3승을 구해서 c에 저장하고 값을 확인합니다.\n",
        "c **= 3\n",
        "print(c)"
      ]
    },
    {
      "cell_type": "markdown",
      "metadata": {
        "id": "O73-_mf13kCS"
      },
      "source": [
        "## 2. 파이썬 기초: 리스트(list)\n",
        "* 대괄호로 선언\n",
        "        a = [2,3,4,5,6]"
      ]
    },
    {
      "cell_type": "markdown",
      "metadata": {
        "id": "QMSPsnbu7UUF"
      },
      "source": [
        "### 리스트 생성"
      ]
    },
    {
      "cell_type": "code",
      "execution_count": null,
      "metadata": {
        "colab": {
          "base_uri": "https://localhost:8080/"
        },
        "id": "00X9rDse3bJv",
        "outputId": "04beced7-34a0-41bd-8c1d-721306f2cfcf"
      },
      "outputs": [
        {
          "data": {
            "text/plain": [
              "[1, 2, 3, 'a']"
            ]
          },
          "execution_count": 15,
          "metadata": {},
          "output_type": "execute_result"
        }
      ],
      "source": [
        "list_a = [1,2,3,'a']\n",
        "list_a"
      ]
    },
    {
      "cell_type": "markdown",
      "metadata": {
        "id": "sU9Zeg7x332L"
      },
      "source": [
        "* 리스트 안에 보통, 동일한 데이터 타입(숫자, 문자...)으로 만듭니다."
      ]
    },
    {
      "cell_type": "markdown",
      "metadata": {
        "id": "4zKzU5-u7XGV"
      },
      "source": [
        "### range 함수"
      ]
    },
    {
      "cell_type": "markdown",
      "metadata": {
        "id": "kIAdQKH63-rn"
      },
      "source": [
        "* range(시작값, 끝값, 증분값)\n",
        "    * 시작값 : 생략가능. 생략하면 0\n",
        "    * 끝값 : 사실 끝값이 아니라 끝값 바로 전까지. 생략 불가\n",
        "    * 증분값 : 증가시키는 값. 생략하면 1"
      ]
    },
    {
      "cell_type": "markdown",
      "metadata": {
        "id": "BAXgcoSt7dUM"
      },
      "source": [
        "* range함수의 결과를 눈으로 보려면 list() 안에 넣어야 한다."
      ]
    },
    {
      "cell_type": "code",
      "execution_count": null,
      "metadata": {
        "colab": {
          "base_uri": "https://localhost:8080/"
        },
        "id": "2pLbPbHQ31gI",
        "outputId": "fda58e0b-c524-4f32-a4d3-81541ac82a0b"
      },
      "outputs": [
        {
          "data": {
            "text/plain": [
              "[0, 1, 2, 3, 4, 5, 6, 7, 8, 9]"
            ]
          },
          "execution_count": 16,
          "metadata": {},
          "output_type": "execute_result"
        }
      ],
      "source": [
        "# 0부터 10 전까지, 1씩 증가시켜라.\n",
        "list(range(0,10,1))"
      ]
    },
    {
      "cell_type": "code",
      "source": [
        "# 0부터 10 전까지, (1씩) 증가시켜라.\n",
        "list(range(0, 10))"
      ],
      "metadata": {
        "colab": {
          "base_uri": "https://localhost:8080/"
        },
        "id": "RSabr5xbnPjw",
        "outputId": "09ad4068-4ff7-4389-ea7a-f5a5a8317c71"
      },
      "execution_count": null,
      "outputs": [
        {
          "output_type": "execute_result",
          "data": {
            "text/plain": [
              "[0, 1, 2, 3, 4, 5, 6, 7, 8, 9]"
            ]
          },
          "metadata": {},
          "execution_count": 8
        }
      ]
    },
    {
      "cell_type": "code",
      "execution_count": null,
      "metadata": {
        "colab": {
          "base_uri": "https://localhost:8080/"
        },
        "id": "_l4fZ31X4g-O",
        "outputId": "745298fc-5351-4219-d53a-b62983af4e09"
      },
      "outputs": [
        {
          "data": {
            "text/plain": [
              "[0, 1, 2, 3, 4, 5, 6, 7, 8, 9]"
            ]
          },
          "execution_count": 18,
          "metadata": {},
          "output_type": "execute_result"
        }
      ],
      "source": [
        "# (0부터) 10 전까지, (1씩) 증가시켜라.\n",
        "list(range(10))"
      ]
    },
    {
      "cell_type": "code",
      "execution_count": null,
      "metadata": {
        "colab": {
          "base_uri": "https://localhost:8080/"
        },
        "id": "4v9MHFXV4UiW",
        "outputId": "1cf6f47e-08fc-40bd-dcd4-5a10f8228769"
      },
      "outputs": [
        {
          "output_type": "execute_result",
          "data": {
            "text/plain": [
              "[10, 9, 8, 7, 6, 5, 4, 3, 2]"
            ]
          },
          "metadata": {},
          "execution_count": 7
        }
      ],
      "source": [
        "# 10부터 1 전까지, -1씩 증가시켜라.\n",
        "list(range(10,1,-1))"
      ]
    },
    {
      "cell_type": "code",
      "execution_count": null,
      "metadata": {
        "colab": {
          "base_uri": "https://localhost:8080/"
        },
        "id": "k6HNRU4N9_6L",
        "outputId": "68bb5674-7e97-48f0-9f84-f1da60f1e11f"
      },
      "outputs": [
        {
          "name": "stdout",
          "output_type": "stream",
          "text": [
            "[3, 6, 9, 12, 15, 18, 21, 24, 27, 30, 33, 36, 39, 42, 45, 48, 51, 54, 57, 60, 63, 66, 69, 72, 75, 78, 81, 84, 87, 90, 93, 96, 99]\n"
          ]
        }
      ],
      "source": [
        "# 3부터 100까지 3의 배수를 리스트에 담아 봅시다.\n",
        "a = list(range(3,101,3))\n",
        "print(a)"
      ]
    },
    {
      "cell_type": "markdown",
      "metadata": {
        "id": "weShmgFd9wfj"
      },
      "source": [
        "### 리스트 사용하기"
      ]
    },
    {
      "cell_type": "markdown",
      "metadata": {
        "id": "2n5x00kv4s3q"
      },
      "source": [
        "* 리스트 사용하기 : 인덱스로 호출"
      ]
    },
    {
      "cell_type": "code",
      "execution_count": null,
      "metadata": {
        "colab": {
          "base_uri": "https://localhost:8080/"
        },
        "id": "tqGY5-m-4p6T",
        "outputId": "b20c7c0c-9b2e-4021-c598-157eb40dcad9"
      },
      "outputs": [
        {
          "name": "stdout",
          "output_type": "stream",
          "text": [
            "1 5 21\n"
          ]
        }
      ],
      "source": [
        "list_b = [1,5,21,13,6]\n",
        "\n",
        "print(list_b[0], list_b[1], list_b[2])"
      ]
    },
    {
      "cell_type": "code",
      "execution_count": null,
      "metadata": {
        "colab": {
          "base_uri": "https://localhost:8080/"
        },
        "id": "ylii2qKw4-Sj",
        "outputId": "f458643d-0fd4-4514-a272-ff7f86a36ed3"
      },
      "outputs": [
        {
          "name": "stdout",
          "output_type": "stream",
          "text": [
            "6 13 21\n"
          ]
        }
      ],
      "source": [
        "print(list_b[-1], list_b[-2], list_b[-3])"
      ]
    },
    {
      "cell_type": "markdown",
      "metadata": {
        "id": "j4PZ36E95KUX"
      },
      "source": [
        "* 리스트 사용하기 : 인덱스 범위로 호출\n",
        "    * list[시작인덱스:끝인덱스]\n",
        "        * 끝인덱스 :\n",
        "            * 사실 끝인덱스 바로 전까지\n",
        "            * 생락하면, 끝까지\n",
        "        * 시작인덱스 : 생략하면 처음부터~\n"
      ]
    },
    {
      "cell_type": "code",
      "execution_count": null,
      "metadata": {
        "colab": {
          "base_uri": "https://localhost:8080/"
        },
        "id": "eqtWTnCT5FMv",
        "outputId": "474e2c7c-dff9-4373-abfd-ff21c0f5a25b"
      },
      "outputs": [
        {
          "data": {
            "text/plain": [
              "[5, 21]"
            ]
          },
          "execution_count": 22,
          "metadata": {},
          "output_type": "execute_result"
        }
      ],
      "source": [
        "list_b[1:3]"
      ]
    },
    {
      "cell_type": "code",
      "execution_count": null,
      "metadata": {
        "colab": {
          "base_uri": "https://localhost:8080/"
        },
        "id": "M0MSesXT5aMg",
        "outputId": "9b28722e-3390-4fe7-c04f-49e5c6c16cd6"
      },
      "outputs": [
        {
          "data": {
            "text/plain": [
              "[1, 5, 21]"
            ]
          },
          "execution_count": 23,
          "metadata": {},
          "output_type": "execute_result"
        }
      ],
      "source": [
        "list_b[:3]"
      ]
    },
    {
      "cell_type": "code",
      "execution_count": null,
      "metadata": {
        "colab": {
          "base_uri": "https://localhost:8080/"
        },
        "id": "tkd7mEHu5qUn",
        "outputId": "e944f9d8-4c75-4ddb-889b-63f05c39157f"
      },
      "outputs": [
        {
          "data": {
            "text/plain": [
              "[21, 13, 6]"
            ]
          },
          "execution_count": 24,
          "metadata": {},
          "output_type": "execute_result"
        }
      ],
      "source": [
        "list_b[2:]"
      ]
    },
    {
      "cell_type": "markdown",
      "metadata": {
        "id": "2LOcW3Fq5v-K"
      },
      "source": [
        "### 리스트 관련 메소드: 리스트 제일 끝에 값 추가"
      ]
    },
    {
      "cell_type": "code",
      "execution_count": null,
      "metadata": {
        "colab": {
          "base_uri": "https://localhost:8080/"
        },
        "id": "C7GnMUml5_dr",
        "outputId": "29be66fc-0f0a-4923-e237-aa2239c2f69a"
      },
      "outputs": [
        {
          "data": {
            "text/plain": [
              "[1, 5, 21, 13, 6, 100]"
            ]
          },
          "execution_count": 27,
          "metadata": {},
          "output_type": "execute_result"
        }
      ],
      "source": [
        "# 값 추가하기 : .append\n",
        "list_b.append(100)\n",
        "list_b"
      ]
    },
    {
      "cell_type": "markdown",
      "metadata": {
        "id": "4bl_jzV-7RDQ"
      },
      "source": [
        "### [실습]"
      ]
    },
    {
      "cell_type": "code",
      "execution_count": null,
      "metadata": {
        "colab": {
          "base_uri": "https://localhost:8080/"
        },
        "id": "6oIUO_E_6M2D",
        "outputId": "da298264-0fa2-4d47-f4ef-15fac8ede22f"
      },
      "outputs": [
        {
          "name": "stdout",
          "output_type": "stream",
          "text": [
            "[1, 3, 5, 7, 9, 11, 13, 15, 17, 19, 21, 23, 25, 27, 29, 31, 33, 35, 37, 39, 41, 43, 45, 47, 49, 51, 53, 55, 57, 59, 61, 63, 65, 67, 69, 71, 73, 75, 77, 79, 81, 83, 85, 87, 89, 91, 93, 95, 97, 99]\n"
          ]
        }
      ],
      "source": [
        "# range 함수를 사용하여 1 이상 100 이하의 홀수를 리스트에 담아 봅시다.\n",
        "list_c = list(range(1, 101, 2))\n",
        "print(list_c)"
      ]
    },
    {
      "cell_type": "code",
      "execution_count": null,
      "metadata": {
        "colab": {
          "base_uri": "https://localhost:8080/"
        },
        "id": "EKlnIBH9-VUk",
        "outputId": "dea7c50f-2841-44de-a404-bc87a62b776a"
      },
      "outputs": [
        {
          "data": {
            "text/plain": [
              "23"
            ]
          },
          "execution_count": 45,
          "metadata": {},
          "output_type": "execute_result"
        }
      ],
      "source": [
        "# 인덱스 11에 해당하는 데이터를 조회합시다.\n",
        "list_c[11]"
      ]
    },
    {
      "cell_type": "code",
      "execution_count": null,
      "metadata": {
        "colab": {
          "base_uri": "https://localhost:8080/"
        },
        "id": "D3prd8Eb-cbo",
        "outputId": "9cf420c4-5bc2-444a-8c1e-1805b900bd03"
      },
      "outputs": [
        {
          "data": {
            "text/plain": [
              "91"
            ]
          },
          "execution_count": 13,
          "metadata": {},
          "output_type": "execute_result"
        }
      ],
      "source": [
        "# 끝에서 5번째 값을 조회합시다.\n",
        "list_c[-5]"
      ]
    },
    {
      "cell_type": "code",
      "execution_count": null,
      "metadata": {
        "colab": {
          "base_uri": "https://localhost:8080/"
        },
        "id": "f03AEyvJ-hHm",
        "outputId": "5db7c0d9-411f-41b0-a8d7-c2942c9c5f3f"
      },
      "outputs": [
        {
          "data": {
            "text/plain": [
              "[21, 23, 25, 27, 29, 31, 33, 35, 37, 39]"
            ]
          },
          "execution_count": 35,
          "metadata": {},
          "output_type": "execute_result"
        }
      ],
      "source": [
        "# 인덱스 10~20까지 데이터를 조회합시다.\n",
        "list_c[10:20]"
      ]
    },
    {
      "cell_type": "code",
      "execution_count": null,
      "metadata": {
        "colab": {
          "base_uri": "https://localhost:8080/"
        },
        "id": "yLVUZSTk-kNt",
        "outputId": "b37c1a91-c38c-4dbe-9bd2-9b7acf4087ab"
      },
      "outputs": [
        {
          "name": "stdout",
          "output_type": "stream",
          "text": [
            "[1, 3, 5, 7, 9, 11, 13, 15, 17, 19, 21, 23, 25, 27, 29, 31, 33, 35, 37, 39, 41, 43, 45, 47, 49, 51, 53, 55, 57, 59, 61, 63, 65, 67, 69, 71, 73, 75, 77, 79, 81, 83, 85, 87, 89, 91, 93, 95, 97, 99, 101, 103, 105, 101, 103, 105]\n"
          ]
        }
      ],
      "source": [
        "# 101,103,105 를 리스트에 추가합시다.\n",
        "list_c.append(101)\n",
        "list_c.append(103)\n",
        "list_c.append(105)\n",
        "print(list_c)"
      ]
    },
    {
      "cell_type": "code",
      "execution_count": null,
      "metadata": {
        "colab": {
          "base_uri": "https://localhost:8080/"
        },
        "id": "dtGYETm9uzTI",
        "outputId": "00de92fc-a355-4138-ea7c-d6c0f8cc7405"
      },
      "outputs": [
        {
          "name": "stdout",
          "output_type": "stream",
          "text": [
            "[1, 3, 5, 7, 9, 11, 13, 15, 17, 19, 21, 23, 25, 27, 29, 31, 33, 35, 37, 39, 41, 43, 45, 47, 49, 51, 53, 55, 57, 59, 61, 63, 65, 67, 69, 71, 73, 75, 77, 79, 81, 83, 85, 87, 89, 91, 93, 95, 97, 99, [101, 103, 105]]\n"
          ]
        }
      ],
      "source": [
        "# range 함수를 사용하여 1 이상 100 이하의 홀수를 리스트에 담아 봅시다.\n",
        "list_c = list(range(1, 101, 2))\n",
        "\n",
        "# 101,103,105 를 리스트로 묶어서 추가합니다.\n",
        "list_c.append([101, 103, 105])\n",
        "print(list_c)"
      ]
    },
    {
      "cell_type": "markdown",
      "metadata": {
        "id": "FuuCTWTn-sK9"
      },
      "source": [
        "## 3. 파이썬기초: 딕셔너리\n",
        "\n",
        "* 딕셔너리는\n",
        "    * 다양한 자료형을 하나로 묶어 놓은 자료형\n",
        "    * key : value 쌍으로 구성"
      ]
    },
    {
      "cell_type": "markdown",
      "metadata": {
        "id": "61bmFGmI-_lx"
      },
      "source": [
        "### 딕셔너리 생성하기\n",
        "* d = { 'a':1, 'b':[2,3,4,5,6], 'c':{'v1':0.1, 'v2':[8,9]}}"
      ]
    },
    {
      "cell_type": "code",
      "execution_count": null,
      "metadata": {
        "colab": {
          "base_uri": "https://localhost:8080/"
        },
        "id": "m_JSTO-T-wcN",
        "outputId": "b6439b28-1cde-4c1b-d0de-2ff214ecfb62"
      },
      "outputs": [
        {
          "data": {
            "text/plain": [
              "{'a': 1, 'b': [2, 3, 4, 5, 6], 'c': {'v1': 0.1, 'v2': [8, 9]}}"
            ]
          },
          "execution_count": 14,
          "metadata": {},
          "output_type": "execute_result"
        }
      ],
      "source": [
        "d = { 'a':1, 'b':[2,3,4,5,6], 'c':{'v1':0.1, 'v2':[8,9]}}\n",
        "d"
      ]
    },
    {
      "cell_type": "markdown",
      "metadata": {
        "id": "VU9ac29d_fLw"
      },
      "source": [
        "### 조회하기\n",
        "* 딕셔너리는 인덱스가 아니라 키로 값을 조회합니다."
      ]
    },
    {
      "cell_type": "code",
      "execution_count": null,
      "metadata": {
        "colab": {
          "base_uri": "https://localhost:8080/"
        },
        "id": "9jyfn82f_YrE",
        "outputId": "81df00ef-207e-4017-d5a8-ae979b769a0e"
      },
      "outputs": [
        {
          "data": {
            "text/plain": [
              "1"
            ]
          },
          "execution_count": 15,
          "metadata": {},
          "output_type": "execute_result"
        }
      ],
      "source": [
        "d['a']"
      ]
    },
    {
      "cell_type": "code",
      "execution_count": null,
      "metadata": {
        "colab": {
          "base_uri": "https://localhost:8080/"
        },
        "id": "1y-OHiUE_nVY",
        "outputId": "1d26543c-5af3-4ea8-b63e-8b11cf420861"
      },
      "outputs": [
        {
          "data": {
            "text/plain": [
              "[2, 3, 4, 5, 6]"
            ]
          },
          "execution_count": 16,
          "metadata": {},
          "output_type": "execute_result"
        }
      ],
      "source": [
        "d['b']"
      ]
    },
    {
      "cell_type": "code",
      "execution_count": null,
      "metadata": {
        "colab": {
          "base_uri": "https://localhost:8080/"
        },
        "id": "PLRSjSIU_o2g",
        "outputId": "2b96c30f-bc39-474d-b15e-70d7a8b12763"
      },
      "outputs": [
        {
          "data": {
            "text/plain": [
              "{'v1': 0.1, 'v2': [8, 9]}"
            ]
          },
          "execution_count": 49,
          "metadata": {},
          "output_type": "execute_result"
        }
      ],
      "source": [
        "d['c']"
      ]
    },
    {
      "cell_type": "markdown",
      "metadata": {
        "id": "6GhuHW4V_rEx"
      },
      "source": [
        "* 조회시 나온 결과를 하나의 자료형으로 보고 추가 조회 가능"
      ]
    },
    {
      "cell_type": "code",
      "execution_count": null,
      "metadata": {
        "colab": {
          "base_uri": "https://localhost:8080/"
        },
        "id": "e8_y4yOe_pxQ",
        "outputId": "3bc85a6f-f5ac-4ed2-97c4-898be6bf5d2d"
      },
      "outputs": [
        {
          "name": "stdout",
          "output_type": "stream",
          "text": [
            "[2, 3, 4, 5, 6]\n",
            "4\n",
            "[3, 4]\n"
          ]
        }
      ],
      "source": [
        "# d['b'] 의 결과는 리스트. 그러므로 하위 값을 [인덱스]로 조회 가능\n",
        "print(d['b'])\n",
        "print(d['b'][2])\n",
        "print(d['b'][1:3])"
      ]
    },
    {
      "cell_type": "markdown",
      "metadata": {
        "id": "rPK4X9odAopV"
      },
      "source": [
        "* 딕셔너리의 구성요소 조회\n",
        "    * .keys() : 딕셔너리의 key 만 조회하기\n",
        "    * .values() : 딕셔너리의 값 만 조회하기\n",
        "    * .items() : key와 값을 쌍(tuple)으로 조회\n"
      ]
    },
    {
      "cell_type": "code",
      "execution_count": null,
      "metadata": {
        "colab": {
          "base_uri": "https://localhost:8080/"
        },
        "id": "35Mle9gpArRf",
        "outputId": "75da060f-1b81-407d-d78a-a1aca86efa13"
      },
      "outputs": [
        {
          "data": {
            "text/plain": [
              "dict_keys(['a', 'b', 'c'])"
            ]
          },
          "execution_count": 51,
          "metadata": {},
          "output_type": "execute_result"
        }
      ],
      "source": [
        "d.keys()"
      ]
    },
    {
      "cell_type": "code",
      "execution_count": null,
      "metadata": {
        "colab": {
          "base_uri": "https://localhost:8080/"
        },
        "id": "nrIymmOHArLo",
        "outputId": "f509e39d-19d0-4118-e0df-f002a3a47253"
      },
      "outputs": [
        {
          "data": {
            "text/plain": [
              "dict_values([1, [2, 3, 4, 5, 6], {'v1': 0.1, 'v2': [8, 9]}])"
            ]
          },
          "execution_count": 52,
          "metadata": {},
          "output_type": "execute_result"
        }
      ],
      "source": [
        "d.values()"
      ]
    },
    {
      "cell_type": "code",
      "execution_count": null,
      "metadata": {
        "colab": {
          "base_uri": "https://localhost:8080/"
        },
        "id": "Hhmde4OIArIX",
        "outputId": "aeb6da23-c543-483d-c893-dae55b8943f0"
      },
      "outputs": [
        {
          "data": {
            "text/plain": [
              "dict_items([('a', 1), ('b', [2, 3, 4, 5, 6]), ('c', {'v1': 0.1, 'v2': [8, 9]})])"
            ]
          },
          "execution_count": 53,
          "metadata": {},
          "output_type": "execute_result"
        }
      ],
      "source": [
        "d.items()"
      ]
    },
    {
      "cell_type": "markdown",
      "metadata": {
        "id": "SN28gu6IAIp6"
      },
      "source": [
        "### [실습]\n",
        "위에서 만든 딕셔너리 d를 다시 생성합시다.\n"
      ]
    },
    {
      "cell_type": "code",
      "execution_count": null,
      "metadata": {
        "id": "BgHtjDyXAC-J"
      },
      "outputs": [],
      "source": [
        "d = { 'a':1, 'b':[2,3,4,5,6], 'c':{'v1':0.1, 'v2':[8,9]}}"
      ]
    },
    {
      "cell_type": "markdown",
      "metadata": {
        "id": "qJwtY6m2AN4w"
      },
      "source": [
        "다음을 조회하시오"
      ]
    },
    {
      "cell_type": "code",
      "execution_count": null,
      "metadata": {
        "colab": {
          "base_uri": "https://localhost:8080/"
        },
        "id": "eTbVDPaQAOkF",
        "outputId": "c74520da-94ef-47b2-80c1-6f1ced7013e6"
      },
      "outputs": [
        {
          "data": {
            "text/plain": [
              "4"
            ]
          },
          "execution_count": 59,
          "metadata": {},
          "output_type": "execute_result"
        }
      ],
      "source": [
        "# 4\n",
        "d['b'][3]"
      ]
    },
    {
      "cell_type": "code",
      "execution_count": null,
      "metadata": {
        "colab": {
          "base_uri": "https://localhost:8080/"
        },
        "id": "U5iSHzoLAZBA",
        "outputId": "aa6635ea-beb0-422e-8a1c-0e2a2fb7f645"
      },
      "outputs": [
        {
          "data": {
            "text/plain": [
              "[4, 5, 6]"
            ]
          },
          "execution_count": 61,
          "metadata": {},
          "output_type": "execute_result"
        }
      ],
      "source": [
        "# 4, 5, 6\n",
        "d['b'][2:]"
      ]
    },
    {
      "cell_type": "code",
      "execution_count": null,
      "metadata": {
        "colab": {
          "base_uri": "https://localhost:8080/"
        },
        "id": "HFq-0VoWAY92",
        "outputId": "c44d4460-faeb-4594-f7cb-95ea2ae49f2c"
      },
      "outputs": [
        {
          "data": {
            "text/plain": [
              "0.1"
            ]
          },
          "execution_count": 64,
          "metadata": {},
          "output_type": "execute_result"
        }
      ],
      "source": [
        "# 0.1\n",
        "d['c']['v1']"
      ]
    },
    {
      "cell_type": "code",
      "execution_count": null,
      "metadata": {
        "colab": {
          "base_uri": "https://localhost:8080/"
        },
        "id": "DRJUHFdwAeis",
        "outputId": "5903c9cf-e465-4bb8-8d39-c914ae666532"
      },
      "outputs": [
        {
          "data": {
            "text/plain": [
              "9"
            ]
          },
          "execution_count": 65,
          "metadata": {},
          "output_type": "execute_result"
        }
      ],
      "source": [
        "# 9\n",
        "d['c']['v2'][1]"
      ]
    }
  ],
  "metadata": {
    "colab": {
      "provenance": [],
      "toc_visible": true
    },
    "kernelspec": {
      "display_name": "Python 3 (ipykernel)",
      "language": "python",
      "name": "python3"
    },
    "language_info": {
      "codemirror_mode": {
        "name": "ipython",
        "version": 3
      },
      "file_extension": ".py",
      "mimetype": "text/x-python",
      "name": "python",
      "nbconvert_exporter": "python",
      "pygments_lexer": "ipython3",
      "version": "3.9.7"
    }
  },
  "nbformat": 4,
  "nbformat_minor": 0
}