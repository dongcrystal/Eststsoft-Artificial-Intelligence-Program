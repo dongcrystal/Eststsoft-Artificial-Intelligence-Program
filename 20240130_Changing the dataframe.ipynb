{
  "cells": [
    {
      "cell_type": "markdown",
      "metadata": {
        "id": "eRPNqQjA9RM8"
      },
      "source": [
        "## 5.데이터프레임 변경"
      ]
    },
    {
      "cell_type": "code",
      "execution_count": null,
      "metadata": {
        "id": "b9NraxWDnYr1"
      },
      "outputs": [],
      "source": [
        "# 라이브러리 불러오기\n",
        "import pandas as pd"
      ]
    },
    {
      "cell_type": "markdown",
      "metadata": {
        "id": "TKXSGj6GW2sU"
      },
      "source": [
        "### 5.1. 데이터프레임 합치기(Concat)\n",
        "\n",
        "- **concat()** 함수를 사용해 두 데이터프레임을 가로 또는 세로로 합칠 수 있습니다.\n"
      ]
    },
    {
      "cell_type": "markdown",
      "metadata": {
        "id": "Ai1-9_qwNth_"
      },
      "source": [
        "#### 5.1.1.가로로 합치기\n",
        "\n",
        "- **axis=1** 옵션을 지정해 가로로 합칠 수 있습니다.\n",
        "- **행 인덱스 값을 기준으로** 합칩니다!"
      ]
    },
    {
      "cell_type": "markdown",
      "metadata": {
        "id": "E0SAH5cR9MSg"
      },
      "source": [
        "<img src='https://raw.githubusercontent.com/Jangrae/img/master/concat_ax1.png' width=500, align=\"left\"/>"
      ]
    },
    {
      "cell_type": "markdown",
      "metadata": {
        "id": "u6QfphTxVsxF"
      },
      "source": [
        "**1) 데이터 읽어오기**"
      ]
    },
    {
      "cell_type": "code",
      "execution_count": null,
      "metadata": {
        "colab": {
          "base_uri": "https://localhost:8080/"
        },
        "id": "SOiVUXk_nlEl",
        "outputId": "76d420f1-801e-4fc1-dee4-0fd72ed9437d",
        "scrolled": false
      },
      "outputs": [
        {
          "name": "stdout",
          "output_type": "stream",
          "text": [
            "      k_male  k_female\n",
            "1981    4160      4191\n",
            "1982    4160      4191\n",
            "1983    4160      4191\n",
            "1984    4160      4191\n",
            "1985    4160      4191\n",
            "1986    4899      4888\n",
            "1987    5000      4979\n",
            "1988    5156      5120\n",
            "1989    5305      5261\n",
            "1990    5321      5282\n"
          ]
        }
      ],
      "source": [
        "# 서울 인구정보 읽어오기 #1\n",
        "path = 'https://bit.ly/PopH01File'\n",
        "pop01 = pd.read_csv(path, index_col='year')\n",
        "pop01.index.name = None\n",
        "\n",
        "# 확인\n",
        "print(pop01.head(10))"
      ]
    },
    {
      "cell_type": "code",
      "execution_count": null,
      "metadata": {
        "colab": {
          "base_uri": "https://localhost:8080/"
        },
        "id": "9w2LWwOzVaAa",
        "outputId": "10800708-1635-4246-ee1b-f57f93d94e59",
        "scrolled": false
      },
      "outputs": [
        {
          "name": "stdout",
          "output_type": "stream",
          "text": [
            "      f_male  f_female\n",
            "1985       7         6\n",
            "1986       7         5\n",
            "1987       6         5\n",
            "1988       5         5\n",
            "1989       6         5\n",
            "1990       5         4\n",
            "1991      18        14\n",
            "1992      19        16\n",
            "1993      19        17\n",
            "1994      21        19\n"
          ]
        }
      ],
      "source": [
        "# 서울 인구정보 읽어오기 #2\n",
        "path = 'https://bit.ly/PopH02File'\n",
        "pop02 = pd.read_csv(path, index_col='year')\n",
        "pop02.index.name = None\n",
        "\n",
        "# 확인\n",
        "print(pop02.head(10))"
      ]
    },
    {
      "cell_type": "markdown",
      "metadata": {
        "id": "e2QtLRzgJSfv"
      },
      "source": [
        "**2) 데이터프레임 합치기**\n",
        "\n",
        "- 이제 **concat()** 함수를 사용해 두 데이터프레임을 합쳐봅니다.\n",
        "- 가로로 합치므로 **axis=1** 옵션을 지정합니다.\n",
        "- join='outer'는 기본 옵션값이므로 생략이 가능합니다."
      ]
    },
    {
      "cell_type": "code",
      "execution_count": null,
      "metadata": {
        "colab": {
          "base_uri": "https://localhost:8080/"
        },
        "id": "e2JTK2AzJPvI",
        "outputId": "b8b96fab-1b85-4f86-b1dd-0a9730b872a0",
        "scrolled": false
      },
      "outputs": [
        {
          "name": "stdout",
          "output_type": "stream",
          "text": [
            "      k_male  k_female  f_male  f_female\n",
            "1981    4160      4191     NaN       NaN\n",
            "1982    4160      4191     NaN       NaN\n",
            "1983    4160      4191     NaN       NaN\n",
            "1984    4160      4191     NaN       NaN\n",
            "1985    4160      4191     7.0       6.0\n",
            "1986    4899      4888     7.0       5.0\n",
            "1987    5000      4979     6.0       5.0\n",
            "1988    5156      5120     5.0       5.0\n",
            "1989    5305      5261     6.0       5.0\n",
            "1990    5321      5282     5.0       4.0\n"
          ]
        }
      ],
      "source": [
        "# 모든 헹 합치기\n",
        "pop = pd.concat([pop01, pop02], join='outer', axis=1)\n",
        "\n",
        "# 확인\n",
        "print(pop.head(10))"
      ]
    },
    {
      "cell_type": "markdown",
      "metadata": {
        "id": "xgfGAfFfJkYq"
      },
      "source": [
        "- pop02 데이터프레임에는 1981~1984년 데이터가 없어 합쳐진 결과에 결측치가 생깁니다.\n",
        "- join='inner' 옵션을 지정하면 매핑되지 못한 행은 제외됩니다."
      ]
    },
    {
      "cell_type": "code",
      "execution_count": null,
      "metadata": {
        "colab": {
          "base_uri": "https://localhost:8080/"
        },
        "id": "QG_IsO1nI7lt",
        "outputId": "fc68639c-deee-419c-a73a-f57d9d8942bd"
      },
      "outputs": [
        {
          "name": "stdout",
          "output_type": "stream",
          "text": [
            "      k_male  k_female  f_male  f_female\n",
            "1985    4160      4191       7         6\n",
            "1986    4899      4888       7         5\n",
            "1987    5000      4979       6         5\n",
            "1988    5156      5120       5         5\n",
            "1989    5305      5261       6         5\n",
            "1990    5321      5282       5         4\n",
            "1991    5468      5405      18        14\n",
            "1992    5500      5435      19        16\n",
            "1993    5478      5412      19        17\n",
            "1994    5409      5351      21        19\n"
          ]
        }
      ],
      "source": [
        "# 모든 헹 합치기\n",
        "pop = pd.concat([pop01, pop02], join='inner', axis=1)\n",
        "\n",
        "# 확인\n",
        "print(pop.head(10))"
      ]
    },
    {
      "cell_type": "markdown",
      "metadata": {
        "id": "FALUn2QYJ6r_"
      },
      "source": [
        "#### 5.1.2.세로로 합치기\n",
        "\n",
        "\n",
        "- **axis=0** 옵션을 지정해 세로로 합칠 수 있습니다.(기본값)\n",
        "- **열 이름을 기준으로** 합칩니다!"
      ]
    },
    {
      "cell_type": "markdown",
      "metadata": {
        "id": "PSmjf_uLMWGw"
      },
      "source": [
        "<img src='https://raw.githubusercontent.com/Jangrae/img/master/concat_ax0.png' width=450, align=\"left\"/>"
      ]
    },
    {
      "cell_type": "markdown",
      "metadata": {
        "id": "c6OmWbzqJ6sA"
      },
      "source": [
        "**1) 데이터 읽어오기**\n"
      ]
    },
    {
      "cell_type": "code",
      "execution_count": null,
      "metadata": {
        "colab": {
          "base_uri": "https://localhost:8080/"
        },
        "id": "z7r8xxi8J6sC",
        "outputId": "d13368b4-7732-4a20-b9ee-cbbeddcaa598",
        "scrolled": false
      },
      "outputs": [
        {
          "name": "stdout",
          "output_type": "stream",
          "text": [
            "   year  k_male  k_female  f_male  f_female\n",
            "0  1985    4788      4838       7         6\n",
            "1  1986    4899      4888       7         5\n",
            "2  1987    5000      4979       6         5\n",
            "3  1988    5156      5120       5         5\n",
            "4  1989    5305      5261       6         5\n"
          ]
        }
      ],
      "source": [
        "# 서울 인구정보 읽어오기 #1\n",
        "path = 'https://bit.ly/PopV01File'\n",
        "pop01 = pd.read_csv(path)\n",
        "\n",
        "# 확인\n",
        "print(pop01.head())"
      ]
    },
    {
      "cell_type": "code",
      "execution_count": null,
      "metadata": {
        "colab": {
          "base_uri": "https://localhost:8080/"
        },
        "id": "zN7wOKMwJ6sS",
        "outputId": "7abd241b-bf9d-4257-ccae-61f3d94ca8a2",
        "scrolled": false
      },
      "outputs": [
        {
          "name": "stdout",
          "output_type": "stream",
          "text": [
            "   year  k_male  k_female  f_male  f_female\n",
            "0  2001    5142      5122      34        34\n",
            "1  2002    5109      5098      36        37\n",
            "2  2003    5085      5089      49        54\n",
            "3  2004    5075      5098      54        61\n",
            "4  2005    5062      5105      61        68\n",
            "5  2006    5062      5119      83        92\n",
            "6  2007    5063      5130     111       118\n",
            "7  2008    5062      5139     123       132\n",
            "8  2009    5059      5149     122       134\n",
            "9  2010    5111      5201     125       137\n"
          ]
        }
      ],
      "source": [
        "# 서울 인구정보 읽어오기 #2\n",
        "path = 'https://bit.ly/PopV02File'\n",
        "pop02 = pd.read_csv(path)\n",
        "\n",
        "# 확인\n",
        "print(pop02.head(10))"
      ]
    },
    {
      "cell_type": "markdown",
      "metadata": {
        "id": "5EinAPQPJ6sT"
      },
      "source": [
        "**2) 데이터프레임 합치기**\n",
        "\n",
        "- 이제 **concat()** 함수를 사용해 두 데이터프레임을 합쳐봅니다.\n",
        "- 세로로 합치므로 **axis=0** 옵션을 지정하거나 생략합니다."
      ]
    },
    {
      "cell_type": "code",
      "execution_count": null,
      "metadata": {
        "colab": {
          "base_uri": "https://localhost:8080/"
        },
        "id": "M1pucV1cJ6sT",
        "outputId": "d896849d-d7fa-42f3-b307-c6ed99d6dfda",
        "scrolled": true
      },
      "outputs": [
        {
          "name": "stdout",
          "output_type": "stream",
          "text": [
            "    year  k_male  k_female  f_male  f_female\n",
            "0   1985    4788      4838       7         6\n",
            "1   1986    4899      4888       7         5\n",
            "2   1987    5000      4979       6         5\n",
            "3   1988    5156      5120       5         5\n",
            "4   1989    5305      5261       6         5\n",
            "5   1990    5321      5282       5         4\n",
            "6   1991    5468      5405      18        14\n",
            "7   1992    5500      5435      19        16\n",
            "8   1993    5478      5412      19        17\n",
            "9   1994    5409      5351      21        19\n",
            "10  1995    5302      5249      24        21\n",
            "11  1996    5231      5187      27        25\n",
            "12  1997    5187      5150      28        25\n",
            "13  1998    5147      5124      27        24\n",
            "14  1999    5141      5123      30        28\n",
            "15  2000    5167      5145      32        30\n",
            "0   2001    5142      5122      34        34\n",
            "1   2002    5109      5098      36        37\n",
            "2   2003    5085      5089      49        54\n",
            "3   2004    5075      5098      54        61\n",
            "4   2005    5062      5105      61        68\n",
            "5   2006    5062      5119      83        92\n",
            "6   2007    5063      5130     111       118\n",
            "7   2008    5062      5139     123       132\n",
            "8   2009    5059      5149     122       134\n",
            "9   2010    5111      5201     125       137\n"
          ]
        }
      ],
      "source": [
        "# 모든 헹 합치기\n",
        "pop = pd.concat([pop01, pop02], axis=0)\n",
        "\n",
        "# 확인\n",
        "print(pop)"
      ]
    },
    {
      "cell_type": "markdown",
      "metadata": {
        "id": "R-qgH4Npk2CB"
      },
      "source": [
        "- 세로로 합해지면 인덱스 값이 중복될 수 있으므로 인덱스를 재배열합니다."
      ]
    },
    {
      "cell_type": "code",
      "execution_count": null,
      "metadata": {
        "colab": {
          "base_uri": "https://localhost:8080/"
        },
        "id": "WFLv7qCpktak",
        "outputId": "d4633c9f-8bdc-4dbe-f6b4-a20ba4de81e1"
      },
      "outputs": [
        {
          "name": "stdout",
          "output_type": "stream",
          "text": [
            "    year  k_male  k_female  f_male  f_female\n",
            "0   1985    4788      4838       7         6\n",
            "1   1986    4899      4888       7         5\n",
            "2   1987    5000      4979       6         5\n",
            "3   1988    5156      5120       5         5\n",
            "4   1989    5305      5261       6         5\n",
            "5   1990    5321      5282       5         4\n",
            "6   1991    5468      5405      18        14\n",
            "7   1992    5500      5435      19        16\n",
            "8   1993    5478      5412      19        17\n",
            "9   1994    5409      5351      21        19\n",
            "10  1995    5302      5249      24        21\n",
            "11  1996    5231      5187      27        25\n",
            "12  1997    5187      5150      28        25\n",
            "13  1998    5147      5124      27        24\n",
            "14  1999    5141      5123      30        28\n",
            "15  2000    5167      5145      32        30\n",
            "16  2001    5142      5122      34        34\n",
            "17  2002    5109      5098      36        37\n",
            "18  2003    5085      5089      49        54\n",
            "19  2004    5075      5098      54        61\n",
            "20  2005    5062      5105      61        68\n",
            "21  2006    5062      5119      83        92\n",
            "22  2007    5063      5130     111       118\n",
            "23  2008    5062      5139     123       132\n",
            "24  2009    5059      5149     122       134\n",
            "25  2010    5111      5201     125       137\n"
          ]
        }
      ],
      "source": [
        "# 인덱스 재배열\n",
        "pop = pd.concat([pop01, pop02], axis=0, ignore_index=True)\n",
        "\n",
        "# 확인\n",
        "print(pop)"
      ]
    },
    {
      "cell_type": "markdown",
      "metadata": {
        "id": "0Cq3lmVb5oj2"
      },
      "source": [
        "### 5.2.데이터프레임 Merge(SQL에서의 Join!)\n",
        "\n",
        "- **merge()** 함수를 사용, 두 데이터프레임을 **지정한 칼럼** 값을 기준으로 **가로**로(옆으로)병합할 수 있습니다.\n",
        "    * **지정한 칼럼** : key 라고도 부릅니다. default는 같은 이름 칼럼입니다.\n",
        "    * merge는 **가로**로 만 병합할 수 있습니다."
      ]
    },
    {
      "cell_type": "markdown",
      "metadata": {
        "id": "KqOHu2W4C_0R"
      },
      "source": [
        "<img src='https://raw.githubusercontent.com/Jangrae/img/master/join.png' width=600, align=\"left\"/>"
      ]
    },
    {
      "cell_type": "markdown",
      "metadata": {
        "id": "npocTmMLLuQj"
      },
      "source": [
        "#### 5.2.1.데이터 읽어오기"
      ]
    },
    {
      "cell_type": "code",
      "execution_count": null,
      "metadata": {
        "id": "WGSai17VLuQ6",
        "scrolled": false
      },
      "outputs": [],
      "source": [
        "sales = pd.read_csv(\"https://raw.githubusercontent.com/DA4BAM/dataset/master/sales.csv\")\n",
        "products = pd.read_csv(\"https://raw.githubusercontent.com/DA4BAM/dataset/master/products.csv\")"
      ]
    },
    {
      "cell_type": "code",
      "execution_count": null,
      "metadata": {
        "id": "xsHvArJE5yVw",
        "outputId": "04dfb691-0394-435d-c97e-d187dd24cc66"
      },
      "outputs": [
        {
          "data": {
            "text/html": [
              "<div>\n",
              "<style scoped>\n",
              "    .dataframe tbody tr th:only-of-type {\n",
              "        vertical-align: middle;\n",
              "    }\n",
              "\n",
              "    .dataframe tbody tr th {\n",
              "        vertical-align: top;\n",
              "    }\n",
              "\n",
              "    .dataframe thead th {\n",
              "        text-align: right;\n",
              "    }\n",
              "</style>\n",
              "<table border=\"1\" class=\"dataframe\">\n",
              "  <thead>\n",
              "    <tr style=\"text-align: right;\">\n",
              "      <th></th>\n",
              "      <th>OrderID</th>\n",
              "      <th>Seq</th>\n",
              "      <th>OrderDate</th>\n",
              "      <th>ProductID</th>\n",
              "      <th>Qty</th>\n",
              "      <th>Amt</th>\n",
              "      <th>CustomerID</th>\n",
              "    </tr>\n",
              "  </thead>\n",
              "  <tbody>\n",
              "    <tr>\n",
              "      <th>0</th>\n",
              "      <td>107</td>\n",
              "      <td>2</td>\n",
              "      <td>2016-01-02</td>\n",
              "      <td>p1036481</td>\n",
              "      <td>2</td>\n",
              "      <td>2100</td>\n",
              "      <td>c150417</td>\n",
              "    </tr>\n",
              "    <tr>\n",
              "      <th>1</th>\n",
              "      <td>69</td>\n",
              "      <td>1</td>\n",
              "      <td>2016-01-02</td>\n",
              "      <td>p1152861</td>\n",
              "      <td>1</td>\n",
              "      <td>1091</td>\n",
              "      <td>c212716</td>\n",
              "    </tr>\n",
              "    <tr>\n",
              "      <th>2</th>\n",
              "      <td>69</td>\n",
              "      <td>7</td>\n",
              "      <td>2016-01-02</td>\n",
              "      <td>p1013161</td>\n",
              "      <td>1</td>\n",
              "      <td>2600</td>\n",
              "      <td>c212716</td>\n",
              "    </tr>\n",
              "    <tr>\n",
              "      <th>3</th>\n",
              "      <td>69</td>\n",
              "      <td>8</td>\n",
              "      <td>2016-01-02</td>\n",
              "      <td>p1005771</td>\n",
              "      <td>1</td>\n",
              "      <td>1650</td>\n",
              "      <td>c212716</td>\n",
              "    </tr>\n",
              "    <tr>\n",
              "      <th>4</th>\n",
              "      <td>69</td>\n",
              "      <td>11</td>\n",
              "      <td>2016-01-02</td>\n",
              "      <td>p1089531</td>\n",
              "      <td>1</td>\n",
              "      <td>2600</td>\n",
              "      <td>c212716</td>\n",
              "    </tr>\n",
              "  </tbody>\n",
              "</table>\n",
              "</div>"
            ],
            "text/plain": [
              "   OrderID  Seq   OrderDate ProductID  Qty   Amt CustomerID\n",
              "0      107    2  2016-01-02  p1036481    2  2100    c150417\n",
              "1       69    1  2016-01-02  p1152861    1  1091    c212716\n",
              "2       69    7  2016-01-02  p1013161    1  2600    c212716\n",
              "3       69    8  2016-01-02  p1005771    1  1650    c212716\n",
              "4       69   11  2016-01-02  p1089531    1  2600    c212716"
            ]
          },
          "execution_count": 33,
          "metadata": {},
          "output_type": "execute_result"
        }
      ],
      "source": [
        "sales.head()"
      ]
    },
    {
      "cell_type": "code",
      "execution_count": null,
      "metadata": {
        "id": "QITn0o-h5yVx",
        "outputId": "57aef46a-93ce-45dc-acab-ae0b4e6d6d17"
      },
      "outputs": [
        {
          "data": {
            "text/html": [
              "<div>\n",
              "<style scoped>\n",
              "    .dataframe tbody tr th:only-of-type {\n",
              "        vertical-align: middle;\n",
              "    }\n",
              "\n",
              "    .dataframe tbody tr th {\n",
              "        vertical-align: top;\n",
              "    }\n",
              "\n",
              "    .dataframe thead th {\n",
              "        text-align: right;\n",
              "    }\n",
              "</style>\n",
              "<table border=\"1\" class=\"dataframe\">\n",
              "  <thead>\n",
              "    <tr style=\"text-align: right;\">\n",
              "      <th></th>\n",
              "      <th>ProductID</th>\n",
              "      <th>ProductName</th>\n",
              "      <th>Category</th>\n",
              "      <th>SubCategory</th>\n",
              "      <th>CategoryOrd</th>\n",
              "    </tr>\n",
              "  </thead>\n",
              "  <tbody>\n",
              "    <tr>\n",
              "      <th>0</th>\n",
              "      <td>p1052661</td>\n",
              "      <td>새우깡</td>\n",
              "      <td>간식</td>\n",
              "      <td>과자</td>\n",
              "      <td>3</td>\n",
              "    </tr>\n",
              "    <tr>\n",
              "      <th>1</th>\n",
              "      <td>p1054261</td>\n",
              "      <td>고구마스틱</td>\n",
              "      <td>간식</td>\n",
              "      <td>과자</td>\n",
              "      <td>3</td>\n",
              "    </tr>\n",
              "    <tr>\n",
              "      <th>2</th>\n",
              "      <td>p1097821</td>\n",
              "      <td>짱구</td>\n",
              "      <td>간식</td>\n",
              "      <td>과자</td>\n",
              "      <td>3</td>\n",
              "    </tr>\n",
              "    <tr>\n",
              "      <th>3</th>\n",
              "      <td>p1097831</td>\n",
              "      <td>감자칩</td>\n",
              "      <td>간식</td>\n",
              "      <td>과자</td>\n",
              "      <td>3</td>\n",
              "    </tr>\n",
              "    <tr>\n",
              "      <th>4</th>\n",
              "      <td>p1119071</td>\n",
              "      <td>뿌셔뿌셔</td>\n",
              "      <td>간식</td>\n",
              "      <td>과자</td>\n",
              "      <td>3</td>\n",
              "    </tr>\n",
              "  </tbody>\n",
              "</table>\n",
              "</div>"
            ],
            "text/plain": [
              "  ProductID ProductName Category SubCategory  CategoryOrd\n",
              "0  p1052661         새우깡       간식          과자            3\n",
              "1  p1054261       고구마스틱       간식          과자            3\n",
              "2  p1097821          짱구       간식          과자            3\n",
              "3  p1097831         감자칩       간식          과자            3\n",
              "4  p1119071        뿌셔뿌셔       간식          과자            3"
            ]
          },
          "execution_count": 34,
          "metadata": {},
          "output_type": "execute_result"
        }
      ],
      "source": [
        "products.head()"
      ]
    },
    {
      "cell_type": "markdown",
      "metadata": {
        "id": "6DbFlvK6olV4"
      },
      "source": [
        "#### 5.2.2.inner 조인\n",
        "\n",
        "- 같은 이름의 열이 있으면 on 옵션을 지정하지 않아도 그 열을 기준으로 조인됩니다.\n",
        "- 그래도 기준 열을 명시적으로 지정해 주기를 권고합니다.\n",
        "- how='inner' 옵션은 기본 옵션값이므로 생략할 수 있습니다."
      ]
    },
    {
      "cell_type": "code",
      "execution_count": null,
      "metadata": {
        "id": "3OMVhexJ5yVx",
        "outputId": "883701e8-9c19-4d6e-afcf-8584357a2fdd"
      },
      "outputs": [
        {
          "data": {
            "text/html": [
              "<div>\n",
              "<style scoped>\n",
              "    .dataframe tbody tr th:only-of-type {\n",
              "        vertical-align: middle;\n",
              "    }\n",
              "\n",
              "    .dataframe tbody tr th {\n",
              "        vertical-align: top;\n",
              "    }\n",
              "\n",
              "    .dataframe thead th {\n",
              "        text-align: right;\n",
              "    }\n",
              "</style>\n",
              "<table border=\"1\" class=\"dataframe\">\n",
              "  <thead>\n",
              "    <tr style=\"text-align: right;\">\n",
              "      <th></th>\n",
              "      <th>OrderID</th>\n",
              "      <th>Seq</th>\n",
              "      <th>OrderDate</th>\n",
              "      <th>ProductID</th>\n",
              "      <th>Qty</th>\n",
              "      <th>Amt</th>\n",
              "      <th>CustomerID</th>\n",
              "      <th>ProductName</th>\n",
              "      <th>Category</th>\n",
              "      <th>SubCategory</th>\n",
              "      <th>CategoryOrd</th>\n",
              "    </tr>\n",
              "  </thead>\n",
              "  <tbody>\n",
              "    <tr>\n",
              "      <th>0</th>\n",
              "      <td>107</td>\n",
              "      <td>2</td>\n",
              "      <td>2016-01-02</td>\n",
              "      <td>p1036481</td>\n",
              "      <td>2</td>\n",
              "      <td>2100</td>\n",
              "      <td>c150417</td>\n",
              "      <td>순두부</td>\n",
              "      <td>반찬류</td>\n",
              "      <td>두부</td>\n",
              "      <td>1</td>\n",
              "    </tr>\n",
              "    <tr>\n",
              "      <th>1</th>\n",
              "      <td>137</td>\n",
              "      <td>4</td>\n",
              "      <td>2016-01-02</td>\n",
              "      <td>p1036481</td>\n",
              "      <td>2</td>\n",
              "      <td>2100</td>\n",
              "      <td>c280590</td>\n",
              "      <td>순두부</td>\n",
              "      <td>반찬류</td>\n",
              "      <td>두부</td>\n",
              "      <td>1</td>\n",
              "    </tr>\n",
              "    <tr>\n",
              "      <th>2</th>\n",
              "      <td>63</td>\n",
              "      <td>16</td>\n",
              "      <td>2016-01-03</td>\n",
              "      <td>p1036481</td>\n",
              "      <td>1</td>\n",
              "      <td>1050</td>\n",
              "      <td>c037915</td>\n",
              "      <td>순두부</td>\n",
              "      <td>반찬류</td>\n",
              "      <td>두부</td>\n",
              "      <td>1</td>\n",
              "    </tr>\n",
              "    <tr>\n",
              "      <th>3</th>\n",
              "      <td>135</td>\n",
              "      <td>3</td>\n",
              "      <td>2016-01-04</td>\n",
              "      <td>p1036481</td>\n",
              "      <td>3</td>\n",
              "      <td>3150</td>\n",
              "      <td>c100815</td>\n",
              "      <td>순두부</td>\n",
              "      <td>반찬류</td>\n",
              "      <td>두부</td>\n",
              "      <td>1</td>\n",
              "    </tr>\n",
              "    <tr>\n",
              "      <th>4</th>\n",
              "      <td>63</td>\n",
              "      <td>13</td>\n",
              "      <td>2016-01-06</td>\n",
              "      <td>p1036481</td>\n",
              "      <td>10</td>\n",
              "      <td>10500</td>\n",
              "      <td>c048405</td>\n",
              "      <td>순두부</td>\n",
              "      <td>반찬류</td>\n",
              "      <td>두부</td>\n",
              "      <td>1</td>\n",
              "    </tr>\n",
              "  </tbody>\n",
              "</table>\n",
              "</div>"
            ],
            "text/plain": [
              "   OrderID  Seq   OrderDate ProductID  Qty    Amt CustomerID ProductName  \\\n",
              "0      107    2  2016-01-02  p1036481    2   2100    c150417         순두부   \n",
              "1      137    4  2016-01-02  p1036481    2   2100    c280590         순두부   \n",
              "2       63   16  2016-01-03  p1036481    1   1050    c037915         순두부   \n",
              "3      135    3  2016-01-04  p1036481    3   3150    c100815         순두부   \n",
              "4       63   13  2016-01-06  p1036481   10  10500    c048405         순두부   \n",
              "\n",
              "  Category SubCategory  CategoryOrd  \n",
              "0      반찬류          두부            1  \n",
              "1      반찬류          두부            1  \n",
              "2      반찬류          두부            1  \n",
              "3      반찬류          두부            1  \n",
              "4      반찬류          두부            1  "
            ]
          },
          "execution_count": 35,
          "metadata": {},
          "output_type": "execute_result"
        }
      ],
      "source": [
        "# 공통된 칼럼이 있으면 그 칼럼을 key로 사용\n",
        "pd.merge(sales, products).head()"
      ]
    },
    {
      "cell_type": "code",
      "execution_count": null,
      "metadata": {
        "id": "u7-C_4pU5yVx",
        "outputId": "98ff9e7f-ac82-4f0b-f301-5fd871aab3a8"
      },
      "outputs": [
        {
          "data": {
            "text/html": [
              "<div>\n",
              "<style scoped>\n",
              "    .dataframe tbody tr th:only-of-type {\n",
              "        vertical-align: middle;\n",
              "    }\n",
              "\n",
              "    .dataframe tbody tr th {\n",
              "        vertical-align: top;\n",
              "    }\n",
              "\n",
              "    .dataframe thead th {\n",
              "        text-align: right;\n",
              "    }\n",
              "</style>\n",
              "<table border=\"1\" class=\"dataframe\">\n",
              "  <thead>\n",
              "    <tr style=\"text-align: right;\">\n",
              "      <th></th>\n",
              "      <th>OrderID</th>\n",
              "      <th>Seq</th>\n",
              "      <th>OrderDate</th>\n",
              "      <th>ProductID</th>\n",
              "      <th>Qty</th>\n",
              "      <th>Amt</th>\n",
              "      <th>CustomerID</th>\n",
              "      <th>ProductName</th>\n",
              "      <th>Category</th>\n",
              "      <th>SubCategory</th>\n",
              "      <th>CategoryOrd</th>\n",
              "    </tr>\n",
              "  </thead>\n",
              "  <tbody>\n",
              "    <tr>\n",
              "      <th>0</th>\n",
              "      <td>107</td>\n",
              "      <td>2</td>\n",
              "      <td>2016-01-02</td>\n",
              "      <td>p1036481</td>\n",
              "      <td>2</td>\n",
              "      <td>2100</td>\n",
              "      <td>c150417</td>\n",
              "      <td>순두부</td>\n",
              "      <td>반찬류</td>\n",
              "      <td>두부</td>\n",
              "      <td>1</td>\n",
              "    </tr>\n",
              "    <tr>\n",
              "      <th>1</th>\n",
              "      <td>137</td>\n",
              "      <td>4</td>\n",
              "      <td>2016-01-02</td>\n",
              "      <td>p1036481</td>\n",
              "      <td>2</td>\n",
              "      <td>2100</td>\n",
              "      <td>c280590</td>\n",
              "      <td>순두부</td>\n",
              "      <td>반찬류</td>\n",
              "      <td>두부</td>\n",
              "      <td>1</td>\n",
              "    </tr>\n",
              "    <tr>\n",
              "      <th>2</th>\n",
              "      <td>63</td>\n",
              "      <td>16</td>\n",
              "      <td>2016-01-03</td>\n",
              "      <td>p1036481</td>\n",
              "      <td>1</td>\n",
              "      <td>1050</td>\n",
              "      <td>c037915</td>\n",
              "      <td>순두부</td>\n",
              "      <td>반찬류</td>\n",
              "      <td>두부</td>\n",
              "      <td>1</td>\n",
              "    </tr>\n",
              "    <tr>\n",
              "      <th>3</th>\n",
              "      <td>135</td>\n",
              "      <td>3</td>\n",
              "      <td>2016-01-04</td>\n",
              "      <td>p1036481</td>\n",
              "      <td>3</td>\n",
              "      <td>3150</td>\n",
              "      <td>c100815</td>\n",
              "      <td>순두부</td>\n",
              "      <td>반찬류</td>\n",
              "      <td>두부</td>\n",
              "      <td>1</td>\n",
              "    </tr>\n",
              "    <tr>\n",
              "      <th>4</th>\n",
              "      <td>63</td>\n",
              "      <td>13</td>\n",
              "      <td>2016-01-06</td>\n",
              "      <td>p1036481</td>\n",
              "      <td>10</td>\n",
              "      <td>10500</td>\n",
              "      <td>c048405</td>\n",
              "      <td>순두부</td>\n",
              "      <td>반찬류</td>\n",
              "      <td>두부</td>\n",
              "      <td>1</td>\n",
              "    </tr>\n",
              "  </tbody>\n",
              "</table>\n",
              "</div>"
            ],
            "text/plain": [
              "   OrderID  Seq   OrderDate ProductID  Qty    Amt CustomerID ProductName  \\\n",
              "0      107    2  2016-01-02  p1036481    2   2100    c150417         순두부   \n",
              "1      137    4  2016-01-02  p1036481    2   2100    c280590         순두부   \n",
              "2       63   16  2016-01-03  p1036481    1   1050    c037915         순두부   \n",
              "3      135    3  2016-01-04  p1036481    3   3150    c100815         순두부   \n",
              "4       63   13  2016-01-06  p1036481   10  10500    c048405         순두부   \n",
              "\n",
              "  Category SubCategory  CategoryOrd  \n",
              "0      반찬류          두부            1  \n",
              "1      반찬류          두부            1  \n",
              "2      반찬류          두부            1  \n",
              "3      반찬류          두부            1  \n",
              "4      반찬류          두부            1  "
            ]
          },
          "execution_count": 36,
          "metadata": {},
          "output_type": "execute_result"
        }
      ],
      "source": [
        "# 공통된 칼럼을 key로 사용\n",
        "data = pd.merge(sales, products, on='ProductID')\n",
        "data.head()"
      ]
    },
    {
      "cell_type": "code",
      "execution_count": null,
      "metadata": {
        "id": "7-QIqj9m5yVx",
        "outputId": "a22d9b9d-8639-4d1d-b959-4751533c46d9"
      },
      "outputs": [
        {
          "data": {
            "text/html": [
              "<div>\n",
              "<style scoped>\n",
              "    .dataframe tbody tr th:only-of-type {\n",
              "        vertical-align: middle;\n",
              "    }\n",
              "\n",
              "    .dataframe tbody tr th {\n",
              "        vertical-align: top;\n",
              "    }\n",
              "\n",
              "    .dataframe thead th {\n",
              "        text-align: right;\n",
              "    }\n",
              "</style>\n",
              "<table border=\"1\" class=\"dataframe\">\n",
              "  <thead>\n",
              "    <tr style=\"text-align: right;\">\n",
              "      <th></th>\n",
              "      <th>OrderID</th>\n",
              "      <th>Seq</th>\n",
              "      <th>OrderDate</th>\n",
              "      <th>ProductID</th>\n",
              "      <th>Qty</th>\n",
              "      <th>Amt</th>\n",
              "      <th>CustomerID</th>\n",
              "      <th>ProductName</th>\n",
              "      <th>Category</th>\n",
              "      <th>SubCategory</th>\n",
              "      <th>CategoryOrd</th>\n",
              "    </tr>\n",
              "  </thead>\n",
              "  <tbody>\n",
              "    <tr>\n",
              "      <th>0</th>\n",
              "      <td>107</td>\n",
              "      <td>2</td>\n",
              "      <td>2016-01-02</td>\n",
              "      <td>p1036481</td>\n",
              "      <td>2</td>\n",
              "      <td>2100</td>\n",
              "      <td>c150417</td>\n",
              "      <td>순두부</td>\n",
              "      <td>반찬류</td>\n",
              "      <td>두부</td>\n",
              "      <td>1</td>\n",
              "    </tr>\n",
              "    <tr>\n",
              "      <th>1</th>\n",
              "      <td>137</td>\n",
              "      <td>4</td>\n",
              "      <td>2016-01-02</td>\n",
              "      <td>p1036481</td>\n",
              "      <td>2</td>\n",
              "      <td>2100</td>\n",
              "      <td>c280590</td>\n",
              "      <td>순두부</td>\n",
              "      <td>반찬류</td>\n",
              "      <td>두부</td>\n",
              "      <td>1</td>\n",
              "    </tr>\n",
              "    <tr>\n",
              "      <th>2</th>\n",
              "      <td>63</td>\n",
              "      <td>16</td>\n",
              "      <td>2016-01-03</td>\n",
              "      <td>p1036481</td>\n",
              "      <td>1</td>\n",
              "      <td>1050</td>\n",
              "      <td>c037915</td>\n",
              "      <td>순두부</td>\n",
              "      <td>반찬류</td>\n",
              "      <td>두부</td>\n",
              "      <td>1</td>\n",
              "    </tr>\n",
              "    <tr>\n",
              "      <th>3</th>\n",
              "      <td>135</td>\n",
              "      <td>3</td>\n",
              "      <td>2016-01-04</td>\n",
              "      <td>p1036481</td>\n",
              "      <td>3</td>\n",
              "      <td>3150</td>\n",
              "      <td>c100815</td>\n",
              "      <td>순두부</td>\n",
              "      <td>반찬류</td>\n",
              "      <td>두부</td>\n",
              "      <td>1</td>\n",
              "    </tr>\n",
              "    <tr>\n",
              "      <th>4</th>\n",
              "      <td>63</td>\n",
              "      <td>13</td>\n",
              "      <td>2016-01-06</td>\n",
              "      <td>p1036481</td>\n",
              "      <td>10</td>\n",
              "      <td>10500</td>\n",
              "      <td>c048405</td>\n",
              "      <td>순두부</td>\n",
              "      <td>반찬류</td>\n",
              "      <td>두부</td>\n",
              "      <td>1</td>\n",
              "    </tr>\n",
              "  </tbody>\n",
              "</table>\n",
              "</div>"
            ],
            "text/plain": [
              "   OrderID  Seq   OrderDate ProductID  Qty    Amt CustomerID ProductName  \\\n",
              "0      107    2  2016-01-02  p1036481    2   2100    c150417         순두부   \n",
              "1      137    4  2016-01-02  p1036481    2   2100    c280590         순두부   \n",
              "2       63   16  2016-01-03  p1036481    1   1050    c037915         순두부   \n",
              "3      135    3  2016-01-04  p1036481    3   3150    c100815         순두부   \n",
              "4       63   13  2016-01-06  p1036481   10  10500    c048405         순두부   \n",
              "\n",
              "  Category SubCategory  CategoryOrd  \n",
              "0      반찬류          두부            1  \n",
              "1      반찬류          두부            1  \n",
              "2      반찬류          두부            1  \n",
              "3      반찬류          두부            1  \n",
              "4      반찬류          두부            1  "
            ]
          },
          "execution_count": 18,
          "metadata": {},
          "output_type": "execute_result"
        }
      ],
      "source": [
        "# 조인\n",
        "idata = pd.merge(sales, products, on='ProductID', how='inner')\n",
        "idata.head()"
      ]
    },
    {
      "cell_type": "markdown",
      "metadata": {
        "id": "esr7F4UiMD6I"
      },
      "source": [
        "#### 5.2.3.outer 조인\n",
        "\n",
        "- how='outer' 옵션을 지정합니다."
      ]
    },
    {
      "cell_type": "code",
      "execution_count": null,
      "metadata": {
        "colab": {
          "base_uri": "https://localhost:8080/"
        },
        "id": "Zlbcjbb8MD6L",
        "outputId": "4ed30380-c1d1-4376-8345-0dac0032ccd3",
        "scrolled": false
      },
      "outputs": [
        {
          "data": {
            "text/html": [
              "<div>\n",
              "<style scoped>\n",
              "    .dataframe tbody tr th:only-of-type {\n",
              "        vertical-align: middle;\n",
              "    }\n",
              "\n",
              "    .dataframe tbody tr th {\n",
              "        vertical-align: top;\n",
              "    }\n",
              "\n",
              "    .dataframe thead th {\n",
              "        text-align: right;\n",
              "    }\n",
              "</style>\n",
              "<table border=\"1\" class=\"dataframe\">\n",
              "  <thead>\n",
              "    <tr style=\"text-align: right;\">\n",
              "      <th></th>\n",
              "      <th>OrderID</th>\n",
              "      <th>Seq</th>\n",
              "      <th>OrderDate</th>\n",
              "      <th>ProductID</th>\n",
              "      <th>Qty</th>\n",
              "      <th>Amt</th>\n",
              "      <th>CustomerID</th>\n",
              "      <th>ProductName</th>\n",
              "      <th>Category</th>\n",
              "      <th>SubCategory</th>\n",
              "      <th>CategoryOrd</th>\n",
              "    </tr>\n",
              "  </thead>\n",
              "  <tbody>\n",
              "    <tr>\n",
              "      <th>0</th>\n",
              "      <td>107</td>\n",
              "      <td>2</td>\n",
              "      <td>2016-01-02</td>\n",
              "      <td>p1036481</td>\n",
              "      <td>2</td>\n",
              "      <td>2100</td>\n",
              "      <td>c150417</td>\n",
              "      <td>순두부</td>\n",
              "      <td>반찬류</td>\n",
              "      <td>두부</td>\n",
              "      <td>1</td>\n",
              "    </tr>\n",
              "    <tr>\n",
              "      <th>1</th>\n",
              "      <td>137</td>\n",
              "      <td>4</td>\n",
              "      <td>2016-01-02</td>\n",
              "      <td>p1036481</td>\n",
              "      <td>2</td>\n",
              "      <td>2100</td>\n",
              "      <td>c280590</td>\n",
              "      <td>순두부</td>\n",
              "      <td>반찬류</td>\n",
              "      <td>두부</td>\n",
              "      <td>1</td>\n",
              "    </tr>\n",
              "    <tr>\n",
              "      <th>2</th>\n",
              "      <td>63</td>\n",
              "      <td>16</td>\n",
              "      <td>2016-01-03</td>\n",
              "      <td>p1036481</td>\n",
              "      <td>1</td>\n",
              "      <td>1050</td>\n",
              "      <td>c037915</td>\n",
              "      <td>순두부</td>\n",
              "      <td>반찬류</td>\n",
              "      <td>두부</td>\n",
              "      <td>1</td>\n",
              "    </tr>\n",
              "    <tr>\n",
              "      <th>3</th>\n",
              "      <td>135</td>\n",
              "      <td>3</td>\n",
              "      <td>2016-01-04</td>\n",
              "      <td>p1036481</td>\n",
              "      <td>3</td>\n",
              "      <td>3150</td>\n",
              "      <td>c100815</td>\n",
              "      <td>순두부</td>\n",
              "      <td>반찬류</td>\n",
              "      <td>두부</td>\n",
              "      <td>1</td>\n",
              "    </tr>\n",
              "    <tr>\n",
              "      <th>4</th>\n",
              "      <td>63</td>\n",
              "      <td>13</td>\n",
              "      <td>2016-01-06</td>\n",
              "      <td>p1036481</td>\n",
              "      <td>10</td>\n",
              "      <td>10500</td>\n",
              "      <td>c048405</td>\n",
              "      <td>순두부</td>\n",
              "      <td>반찬류</td>\n",
              "      <td>두부</td>\n",
              "      <td>1</td>\n",
              "    </tr>\n",
              "  </tbody>\n",
              "</table>\n",
              "</div>"
            ],
            "text/plain": [
              "   OrderID  Seq   OrderDate ProductID  Qty    Amt CustomerID ProductName  \\\n",
              "0      107    2  2016-01-02  p1036481    2   2100    c150417         순두부   \n",
              "1      137    4  2016-01-02  p1036481    2   2100    c280590         순두부   \n",
              "2       63   16  2016-01-03  p1036481    1   1050    c037915         순두부   \n",
              "3      135    3  2016-01-04  p1036481    3   3150    c100815         순두부   \n",
              "4       63   13  2016-01-06  p1036481   10  10500    c048405         순두부   \n",
              "\n",
              "  Category SubCategory  CategoryOrd  \n",
              "0      반찬류          두부            1  \n",
              "1      반찬류          두부            1  \n",
              "2      반찬류          두부            1  \n",
              "3      반찬류          두부            1  \n",
              "4      반찬류          두부            1  "
            ]
          },
          "execution_count": 19,
          "metadata": {},
          "output_type": "execute_result"
        }
      ],
      "source": [
        "# 조인\n",
        "odata = pd.merge(sales, products, on='ProductID',  how='outer')\n",
        "\n",
        "# 확인\n",
        "odata.head()"
      ]
    },
    {
      "cell_type": "markdown",
      "metadata": {
        "id": "nmswemY95yVy"
      },
      "source": [
        "<img src='https://raw.githubusercontent.com/jangrae/img/master/practice_01.png' width=120 align=\"left\"/>"
      ]
    },
    {
      "cell_type": "markdown",
      "metadata": {
        "id": "bBZyufoZ5yVy"
      },
      "source": [
        "### 결합1) Join(Merge) + groupby"
      ]
    },
    {
      "cell_type": "markdown",
      "metadata": {
        "id": "hcQnSzTy5yVy"
      },
      "source": [
        "[문1]  조인Join(Merge)"
      ]
    },
    {
      "cell_type": "markdown",
      "metadata": {
        "id": "UXqD_zmI5yVy"
      },
      "source": [
        "sales와 products를 ProductID 기준으로 merge하여 새로운 데이터프레임 data로 저장하고 내용을 확인합니다."
      ]
    },
    {
      "cell_type": "code",
      "execution_count": null,
      "metadata": {
        "id": "kDldE-Jd5yVy",
        "outputId": "a8fd5de8-33be-4747-f86e-f1aa6007f0a4"
      },
      "outputs": [
        {
          "data": {
            "text/html": [
              "<div>\n",
              "<style scoped>\n",
              "    .dataframe tbody tr th:only-of-type {\n",
              "        vertical-align: middle;\n",
              "    }\n",
              "\n",
              "    .dataframe tbody tr th {\n",
              "        vertical-align: top;\n",
              "    }\n",
              "\n",
              "    .dataframe thead th {\n",
              "        text-align: right;\n",
              "    }\n",
              "</style>\n",
              "<table border=\"1\" class=\"dataframe\">\n",
              "  <thead>\n",
              "    <tr style=\"text-align: right;\">\n",
              "      <th></th>\n",
              "      <th>OrderID</th>\n",
              "      <th>Seq</th>\n",
              "      <th>OrderDate</th>\n",
              "      <th>ProductID</th>\n",
              "      <th>Qty</th>\n",
              "      <th>Amt</th>\n",
              "      <th>CustomerID</th>\n",
              "      <th>ProductName</th>\n",
              "      <th>Category</th>\n",
              "      <th>SubCategory</th>\n",
              "      <th>CategoryOrd</th>\n",
              "    </tr>\n",
              "  </thead>\n",
              "  <tbody>\n",
              "    <tr>\n",
              "      <th>0</th>\n",
              "      <td>107</td>\n",
              "      <td>2</td>\n",
              "      <td>2016-01-02</td>\n",
              "      <td>p1036481</td>\n",
              "      <td>2</td>\n",
              "      <td>2100</td>\n",
              "      <td>c150417</td>\n",
              "      <td>순두부</td>\n",
              "      <td>반찬류</td>\n",
              "      <td>두부</td>\n",
              "      <td>1</td>\n",
              "    </tr>\n",
              "    <tr>\n",
              "      <th>1</th>\n",
              "      <td>137</td>\n",
              "      <td>4</td>\n",
              "      <td>2016-01-02</td>\n",
              "      <td>p1036481</td>\n",
              "      <td>2</td>\n",
              "      <td>2100</td>\n",
              "      <td>c280590</td>\n",
              "      <td>순두부</td>\n",
              "      <td>반찬류</td>\n",
              "      <td>두부</td>\n",
              "      <td>1</td>\n",
              "    </tr>\n",
              "    <tr>\n",
              "      <th>2</th>\n",
              "      <td>63</td>\n",
              "      <td>16</td>\n",
              "      <td>2016-01-03</td>\n",
              "      <td>p1036481</td>\n",
              "      <td>1</td>\n",
              "      <td>1050</td>\n",
              "      <td>c037915</td>\n",
              "      <td>순두부</td>\n",
              "      <td>반찬류</td>\n",
              "      <td>두부</td>\n",
              "      <td>1</td>\n",
              "    </tr>\n",
              "    <tr>\n",
              "      <th>3</th>\n",
              "      <td>135</td>\n",
              "      <td>3</td>\n",
              "      <td>2016-01-04</td>\n",
              "      <td>p1036481</td>\n",
              "      <td>3</td>\n",
              "      <td>3150</td>\n",
              "      <td>c100815</td>\n",
              "      <td>순두부</td>\n",
              "      <td>반찬류</td>\n",
              "      <td>두부</td>\n",
              "      <td>1</td>\n",
              "    </tr>\n",
              "    <tr>\n",
              "      <th>4</th>\n",
              "      <td>63</td>\n",
              "      <td>13</td>\n",
              "      <td>2016-01-06</td>\n",
              "      <td>p1036481</td>\n",
              "      <td>10</td>\n",
              "      <td>10500</td>\n",
              "      <td>c048405</td>\n",
              "      <td>순두부</td>\n",
              "      <td>반찬류</td>\n",
              "      <td>두부</td>\n",
              "      <td>1</td>\n",
              "    </tr>\n",
              "  </tbody>\n",
              "</table>\n",
              "</div>"
            ],
            "text/plain": [
              "   OrderID  Seq   OrderDate ProductID  Qty    Amt CustomerID ProductName  \\\n",
              "0      107    2  2016-01-02  p1036481    2   2100    c150417         순두부   \n",
              "1      137    4  2016-01-02  p1036481    2   2100    c280590         순두부   \n",
              "2       63   16  2016-01-03  p1036481    1   1050    c037915         순두부   \n",
              "3      135    3  2016-01-04  p1036481    3   3150    c100815         순두부   \n",
              "4       63   13  2016-01-06  p1036481   10  10500    c048405         순두부   \n",
              "\n",
              "  Category SubCategory  CategoryOrd  \n",
              "0      반찬류          두부            1  \n",
              "1      반찬류          두부            1  \n",
              "2      반찬류          두부            1  \n",
              "3      반찬류          두부            1  \n",
              "4      반찬류          두부            1  "
            ]
          },
          "execution_count": 21,
          "metadata": {},
          "output_type": "execute_result"
        }
      ],
      "source": [
        "data = pd.merge(sales, products, on='ProductID')\n",
        "data.head()"
      ]
    },
    {
      "cell_type": "markdown",
      "metadata": {
        "id": "1Yb70QRB5yVy"
      },
      "source": [
        "[문2] Category별 총 매출액(Amt) 조회"
      ]
    },
    {
      "cell_type": "code",
      "execution_count": null,
      "metadata": {
        "id": "hrp__tS95yV6",
        "outputId": "4e8d4024-e3f0-49ab-f27a-b8edff95acfc"
      },
      "outputs": [
        {
          "data": {
            "text/html": [
              "<div>\n",
              "<style scoped>\n",
              "    .dataframe tbody tr th:only-of-type {\n",
              "        vertical-align: middle;\n",
              "    }\n",
              "\n",
              "    .dataframe tbody tr th {\n",
              "        vertical-align: top;\n",
              "    }\n",
              "\n",
              "    .dataframe thead th {\n",
              "        text-align: right;\n",
              "    }\n",
              "</style>\n",
              "<table border=\"1\" class=\"dataframe\">\n",
              "  <thead>\n",
              "    <tr style=\"text-align: right;\">\n",
              "      <th></th>\n",
              "      <th>Category</th>\n",
              "      <th>Amt</th>\n",
              "    </tr>\n",
              "  </thead>\n",
              "  <tbody>\n",
              "    <tr>\n",
              "      <th>0</th>\n",
              "      <td>간식</td>\n",
              "      <td>12920570</td>\n",
              "    </tr>\n",
              "    <tr>\n",
              "      <th>1</th>\n",
              "      <td>과일</td>\n",
              "      <td>49789339</td>\n",
              "    </tr>\n",
              "    <tr>\n",
              "      <th>2</th>\n",
              "      <td>반찬류</td>\n",
              "      <td>32204820</td>\n",
              "    </tr>\n",
              "    <tr>\n",
              "      <th>3</th>\n",
              "      <td>유제품</td>\n",
              "      <td>45261956</td>\n",
              "    </tr>\n",
              "    <tr>\n",
              "      <th>4</th>\n",
              "      <td>채소</td>\n",
              "      <td>54822783</td>\n",
              "    </tr>\n",
              "  </tbody>\n",
              "</table>\n",
              "</div>"
            ],
            "text/plain": [
              "  Category       Amt\n",
              "0       간식  12920570\n",
              "1       과일  49789339\n",
              "2      반찬류  32204820\n",
              "3      유제품  45261956\n",
              "4       채소  54822783"
            ]
          },
          "execution_count": 34,
          "metadata": {},
          "output_type": "execute_result"
        }
      ],
      "source": [
        "data.groupby(by='Category', as_index=False)['Amt'].sum()"
      ]
    },
    {
      "cell_type": "markdown",
      "metadata": {
        "id": "6PpGhRNs5yV6"
      },
      "source": [
        "[문3] Category별 총 매출액(Qty) 조회"
      ]
    },
    {
      "cell_type": "code",
      "execution_count": null,
      "metadata": {
        "id": "KclgVJIC5yV6",
        "outputId": "8dabbaa9-f98c-4428-b56a-70d8d8d7ee7b"
      },
      "outputs": [
        {
          "data": {
            "text/html": [
              "<div>\n",
              "<style scoped>\n",
              "    .dataframe tbody tr th:only-of-type {\n",
              "        vertical-align: middle;\n",
              "    }\n",
              "\n",
              "    .dataframe tbody tr th {\n",
              "        vertical-align: top;\n",
              "    }\n",
              "\n",
              "    .dataframe thead th {\n",
              "        text-align: right;\n",
              "    }\n",
              "</style>\n",
              "<table border=\"1\" class=\"dataframe\">\n",
              "  <thead>\n",
              "    <tr style=\"text-align: right;\">\n",
              "      <th></th>\n",
              "      <th>Category</th>\n",
              "      <th>Qty</th>\n",
              "    </tr>\n",
              "  </thead>\n",
              "  <tbody>\n",
              "    <tr>\n",
              "      <th>0</th>\n",
              "      <td>간식</td>\n",
              "      <td>12130</td>\n",
              "    </tr>\n",
              "    <tr>\n",
              "      <th>1</th>\n",
              "      <td>과일</td>\n",
              "      <td>6786</td>\n",
              "    </tr>\n",
              "    <tr>\n",
              "      <th>2</th>\n",
              "      <td>반찬류</td>\n",
              "      <td>20210</td>\n",
              "    </tr>\n",
              "    <tr>\n",
              "      <th>3</th>\n",
              "      <td>유제품</td>\n",
              "      <td>19731</td>\n",
              "    </tr>\n",
              "    <tr>\n",
              "      <th>4</th>\n",
              "      <td>채소</td>\n",
              "      <td>27859</td>\n",
              "    </tr>\n",
              "  </tbody>\n",
              "</table>\n",
              "</div>"
            ],
            "text/plain": [
              "  Category    Qty\n",
              "0       간식  12130\n",
              "1       과일   6786\n",
              "2      반찬류  20210\n",
              "3      유제품  19731\n",
              "4       채소  27859"
            ]
          },
          "execution_count": 41,
          "metadata": {},
          "output_type": "execute_result"
        }
      ],
      "source": [
        "data.groupby(by='Category', as_index=False)['Qty'].sum()"
      ]
    },
    {
      "cell_type": "markdown",
      "metadata": {
        "id": "JQ-34n7P5yV6"
      },
      "source": [
        "[문4] 내림차순으로 가장 매출이 높은 상품명 10개 조회"
      ]
    },
    {
      "cell_type": "code",
      "execution_count": null,
      "metadata": {
        "id": "-XuMP9n25yV6",
        "outputId": "559c5cf8-2a36-464e-82a3-2a8a3837a525"
      },
      "outputs": [
        {
          "data": {
            "text/html": [
              "<div>\n",
              "<style scoped>\n",
              "    .dataframe tbody tr th:only-of-type {\n",
              "        vertical-align: middle;\n",
              "    }\n",
              "\n",
              "    .dataframe tbody tr th {\n",
              "        vertical-align: top;\n",
              "    }\n",
              "\n",
              "    .dataframe thead th {\n",
              "        text-align: right;\n",
              "    }\n",
              "</style>\n",
              "<table border=\"1\" class=\"dataframe\">\n",
              "  <thead>\n",
              "    <tr style=\"text-align: right;\">\n",
              "      <th></th>\n",
              "      <th>ProductName</th>\n",
              "      <th>Amt</th>\n",
              "    </tr>\n",
              "  </thead>\n",
              "  <tbody>\n",
              "    <tr>\n",
              "      <th>37</th>\n",
              "      <td>우유1000</td>\n",
              "      <td>18129067</td>\n",
              "    </tr>\n",
              "    <tr>\n",
              "      <th>23</th>\n",
              "      <td>사과_소</td>\n",
              "      <td>14078818</td>\n",
              "    </tr>\n",
              "    <tr>\n",
              "      <th>9</th>\n",
              "      <td>딸기_대</td>\n",
              "      <td>11011541</td>\n",
              "    </tr>\n",
              "    <tr>\n",
              "      <th>7</th>\n",
              "      <td>두부_대</td>\n",
              "      <td>10119037</td>\n",
              "    </tr>\n",
              "    <tr>\n",
              "      <th>10</th>\n",
              "      <td>딸기_소</td>\n",
              "      <td>7517664</td>\n",
              "    </tr>\n",
              "    <tr>\n",
              "      <th>8</th>\n",
              "      <td>두부_소</td>\n",
              "      <td>7319963</td>\n",
              "    </tr>\n",
              "    <tr>\n",
              "      <th>49</th>\n",
              "      <td>콩나물</td>\n",
              "      <td>6971347</td>\n",
              "    </tr>\n",
              "    <tr>\n",
              "      <th>39</th>\n",
              "      <td>유기농우유</td>\n",
              "      <td>6437323</td>\n",
              "    </tr>\n",
              "    <tr>\n",
              "      <th>50</th>\n",
              "      <td>토마토</td>\n",
              "      <td>6291001</td>\n",
              "    </tr>\n",
              "    <tr>\n",
              "      <th>43</th>\n",
              "      <td>참외</td>\n",
              "      <td>5491030</td>\n",
              "    </tr>\n",
              "  </tbody>\n",
              "</table>\n",
              "</div>"
            ],
            "text/plain": [
              "   ProductName       Amt\n",
              "37      우유1000  18129067\n",
              "23        사과_소  14078818\n",
              "9         딸기_대  11011541\n",
              "7         두부_대  10119037\n",
              "10        딸기_소   7517664\n",
              "8         두부_소   7319963\n",
              "49         콩나물   6971347\n",
              "39       유기농우유   6437323\n",
              "50         토마토   6291001\n",
              "43          참외   5491030"
            ]
          },
          "execution_count": 36,
          "metadata": {},
          "output_type": "execute_result"
        }
      ],
      "source": [
        "# 방법 1)\n",
        "data.groupby(by='ProductName', as_index=False)['Amt'].sum().sort_values(by='Amt', ascending=False).head(10)"
      ]
    },
    {
      "cell_type": "code",
      "execution_count": null,
      "metadata": {
        "id": "i6gaTkw85yV6",
        "outputId": "02b2af46-5c97-4070-9e13-464ba6055191"
      },
      "outputs": [
        {
          "data": {
            "text/html": [
              "<div>\n",
              "<style scoped>\n",
              "    .dataframe tbody tr th:only-of-type {\n",
              "        vertical-align: middle;\n",
              "    }\n",
              "\n",
              "    .dataframe tbody tr th {\n",
              "        vertical-align: top;\n",
              "    }\n",
              "\n",
              "    .dataframe thead th {\n",
              "        text-align: right;\n",
              "    }\n",
              "</style>\n",
              "<table border=\"1\" class=\"dataframe\">\n",
              "  <thead>\n",
              "    <tr style=\"text-align: right;\">\n",
              "      <th></th>\n",
              "      <th>ProductName</th>\n",
              "      <th>Amt</th>\n",
              "    </tr>\n",
              "  </thead>\n",
              "  <tbody>\n",
              "    <tr>\n",
              "      <th>37</th>\n",
              "      <td>우유1000</td>\n",
              "      <td>18129067</td>\n",
              "    </tr>\n",
              "    <tr>\n",
              "      <th>23</th>\n",
              "      <td>사과_소</td>\n",
              "      <td>14078818</td>\n",
              "    </tr>\n",
              "    <tr>\n",
              "      <th>9</th>\n",
              "      <td>딸기_대</td>\n",
              "      <td>11011541</td>\n",
              "    </tr>\n",
              "    <tr>\n",
              "      <th>7</th>\n",
              "      <td>두부_대</td>\n",
              "      <td>10119037</td>\n",
              "    </tr>\n",
              "    <tr>\n",
              "      <th>10</th>\n",
              "      <td>딸기_소</td>\n",
              "      <td>7517664</td>\n",
              "    </tr>\n",
              "    <tr>\n",
              "      <th>8</th>\n",
              "      <td>두부_소</td>\n",
              "      <td>7319963</td>\n",
              "    </tr>\n",
              "    <tr>\n",
              "      <th>49</th>\n",
              "      <td>콩나물</td>\n",
              "      <td>6971347</td>\n",
              "    </tr>\n",
              "    <tr>\n",
              "      <th>39</th>\n",
              "      <td>유기농우유</td>\n",
              "      <td>6437323</td>\n",
              "    </tr>\n",
              "    <tr>\n",
              "      <th>50</th>\n",
              "      <td>토마토</td>\n",
              "      <td>6291001</td>\n",
              "    </tr>\n",
              "    <tr>\n",
              "      <th>43</th>\n",
              "      <td>참외</td>\n",
              "      <td>5491030</td>\n",
              "    </tr>\n",
              "  </tbody>\n",
              "</table>\n",
              "</div>"
            ],
            "text/plain": [
              "   ProductName       Amt\n",
              "37      우유1000  18129067\n",
              "23        사과_소  14078818\n",
              "9         딸기_대  11011541\n",
              "7         두부_대  10119037\n",
              "10        딸기_소   7517664\n",
              "8         두부_소   7319963\n",
              "49         콩나물   6971347\n",
              "39       유기농우유   6437323\n",
              "50         토마토   6291001\n",
              "43          참외   5491030"
            ]
          },
          "execution_count": 39,
          "metadata": {},
          "output_type": "execute_result"
        }
      ],
      "source": [
        "# 방법 2)\n",
        "data2 = data.groupby(by='ProductName', as_index=False)['Amt'].sum()\n",
        "data2.sort_values(by='Amt', ascending=False).head(10)"
      ]
    },
    {
      "cell_type": "markdown",
      "metadata": {
        "id": "fd_GBjLY5yV6"
      },
      "source": [
        "### 결합2: 붙이기 concat"
      ]
    },
    {
      "cell_type": "markdown",
      "metadata": {
        "id": "C_HPBRxHA56R"
      },
      "source": [
        "[문1] 결합1의 문2의 결과를 dataframe con1으로 저장하고 내용을 확인하시오."
      ]
    },
    {
      "cell_type": "code",
      "execution_count": null,
      "metadata": {
        "id": "914EtI97A56Y",
        "outputId": "e472d79d-852c-4a98-abd2-ccdb02468c3e"
      },
      "outputs": [
        {
          "data": {
            "text/html": [
              "<div>\n",
              "<style scoped>\n",
              "    .dataframe tbody tr th:only-of-type {\n",
              "        vertical-align: middle;\n",
              "    }\n",
              "\n",
              "    .dataframe tbody tr th {\n",
              "        vertical-align: top;\n",
              "    }\n",
              "\n",
              "    .dataframe thead th {\n",
              "        text-align: right;\n",
              "    }\n",
              "</style>\n",
              "<table border=\"1\" class=\"dataframe\">\n",
              "  <thead>\n",
              "    <tr style=\"text-align: right;\">\n",
              "      <th></th>\n",
              "      <th>Category</th>\n",
              "      <th>Amt</th>\n",
              "    </tr>\n",
              "  </thead>\n",
              "  <tbody>\n",
              "    <tr>\n",
              "      <th>0</th>\n",
              "      <td>간식</td>\n",
              "      <td>12920570</td>\n",
              "    </tr>\n",
              "    <tr>\n",
              "      <th>1</th>\n",
              "      <td>과일</td>\n",
              "      <td>49789339</td>\n",
              "    </tr>\n",
              "    <tr>\n",
              "      <th>2</th>\n",
              "      <td>반찬류</td>\n",
              "      <td>32204820</td>\n",
              "    </tr>\n",
              "    <tr>\n",
              "      <th>3</th>\n",
              "      <td>유제품</td>\n",
              "      <td>45261956</td>\n",
              "    </tr>\n",
              "    <tr>\n",
              "      <th>4</th>\n",
              "      <td>채소</td>\n",
              "      <td>54822783</td>\n",
              "    </tr>\n",
              "  </tbody>\n",
              "</table>\n",
              "</div>"
            ],
            "text/plain": [
              "  Category       Amt\n",
              "0       간식  12920570\n",
              "1       과일  49789339\n",
              "2      반찬류  32204820\n",
              "3      유제품  45261956\n",
              "4       채소  54822783"
            ]
          },
          "execution_count": 75,
          "metadata": {},
          "output_type": "execute_result"
        }
      ],
      "source": [
        "con1 = data.groupby(by='Category', as_index=False)['Amt'].sum()\n",
        "con1.head()"
      ]
    },
    {
      "cell_type": "markdown",
      "metadata": {
        "id": "ByTwlGpm5yV7"
      },
      "source": [
        "[문2] 결합1의 문3 결과 데이터 중에서 세 개 head(3)를 con2로 저장하고 내용을 확인하시오."
      ]
    },
    {
      "cell_type": "code",
      "execution_count": null,
      "metadata": {
        "id": "roCz5AaQ5yV7",
        "outputId": "e1a1d9a2-369b-47a5-8c1b-eac0db865fd7"
      },
      "outputs": [
        {
          "data": {
            "text/html": [
              "<div>\n",
              "<style scoped>\n",
              "    .dataframe tbody tr th:only-of-type {\n",
              "        vertical-align: middle;\n",
              "    }\n",
              "\n",
              "    .dataframe tbody tr th {\n",
              "        vertical-align: top;\n",
              "    }\n",
              "\n",
              "    .dataframe thead th {\n",
              "        text-align: right;\n",
              "    }\n",
              "</style>\n",
              "<table border=\"1\" class=\"dataframe\">\n",
              "  <thead>\n",
              "    <tr style=\"text-align: right;\">\n",
              "      <th></th>\n",
              "      <th>Category</th>\n",
              "      <th>Qty</th>\n",
              "    </tr>\n",
              "  </thead>\n",
              "  <tbody>\n",
              "    <tr>\n",
              "      <th>0</th>\n",
              "      <td>간식</td>\n",
              "      <td>12130</td>\n",
              "    </tr>\n",
              "    <tr>\n",
              "      <th>1</th>\n",
              "      <td>과일</td>\n",
              "      <td>6786</td>\n",
              "    </tr>\n",
              "    <tr>\n",
              "      <th>2</th>\n",
              "      <td>반찬류</td>\n",
              "      <td>20210</td>\n",
              "    </tr>\n",
              "  </tbody>\n",
              "</table>\n",
              "</div>"
            ],
            "text/plain": [
              "  Category    Qty\n",
              "0       간식  12130\n",
              "1       과일   6786\n",
              "2      반찬류  20210"
            ]
          },
          "execution_count": 76,
          "metadata": {},
          "output_type": "execute_result"
        }
      ],
      "source": [
        "con2 = data.groupby(by='Category', as_index=False)['Qty'].sum().head(3)\n",
        "con2.head()"
      ]
    },
    {
      "cell_type": "markdown",
      "metadata": {
        "id": "V0-wQmv0vNr4"
      },
      "source": [
        "[문3] 두 데이터프레임을 가로(열)로 붙이기 axis = 1"
      ]
    },
    {
      "cell_type": "code",
      "execution_count": null,
      "metadata": {
        "colab": {
          "base_uri": "https://localhost:8080/"
        },
        "id": "pBM99bMivNr6",
        "outputId": "4d99d057-e0e5-40ee-e332-ae304a618be4"
      },
      "outputs": [
        {
          "data": {
            "text/html": [
              "<div>\n",
              "<style scoped>\n",
              "    .dataframe tbody tr th:only-of-type {\n",
              "        vertical-align: middle;\n",
              "    }\n",
              "\n",
              "    .dataframe tbody tr th {\n",
              "        vertical-align: top;\n",
              "    }\n",
              "\n",
              "    .dataframe thead th {\n",
              "        text-align: right;\n",
              "    }\n",
              "</style>\n",
              "<table border=\"1\" class=\"dataframe\">\n",
              "  <thead>\n",
              "    <tr style=\"text-align: right;\">\n",
              "      <th></th>\n",
              "      <th>Category</th>\n",
              "      <th>Amt</th>\n",
              "      <th>Category</th>\n",
              "      <th>Qty</th>\n",
              "    </tr>\n",
              "  </thead>\n",
              "  <tbody>\n",
              "    <tr>\n",
              "      <th>0</th>\n",
              "      <td>간식</td>\n",
              "      <td>12920570</td>\n",
              "      <td>간식</td>\n",
              "      <td>12130.0</td>\n",
              "    </tr>\n",
              "    <tr>\n",
              "      <th>1</th>\n",
              "      <td>과일</td>\n",
              "      <td>49789339</td>\n",
              "      <td>과일</td>\n",
              "      <td>6786.0</td>\n",
              "    </tr>\n",
              "    <tr>\n",
              "      <th>2</th>\n",
              "      <td>반찬류</td>\n",
              "      <td>32204820</td>\n",
              "      <td>반찬류</td>\n",
              "      <td>20210.0</td>\n",
              "    </tr>\n",
              "    <tr>\n",
              "      <th>3</th>\n",
              "      <td>유제품</td>\n",
              "      <td>45261956</td>\n",
              "      <td>NaN</td>\n",
              "      <td>NaN</td>\n",
              "    </tr>\n",
              "    <tr>\n",
              "      <th>4</th>\n",
              "      <td>채소</td>\n",
              "      <td>54822783</td>\n",
              "      <td>NaN</td>\n",
              "      <td>NaN</td>\n",
              "    </tr>\n",
              "  </tbody>\n",
              "</table>\n",
              "</div>"
            ],
            "text/plain": [
              "  Category       Amt Category      Qty\n",
              "0       간식  12920570       간식  12130.0\n",
              "1       과일  49789339       과일   6786.0\n",
              "2      반찬류  32204820      반찬류  20210.0\n",
              "3      유제품  45261956      NaN      NaN\n",
              "4       채소  54822783      NaN      NaN"
            ]
          },
          "execution_count": 77,
          "metadata": {},
          "output_type": "execute_result"
        }
      ],
      "source": [
        "# 가로(열)로 붙이기 axis = 1, 방법- outer\n",
        "pd.concat([con1, con2], axis=1, join='outer')"
      ]
    },
    {
      "cell_type": "code",
      "execution_count": null,
      "metadata": {
        "id": "JHAtOkk05yV7",
        "outputId": "e3384a78-94de-4b9c-8693-236bb387936f"
      },
      "outputs": [
        {
          "data": {
            "text/html": [
              "<div>\n",
              "<style scoped>\n",
              "    .dataframe tbody tr th:only-of-type {\n",
              "        vertical-align: middle;\n",
              "    }\n",
              "\n",
              "    .dataframe tbody tr th {\n",
              "        vertical-align: top;\n",
              "    }\n",
              "\n",
              "    .dataframe thead th {\n",
              "        text-align: right;\n",
              "    }\n",
              "</style>\n",
              "<table border=\"1\" class=\"dataframe\">\n",
              "  <thead>\n",
              "    <tr style=\"text-align: right;\">\n",
              "      <th></th>\n",
              "      <th>Category</th>\n",
              "      <th>Amt</th>\n",
              "      <th>Category</th>\n",
              "      <th>Qty</th>\n",
              "    </tr>\n",
              "  </thead>\n",
              "  <tbody>\n",
              "    <tr>\n",
              "      <th>0</th>\n",
              "      <td>간식</td>\n",
              "      <td>12920570</td>\n",
              "      <td>간식</td>\n",
              "      <td>12130</td>\n",
              "    </tr>\n",
              "    <tr>\n",
              "      <th>1</th>\n",
              "      <td>과일</td>\n",
              "      <td>49789339</td>\n",
              "      <td>과일</td>\n",
              "      <td>6786</td>\n",
              "    </tr>\n",
              "    <tr>\n",
              "      <th>2</th>\n",
              "      <td>반찬류</td>\n",
              "      <td>32204820</td>\n",
              "      <td>반찬류</td>\n",
              "      <td>20210</td>\n",
              "    </tr>\n",
              "  </tbody>\n",
              "</table>\n",
              "</div>"
            ],
            "text/plain": [
              "  Category       Amt Category    Qty\n",
              "0       간식  12920570       간식  12130\n",
              "1       과일  49789339       과일   6786\n",
              "2      반찬류  32204820      반찬류  20210"
            ]
          },
          "execution_count": 78,
          "metadata": {},
          "output_type": "execute_result"
        }
      ],
      "source": [
        "# 가로(열)로 붙이기 axis = 1, 방법- inner\n",
        "pd.concat([con1, con2], axis=1, join='inner')"
      ]
    },
    {
      "cell_type": "markdown",
      "metadata": {
        "id": "QfgvRcTvEIfQ"
      },
      "source": [
        "[문4] 두 데이터프레임 세로(행)으로 붙이기 axis = 0"
      ]
    },
    {
      "cell_type": "code",
      "execution_count": null,
      "metadata": {
        "colab": {
          "base_uri": "https://localhost:8080/"
        },
        "id": "_2UJfoL4Deyq",
        "outputId": "06c5e007-abbf-458b-a595-9b7b2b74256c"
      },
      "outputs": [
        {
          "data": {
            "text/html": [
              "<div>\n",
              "<style scoped>\n",
              "    .dataframe tbody tr th:only-of-type {\n",
              "        vertical-align: middle;\n",
              "    }\n",
              "\n",
              "    .dataframe tbody tr th {\n",
              "        vertical-align: top;\n",
              "    }\n",
              "\n",
              "    .dataframe thead th {\n",
              "        text-align: right;\n",
              "    }\n",
              "</style>\n",
              "<table border=\"1\" class=\"dataframe\">\n",
              "  <thead>\n",
              "    <tr style=\"text-align: right;\">\n",
              "      <th></th>\n",
              "      <th>Category</th>\n",
              "      <th>Amt</th>\n",
              "      <th>Qty</th>\n",
              "    </tr>\n",
              "  </thead>\n",
              "  <tbody>\n",
              "    <tr>\n",
              "      <th>0</th>\n",
              "      <td>간식</td>\n",
              "      <td>12920570.0</td>\n",
              "      <td>NaN</td>\n",
              "    </tr>\n",
              "    <tr>\n",
              "      <th>1</th>\n",
              "      <td>과일</td>\n",
              "      <td>49789339.0</td>\n",
              "      <td>NaN</td>\n",
              "    </tr>\n",
              "    <tr>\n",
              "      <th>2</th>\n",
              "      <td>반찬류</td>\n",
              "      <td>32204820.0</td>\n",
              "      <td>NaN</td>\n",
              "    </tr>\n",
              "    <tr>\n",
              "      <th>3</th>\n",
              "      <td>유제품</td>\n",
              "      <td>45261956.0</td>\n",
              "      <td>NaN</td>\n",
              "    </tr>\n",
              "    <tr>\n",
              "      <th>4</th>\n",
              "      <td>채소</td>\n",
              "      <td>54822783.0</td>\n",
              "      <td>NaN</td>\n",
              "    </tr>\n",
              "    <tr>\n",
              "      <th>0</th>\n",
              "      <td>간식</td>\n",
              "      <td>NaN</td>\n",
              "      <td>12130.0</td>\n",
              "    </tr>\n",
              "    <tr>\n",
              "      <th>1</th>\n",
              "      <td>과일</td>\n",
              "      <td>NaN</td>\n",
              "      <td>6786.0</td>\n",
              "    </tr>\n",
              "    <tr>\n",
              "      <th>2</th>\n",
              "      <td>반찬류</td>\n",
              "      <td>NaN</td>\n",
              "      <td>20210.0</td>\n",
              "    </tr>\n",
              "  </tbody>\n",
              "</table>\n",
              "</div>"
            ],
            "text/plain": [
              "  Category         Amt      Qty\n",
              "0       간식  12920570.0      NaN\n",
              "1       과일  49789339.0      NaN\n",
              "2      반찬류  32204820.0      NaN\n",
              "3      유제품  45261956.0      NaN\n",
              "4       채소  54822783.0      NaN\n",
              "0       간식         NaN  12130.0\n",
              "1       과일         NaN   6786.0\n",
              "2      반찬류         NaN  20210.0"
            ]
          },
          "execution_count": 79,
          "metadata": {},
          "output_type": "execute_result"
        }
      ],
      "source": [
        "# 세로(행)으로 붙이기 axis = 0, 방법- outer\n",
        "pd.concat([con1, con2], axis=0, join='outer')"
      ]
    },
    {
      "cell_type": "code",
      "execution_count": null,
      "metadata": {
        "id": "AImwpUDk5yV7",
        "outputId": "5f26f187-06b0-485c-8250-90b158db7d56"
      },
      "outputs": [
        {
          "data": {
            "text/html": [
              "<div>\n",
              "<style scoped>\n",
              "    .dataframe tbody tr th:only-of-type {\n",
              "        vertical-align: middle;\n",
              "    }\n",
              "\n",
              "    .dataframe tbody tr th {\n",
              "        vertical-align: top;\n",
              "    }\n",
              "\n",
              "    .dataframe thead th {\n",
              "        text-align: right;\n",
              "    }\n",
              "</style>\n",
              "<table border=\"1\" class=\"dataframe\">\n",
              "  <thead>\n",
              "    <tr style=\"text-align: right;\">\n",
              "      <th></th>\n",
              "      <th>Category</th>\n",
              "    </tr>\n",
              "  </thead>\n",
              "  <tbody>\n",
              "    <tr>\n",
              "      <th>0</th>\n",
              "      <td>간식</td>\n",
              "    </tr>\n",
              "    <tr>\n",
              "      <th>1</th>\n",
              "      <td>과일</td>\n",
              "    </tr>\n",
              "    <tr>\n",
              "      <th>2</th>\n",
              "      <td>반찬류</td>\n",
              "    </tr>\n",
              "    <tr>\n",
              "      <th>3</th>\n",
              "      <td>유제품</td>\n",
              "    </tr>\n",
              "    <tr>\n",
              "      <th>4</th>\n",
              "      <td>채소</td>\n",
              "    </tr>\n",
              "    <tr>\n",
              "      <th>0</th>\n",
              "      <td>간식</td>\n",
              "    </tr>\n",
              "    <tr>\n",
              "      <th>1</th>\n",
              "      <td>과일</td>\n",
              "    </tr>\n",
              "    <tr>\n",
              "      <th>2</th>\n",
              "      <td>반찬류</td>\n",
              "    </tr>\n",
              "  </tbody>\n",
              "</table>\n",
              "</div>"
            ],
            "text/plain": [
              "  Category\n",
              "0       간식\n",
              "1       과일\n",
              "2      반찬류\n",
              "3      유제품\n",
              "4       채소\n",
              "0       간식\n",
              "1       과일\n",
              "2      반찬류"
            ]
          },
          "execution_count": 81,
          "metadata": {},
          "output_type": "execute_result"
        }
      ],
      "source": [
        "# 세로(행)으로 붙이기 axis = 0, 방법- inner\n",
        "pd.concat([con1, con2], axis=0, join='inner')"
      ]
    }
  ],
  "metadata": {
    "colab": {
      "collapsed_sections": [
        "jl_baUE2RqmT"
      ],
      "provenance": [],
      "toc_visible": true
    },
    "kernelspec": {
      "display_name": "Python 3 (ipykernel)",
      "language": "python",
      "name": "python3"
    },
    "language_info": {
      "codemirror_mode": {
        "name": "ipython",
        "version": 3
      },
      "file_extension": ".py",
      "mimetype": "text/x-python",
      "name": "python",
      "nbconvert_exporter": "python",
      "pygments_lexer": "ipython3",
      "version": "3.9.12"
    }
  },
  "nbformat": 4,
  "nbformat_minor": 0
}