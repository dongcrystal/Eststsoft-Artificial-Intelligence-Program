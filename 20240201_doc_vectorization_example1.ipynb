{
  "cells": [
    {
      "cell_type": "code",
      "execution_count": null,
      "metadata": {
        "id": "nX-frapKXuBi"
      },
      "outputs": [],
      "source": [
        "import numpy as np\n",
        "import pandas as pd\n",
        "from sklearn.feature_extraction.text import CountVectorizer # frequency based DTM\n",
        "from sklearn.feature_extraction.text import TfidfVectorizer # tf-idf based DTM"
      ]
    },
    {
      "cell_type": "code",
      "execution_count": null,
      "metadata": {
        "id": "6Ntl-Bc4XuBj"
      },
      "outputs": [],
      "source": [
        "TEXT = ['banana apple apple eggplant',\n",
        "        'orange carrot banana eggplant',\n",
        "        'apple carrot banana banana',\n",
        "        'orange banana grape'\n",
        "]"
      ]
    },
    {
      "cell_type": "markdown",
      "metadata": {
        "id": "4EyEbqsuXuBj"
      },
      "source": [
        "# CountVectorizer 이용하기"
      ]
    },
    {
      "cell_type": "code",
      "execution_count": null,
      "metadata": {
        "id": "CBOxnv8AXuBk"
      },
      "outputs": [],
      "source": [
        "tf_vectorizer = CountVectorizer(min_df=1, ngram_range=(1,1))\n",
        "tf_features = tf_vectorizer.fit_transform(TEXT)"
      ]
    },
    {
      "cell_type": "code",
      "execution_count": null,
      "metadata": {
        "id": "FF_qSYScXuBk",
        "outputId": "f5d24221-430a-4700-bb0c-1b0ed41eb443"
      },
      "outputs": [
        {
          "data": {
            "text/plain": [
              "<4x6 sparse matrix of type '<class 'numpy.int64'>'\n",
              "\twith 13 stored elements in Compressed Sparse Row format>"
            ]
          },
          "execution_count": 5,
          "metadata": {},
          "output_type": "execute_result"
        }
      ],
      "source": [
        "tf_features"
      ]
    },
    {
      "cell_type": "code",
      "execution_count": null,
      "metadata": {
        "id": "dyPZd4WpXuBk",
        "outputId": "ef2bb2e5-6f51-41da-c077-5148e28e21d7"
      },
      "outputs": [
        {
          "data": {
            "text/plain": [
              "array([[2, 1, 0, 1, 0, 0],\n",
              "       [0, 1, 1, 1, 0, 1],\n",
              "       [1, 2, 1, 0, 0, 0],\n",
              "       [0, 1, 0, 0, 1, 1]], dtype=int64)"
            ]
          },
          "execution_count": 5,
          "metadata": {},
          "output_type": "execute_result"
        }
      ],
      "source": [
        "features = np.array(tf_features.todense())\n",
        "features"
      ]
    },
    {
      "cell_type": "code",
      "execution_count": null,
      "metadata": {
        "id": "t5320eNPXuBk",
        "outputId": "20d38836-2cbc-4628-ad57-73d507aba77f"
      },
      "outputs": [
        {
          "data": {
            "text/plain": [
              "array([[2, 1, 0, 1, 0, 0],\n",
              "       [0, 1, 1, 1, 0, 1],\n",
              "       [1, 2, 1, 0, 0, 0],\n",
              "       [0, 1, 0, 0, 1, 1]], dtype=int64)"
            ]
          },
          "execution_count": 8,
          "metadata": {},
          "output_type": "execute_result"
        }
      ],
      "source": [
        "features"
      ]
    },
    {
      "cell_type": "code",
      "execution_count": null,
      "metadata": {
        "id": "epyvNVCIXuBl",
        "outputId": "30f47055-d05e-4be9-dc16-6fa15cbab696"
      },
      "outputs": [
        {
          "data": {
            "text/plain": [
              "array([2, 1, 0, 1, 0, 0], dtype=int64)"
            ]
          },
          "execution_count": 9,
          "metadata": {},
          "output_type": "execute_result"
        }
      ],
      "source": [
        "features[0]"
      ]
    },
    {
      "cell_type": "code",
      "execution_count": null,
      "metadata": {
        "id": "v9SZ6EiMXuBl",
        "outputId": "85863f48-3578-4494-f5a9-46cdfb9c83ea"
      },
      "outputs": [
        {
          "data": {
            "text/plain": [
              "array([0, 1, 1, 1, 0, 1], dtype=int64)"
            ]
          },
          "execution_count": 10,
          "metadata": {},
          "output_type": "execute_result"
        }
      ],
      "source": [
        "features[1]"
      ]
    },
    {
      "cell_type": "code",
      "execution_count": null,
      "metadata": {
        "id": "QYXyBLiPXuBl"
      },
      "outputs": [],
      "source": []
    },
    {
      "cell_type": "code",
      "execution_count": null,
      "metadata": {
        "id": "R-aKVz0EXuBl",
        "outputId": "39ee50b9-5c49-42ab-b645-3cb6a4730f68"
      },
      "outputs": [
        {
          "data": {
            "text/plain": [
              "2.449489742783178"
            ]
          },
          "execution_count": 9,
          "metadata": {},
          "output_type": "execute_result"
        }
      ],
      "source": [
        "np.linalg.norm(features[1]-features[0])"
      ]
    },
    {
      "cell_type": "code",
      "execution_count": null,
      "metadata": {
        "id": "xnHjgo-EXuBl",
        "outputId": "eff81118-c72e-4024-dda5-a338ceca148e"
      },
      "outputs": [
        {
          "data": {
            "text/plain": [
              "2.0"
            ]
          },
          "execution_count": 10,
          "metadata": {},
          "output_type": "execute_result"
        }
      ],
      "source": [
        "np.linalg.norm(features[1]-features[2])"
      ]
    },
    {
      "cell_type": "code",
      "execution_count": null,
      "metadata": {
        "id": "Y_mNXvZUXuBl",
        "outputId": "0dfd1793-c2a3-4d62-bc17-24ea639dd068"
      },
      "outputs": [
        {
          "data": {
            "text/plain": [
              "['apple', 'banana', 'carrot', 'eggplant', 'grape', 'orange']"
            ]
          },
          "execution_count": 7,
          "metadata": {},
          "output_type": "execute_result"
        }
      ],
      "source": [
        "feature_names = tf_vectorizer.get_feature_names()\n",
        "feature_names"
      ]
    },
    {
      "cell_type": "code",
      "execution_count": null,
      "metadata": {
        "id": "K7O4p5iUXuBl",
        "outputId": "1b254537-9049-4027-c039-10de2488e2ef"
      },
      "outputs": [
        {
          "name": "stdout",
          "output_type": "stream",
          "text": [
            "   apple  banana  carrot  eggplant  grape  orange\n",
            "0      2       1       0         1      0       0\n",
            "1      0       1       1         1      0       1\n",
            "2      1       2       1         0      0       0\n",
            "3      0       1       0         0      1       1\n"
          ]
        }
      ],
      "source": [
        "import pandas as pd\n",
        "df = pd.DataFrame(data=features, columns=feature_names)\n",
        "print(df)"
      ]
    },
    {
      "cell_type": "markdown",
      "metadata": {
        "id": "Yc6vgTVPXuBl"
      },
      "source": [
        "# TfidfVectorizer 이용하기"
      ]
    },
    {
      "cell_type": "code",
      "execution_count": null,
      "metadata": {
        "id": "rU8BypLjXuBm"
      },
      "outputs": [],
      "source": [
        "tfidf_vectorizer = TfidfVectorizer(min_df=1, ngram_range=(1,1))\n",
        "tfidf_features = tfidf_vectorizer.fit_transform(TEXT)"
      ]
    },
    {
      "cell_type": "code",
      "execution_count": null,
      "metadata": {
        "id": "upr5TvKjXuBm",
        "outputId": "86cb47dd-84f8-49b8-bba2-cdad63203a16"
      },
      "outputs": [
        {
          "data": {
            "text/plain": [
              "array([[0.85764287, 0.28383251, 0.        , 0.42882143, 0.        ,\n",
              "        0.        ],\n",
              "       [0.        , 0.35696573, 0.53931298, 0.53931298, 0.        ,\n",
              "        0.53931298],\n",
              "       [0.51623315, 0.68337886, 0.51623315, 0.        , 0.        ,\n",
              "        0.        ],\n",
              "       [0.        , 0.37919167, 0.        , 0.        , 0.72664149,\n",
              "        0.5728925 ]])"
            ]
          },
          "execution_count": 7,
          "metadata": {},
          "output_type": "execute_result"
        }
      ],
      "source": [
        "tfidf_features = np.array(tfidf_features.todense())\n",
        "tfidf_features"
      ]
    },
    {
      "cell_type": "code",
      "execution_count": null,
      "metadata": {
        "id": "alEo48nZXuBm",
        "outputId": "6160e9a9-10dd-45f9-ba98-0b271a492716"
      },
      "outputs": [
        {
          "data": {
            "text/plain": [
              "array([0.85764287, 0.28383251, 0.        , 0.42882143, 0.        ,\n",
              "       0.        ])"
            ]
          },
          "execution_count": 8,
          "metadata": {},
          "output_type": "execute_result"
        }
      ],
      "source": [
        "tfidf_features[0]"
      ]
    },
    {
      "cell_type": "code",
      "execution_count": null,
      "metadata": {
        "id": "V5zuZSfuXuBm"
      },
      "outputs": [],
      "source": []
    }
  ],
  "metadata": {
    "kernelspec": {
      "display_name": "Python 3",
      "language": "python",
      "name": "python3"
    },
    "language_info": {
      "codemirror_mode": {
        "name": "ipython",
        "version": 3
      },
      "file_extension": ".py",
      "mimetype": "text/x-python",
      "name": "python",
      "nbconvert_exporter": "python",
      "pygments_lexer": "ipython3",
      "version": "3.8.5"
    },
    "colab": {
      "provenance": []
    }
  },
  "nbformat": 4,
  "nbformat_minor": 0
}