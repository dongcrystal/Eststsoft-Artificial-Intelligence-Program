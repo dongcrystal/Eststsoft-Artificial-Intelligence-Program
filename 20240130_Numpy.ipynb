{
  "cells": [
    {
      "cell_type": "markdown",
      "metadata": {
        "id": "JY4D1wxOa6qj"
      },
      "source": [
        "\n",
        "![](https://upload.wikimedia.org/wikipedia/commons/thumb/3/31/NumPy_logo_2020.svg/330px-NumPy_logo_2020.svg.png)"
      ]
    },
    {
      "cell_type": "markdown",
      "metadata": {
        "id": "BFhIXgdYoYGp"
      },
      "source": [
        "# 01. 넘파이 기초"
      ]
    },
    {
      "cell_type": "markdown",
      "metadata": {
        "id": "knW4AvmePAtI"
      },
      "source": [
        "학습 목표\n",
        "\n",
        "- Numpy 배열의 기본 개념을 이해합니다.\n",
        "- 1차원, 2차원, 3차원 배열을 만들 수 있습니다.\n",
        "- 인덱싱과 슬라이싱으로 원하는 데이터를 조회할 수 있습니다.\n",
        "- 배열 사이의 기본적인 연산을 수행할 수 있습니다."
      ]
    },
    {
      "cell_type": "markdown",
      "metadata": {
        "id": "1QmK9QLhVqv1"
      },
      "source": [
        "## 1.라이브러리 불러오기\n",
        "\n",
        "- Numpy 배열을 사용하려면 우선 **numpy** 라이브러리를 불러와야 합니다.\n",
        "- numpy 라이브러리는 일반적으로 **np** 별칭을 붙여 불러옵니다."
      ]
    },
    {
      "cell_type": "code",
      "execution_count": null,
      "metadata": {
        "id": "QBxfYJR8Vqv1"
      },
      "outputs": [],
      "source": [
        "# 라이브러리 불러오기\n",
        "import numpy as np"
      ]
    },
    {
      "cell_type": "markdown",
      "metadata": {
        "id": "XPklNj6HVqwF"
      },
      "source": [
        "## 2.배열 만들기\n",
        "\n",
        "- 편의를 위해 **Numpy 배열**을 그냥 **배열**이라고 부르기로 합시다.\n",
        "- 이후 데이터 처리시 배열로 변환해 연산을 하거나, 결과가 배열로 표시되는 경우가 있습니다.\n",
        "- 배열에 대한 개념은 정확히 파악해 두기를 권고합니다."
      ]
    },
    {
      "cell_type": "markdown",
      "metadata": {
        "id": "aPhtjq5SVqwG"
      },
      "source": [
        "### 2.1.용어 정의"
      ]
    },
    {
      "cell_type": "markdown",
      "metadata": {
        "id": "SCZ06y9XVqwG"
      },
      "source": [
        "<img src='https://raw.githubusercontent.com/Jangrae/img/master/array.png' width=300 align=\"left\"/>"
      ]
    },
    {
      "cell_type": "markdown",
      "metadata": {
        "id": "v6_mxJENNgqI"
      },
      "source": [
        "**[용어]**\n",
        "- axis: 배열의 각 축\n",
        "- rank: 축의 개수\n",
        "- shape: 축의 길이, 배열의 크기\n",
        "\n",
        "  \n",
        "**[3 x 4 배열의 경우]**\n",
        "- axis 0 과 axis 1 을 갖는 2차원 배열\n",
        "- rank 2 array\n",
        "- shape는 (3, 4)"
      ]
    },
    {
      "cell_type": "markdown",
      "metadata": {
        "id": "d1nVJucfVqwI"
      },
      "source": [
        "### 2.2.배열 만들기\n",
        "\n",
        "- **np.array() 함수**를 사용해서 배열을 만듭니다.\n",
        "- 대부분 **리스트**로부터 배열을 만들거나, 머신러닝 관련 함수 결괏값이 배열이 됩니다."
      ]
    },
    {
      "cell_type": "markdown",
      "metadata": {
        "id": "KkJuoomF0w7X"
      },
      "source": [
        "#### 2.2.1.배열 만들기"
      ]
    },
    {
      "cell_type": "markdown",
      "metadata": {
        "id": "4a-yLEsQyz1m"
      },
      "source": [
        "**1) 1차원 배열 만들기**"
      ]
    },
    {
      "cell_type": "code",
      "execution_count": null,
      "metadata": {
        "colab": {
          "base_uri": "https://localhost:8080/"
        },
        "id": "zviakX46zEzg",
        "outputId": "fce100df-cca1-4ddb-8f93-5e2acb465841"
      },
      "outputs": [
        {
          "name": "stdout",
          "output_type": "stream",
          "text": [
            "[1 2 3 4 5]\n"
          ]
        }
      ],
      "source": [
        "# 1차원 리스트\n",
        "a1 = [1, 2, 3, 4, 5]\n",
        "\n",
        "# 배열로 변환\n",
        "b1 = np.array(a1)\n",
        "\n",
        "# 확인\n",
        "print(b1)"
      ]
    },
    {
      "cell_type": "markdown",
      "metadata": {
        "id": "1LZ0lOs_y3qY"
      },
      "source": [
        "**2) 2차원 배열 만들기**"
      ]
    },
    {
      "cell_type": "code",
      "execution_count": null,
      "metadata": {
        "colab": {
          "base_uri": "https://localhost:8080/"
        },
        "id": "3t8-tbQaznfw",
        "outputId": "29343392-ac6f-4fd6-e213-e390e4448702"
      },
      "outputs": [
        {
          "name": "stdout",
          "output_type": "stream",
          "text": [
            "[[1.5 2.5 3.2]\n",
            " [4.2 5.7 6.4]]\n"
          ]
        }
      ],
      "source": [
        "# 2차원 리스트\n",
        "# a2 = [[1.5, 2.5, 3.2], [4.2, 5.7, 6.4]]\n",
        "a2 = [[1.5, 2.5, 3.2],\n",
        "      [4.2, 5.7, 6.4]]\n",
        "\n",
        "# 배열로 변환\n",
        "b2 = np.array(a2)\n",
        "\n",
        "# 확인\n",
        "print(b2)"
      ]
    },
    {
      "cell_type": "markdown",
      "metadata": {
        "id": "e7E9ev7by3zY"
      },
      "source": [
        "**3) 3차원 배열 만들기**"
      ]
    },
    {
      "cell_type": "code",
      "execution_count": null,
      "metadata": {
        "colab": {
          "base_uri": "https://localhost:8080/"
        },
        "id": "y4QCIoCvz3ov",
        "outputId": "df62a4d1-d9dc-4046-9a79-01ad3b557feb"
      },
      "outputs": [
        {
          "name": "stdout",
          "output_type": "stream",
          "text": [
            "[[[1 3 1]\n",
            "  [4 7 6]\n",
            "  [8 3 4]]\n",
            "\n",
            " [[6 2 4]\n",
            "  [8 1 5]\n",
            "  [3 5 9]]]\n"
          ]
        }
      ],
      "source": [
        "# 3차원 리스트\n",
        "# a3 = [[[1, 3, 1], [4, 7, 6], [8, 3, 4]], [[6, 2, 4], [8, 1, 5], [3, 5, 9]]]\n",
        "a3 = [[[1, 3, 1],\n",
        "       [4, 7, 6],\n",
        "       [8, 3, 4]],\n",
        "      [[6, 2, 4],\n",
        "       [8, 1, 5],\n",
        "       [3, 5, 9]]]\n",
        "\n",
        "# 배열로 변환\n",
        "b3 = np.array(a3)\n",
        "\n",
        "# 확인\n",
        "print(b3)"
      ]
    },
    {
      "cell_type": "markdown",
      "metadata": {
        "id": "vxMxUvQIVqwI"
      },
      "source": [
        "#### 2.2.2.배열 정보 확인\n",
        "\n",
        "- 배열 정보를 확인하는 다음 속성들을 기억하시기 바랍니다.\n",
        "- 특히 shape 속성은 이후에도 많이 사용될 것입니다."
      ]
    },
    {
      "cell_type": "markdown",
      "metadata": {
        "id": "gVHjrTHZRSbm"
      },
      "source": [
        "<img src='https://github.com/DA4BAM/image/blob/main/1,2,3%20%EC%B0%A8%EC%9B%90.png?raw=true' width=800 align=\"left\"/>"
      ]
    },
    {
      "cell_type": "markdown",
      "metadata": {
        "id": "U5qjQi8E1pw0"
      },
      "source": [
        "**1) 차원 확인**\n",
        "\n",
        "- ndim 속성으로 배열 차원을 확인합니다."
      ]
    },
    {
      "cell_type": "code",
      "execution_count": null,
      "metadata": {
        "colab": {
          "base_uri": "https://localhost:8080/"
        },
        "id": "FxXWyFPyx3P-",
        "outputId": "8f0cac1b-1763-4811-890f-ef32938c2ceb",
        "scrolled": true
      },
      "outputs": [
        {
          "name": "stdout",
          "output_type": "stream",
          "text": [
            "1\n",
            "2\n",
            "3\n"
          ]
        }
      ],
      "source": [
        "# 차원 확인\n",
        "print(b1.ndim)\n",
        "print(b2.ndim)\n",
        "print(b3.ndim)"
      ]
    },
    {
      "cell_type": "markdown",
      "metadata": {
        "id": "hDchV5CI1vX4"
      },
      "source": [
        "**2) 형태(크기) 확인**\n",
        "\n",
        "- shape 속성으로 배열 형태를 확인합니다.\n",
        "- 결과는 다음과 같은 형태의 튜플로 표시됩니다.\n",
        "    - 1차원: (x, )\n",
        "    - 2차원: (x, y)\n",
        "    - 3차원: (x, y, z)\n",
        "- 앞에서 부터 axis 0, axis 1, axis 2의 크기를 의미합니다."
      ]
    },
    {
      "cell_type": "code",
      "execution_count": null,
      "metadata": {
        "colab": {
          "base_uri": "https://localhost:8080/"
        },
        "id": "_hQjcnXx1oZl",
        "outputId": "97420a63-a22e-43ae-e008-2a78bbd8a15a",
        "scrolled": true
      },
      "outputs": [
        {
          "name": "stdout",
          "output_type": "stream",
          "text": [
            "(5,)\n",
            "(2, 3)\n",
            "(2, 3, 3)\n"
          ]
        }
      ],
      "source": [
        "# 형태(크기) 확인\n",
        "print(b1.shape)\n",
        "print(b2.shape)\n",
        "print(b3.shape)"
      ]
    },
    {
      "cell_type": "markdown",
      "metadata": {
        "id": "O7V_CL-H6zRc"
      },
      "source": [
        "<img src='https://raw.githubusercontent.com/jangrae/img/master/practice_01.png' width=120 align=\"left\"/>"
      ]
    },
    {
      "cell_type": "markdown",
      "metadata": {
        "id": "lP-D4JwORo9w"
      },
      "source": [
        "[문1] numpy 라이브러리를 np 별칭을 주어 불러오세요."
      ]
    },
    {
      "cell_type": "code",
      "execution_count": null,
      "metadata": {
        "id": "4kL9ztRaSJJj"
      },
      "outputs": [],
      "source": [
        "# 라이브러리 불러오기\n",
        "import numpy as np"
      ]
    },
    {
      "cell_type": "markdown",
      "metadata": {
        "id": "kUQxv1BpNlar"
      },
      "source": [
        "[문2] 다음에 주어진 데이터를 갖는 1차원 배열 a1을 만든 후 ndim, shape, dtype을 확인해 보세요."
      ]
    },
    {
      "cell_type": "code",
      "execution_count": null,
      "metadata": {
        "colab": {
          "base_uri": "https://localhost:8080/"
        },
        "id": "9pACMW_t7CBN",
        "outputId": "2e0c0419-51ad-480d-bad4-501ad31f4774"
      },
      "outputs": [
        {
          "name": "stdout",
          "output_type": "stream",
          "text": [
            "[10 11 12 13 14 15]\n",
            "1\n",
            "(6,)\n",
            "int32\n"
          ]
        }
      ],
      "source": [
        "# 10, 11, 12, 13, 14, 15\n",
        "\n",
        "# 배열 만들기\n",
        "a1 = np.array([10, 11, 12, 13, 14, 15])\n",
        "\n",
        "# 확인\n",
        "print(a1)\n",
        "\n",
        "# 정보 확인\n",
        "print(a1.ndim)\n",
        "print(a1.shape)\n",
        "print(a1.dtype)"
      ]
    },
    {
      "cell_type": "markdown",
      "metadata": {
        "id": "YrBtd57cNpK4"
      },
      "source": [
        "[문3] 다음에 주어진 리스트를 요소로 갖는 2차원 배열 a2를 만든 후 ndim, shape, dtype을 확인해 보세요"
      ]
    },
    {
      "cell_type": "code",
      "execution_count": null,
      "metadata": {
        "colab": {
          "base_uri": "https://localhost:8080/"
        },
        "id": "C9GwieJP8_Oe",
        "outputId": "9cc6d96a-c8c4-4504-bffb-c048b8eb9dcb",
        "scrolled": true
      },
      "outputs": [
        {
          "name": "stdout",
          "output_type": "stream",
          "text": [
            "[[11 12 13 14]\n",
            " [15 16 17 18]\n",
            " [19 20 21 22]]\n",
            "2\n",
            "(3, 4)\n",
            "int32\n"
          ]
        }
      ],
      "source": [
        "a = [[11, 12, 13, 14],\n",
        "     [15, 16, 17, 18],\n",
        "     [19, 20, 21, 22]]\n",
        "\n",
        "# 배열 만들기\n",
        "a2 = np.array(a)\n",
        "\n",
        "# 확인\n",
        "print(a2)\n",
        "\n",
        "# 정보 확인\n",
        "print(a2.ndim)\n",
        "print(a2.shape)\n",
        "print(a2.dtype)"
      ]
    },
    {
      "cell_type": "markdown",
      "metadata": {
        "id": "1E9DkwINVqy2"
      },
      "source": [
        "## 3.배열 연산\n",
        "\n",
        "- 배열 사이의 더하기, 빼기, 곱하기, 나누기 등은 이해하기 쉽습니다.\n",
        "- 하지만 행렬 곱, 행렬 합등의 연산은 악갼의 수학적 지식이 필요합니다.\n",
        "- 행렬 연산은 선형 대수를 위한 것이므로 설명을 생략합니다."
      ]
    },
    {
      "cell_type": "markdown",
      "metadata": {
        "id": "EJiJ8zNzTybz"
      },
      "source": [
        "<img src='https://github.com/DA4BAM/image/blob/main/%EB%B0%B0%EC%97%B4%EC%97%B0%EC%82%B0.png?raw=true' width=600 align=\"left\"/>"
      ]
    },
    {
      "cell_type": "code",
      "execution_count": null,
      "metadata": {
        "colab": {
          "base_uri": "https://localhost:8080/"
        },
        "id": "c1XI1tZqVqy3",
        "outputId": "e62e061a-ffda-43a5-bc75-cca655401bec"
      },
      "outputs": [
        {
          "name": "stdout",
          "output_type": "stream",
          "text": [
            "[[1 2]\n",
            " [3 4]]\n",
            "[[5 6]\n",
            " [7 8]]\n"
          ]
        }
      ],
      "source": [
        "# 두 개의 (2, 2) 형태의 2차원 배열 만들기\n",
        "x = np.array([[1, 2], [3, 4]])\n",
        "y = np.array([[5, 6], [7, 8]])\n",
        "\n",
        "# 확인\n",
        "print(x)\n",
        "print(y)"
      ]
    },
    {
      "cell_type": "markdown",
      "metadata": {
        "id": "E-ekP4S5uWQE"
      },
      "source": [
        "**1) 배열 더하기**\n",
        "\n",
        "- \\+ 또는 **np.add()** 함수를 사용합니다."
      ]
    },
    {
      "cell_type": "code",
      "execution_count": null,
      "metadata": {
        "colab": {
          "base_uri": "https://localhost:8080/"
        },
        "id": "Wqiwa0LSVqy4",
        "outputId": "ddfb33c6-bff9-4af0-c811-b216038f4fca"
      },
      "outputs": [
        {
          "name": "stdout",
          "output_type": "stream",
          "text": [
            "[[ 6  8]\n",
            " [10 12]]\n",
            "[[ 6  8]\n",
            " [10 12]]\n"
          ]
        }
      ],
      "source": [
        "# 배열 더하기\n",
        "print(x + y)\n",
        "\n",
        "# 또는\n",
        "print(np.add(x, y))"
      ]
    },
    {
      "cell_type": "markdown",
      "metadata": {
        "id": "00AMA90ouj59"
      },
      "source": [
        "**2) 배열 뺴기**\n",
        "\n",
        "- \\- 또는 **np.subtract()** 함수를 사용합니다."
      ]
    },
    {
      "cell_type": "code",
      "execution_count": null,
      "metadata": {
        "colab": {
          "base_uri": "https://localhost:8080/"
        },
        "id": "1y0US63EVqy5",
        "outputId": "a8125719-1fca-46ec-de3e-11038bd0d24e"
      },
      "outputs": [
        {
          "name": "stdout",
          "output_type": "stream",
          "text": [
            "[[-4 -4]\n",
            " [-4 -4]]\n",
            "[[-4 -4]\n",
            " [-4 -4]]\n"
          ]
        }
      ],
      "source": [
        "# 배열 빼기\n",
        "print(x - y)\n",
        "\n",
        "# 또는\n",
        "print(np.subtract(x, y))"
      ]
    },
    {
      "cell_type": "markdown",
      "metadata": {
        "id": "xxXkVAzNuZ6n"
      },
      "source": [
        "**3) 배열 곱하기**\n",
        "\n",
        "- \\* 또는 **np.multiply()** 함수를 사용합니다."
      ]
    },
    {
      "cell_type": "code",
      "execution_count": null,
      "metadata": {
        "colab": {
          "base_uri": "https://localhost:8080/"
        },
        "id": "b6Vbf3qDVqy6",
        "outputId": "4d3d9aec-c908-4935-8326-eefdc57bfbd5"
      },
      "outputs": [
        {
          "name": "stdout",
          "output_type": "stream",
          "text": [
            "[[ 5 12]\n",
            " [21 32]]\n",
            "[[ 5 12]\n",
            " [21 32]]\n"
          ]
        }
      ],
      "source": [
        "# 배열 곱하기\n",
        "print(x * y)\n",
        "\n",
        "# 또는\n",
        "print(np.multiply(x, y))"
      ]
    },
    {
      "cell_type": "markdown",
      "metadata": {
        "id": "bB_Gr_AHucL4"
      },
      "source": [
        "**4) 배열 나누기**\n",
        "\n",
        "- \\/ 또는 **np.divide()** 함수를 사용합니다."
      ]
    },
    {
      "cell_type": "code",
      "execution_count": null,
      "metadata": {
        "colab": {
          "base_uri": "https://localhost:8080/"
        },
        "id": "bRTZEgBLVqy6",
        "outputId": "85bcae72-2f84-4987-913f-5fc5be4cb8e7"
      },
      "outputs": [
        {
          "name": "stdout",
          "output_type": "stream",
          "text": [
            "[[0.2        0.33333333]\n",
            " [0.42857143 0.5       ]]\n",
            "[[0.2        0.33333333]\n",
            " [0.42857143 0.5       ]]\n"
          ]
        }
      ],
      "source": [
        "# 배열 나누기\n",
        "print(x / y)\n",
        "\n",
        "# 또는\n",
        "print(np.divide(x, y))"
      ]
    },
    {
      "cell_type": "markdown",
      "metadata": {
        "id": "lx7YMmtBueZB"
      },
      "source": [
        "**5) 배열 제곱**\n",
        "\n",
        "- \\** 또는 **np.power()** 함수를 사용합니다."
      ]
    },
    {
      "cell_type": "code",
      "execution_count": null,
      "metadata": {
        "colab": {
          "base_uri": "https://localhost:8080/"
        },
        "id": "btaO6o1dVqy7",
        "outputId": "a264b9cc-6270-44f8-bc17-2bdcf1e5afab"
      },
      "outputs": [
        {
          "name": "stdout",
          "output_type": "stream",
          "text": [
            "[[    1    64]\n",
            " [ 2187 65536]]\n",
            "[[    1    64]\n",
            " [ 2187 65536]]\n"
          ]
        }
      ],
      "source": [
        "# 배열 y 제곱\n",
        "print(x ** y)\n",
        "\n",
        "# 또는\n",
        "print(np.power(x, y))"
      ]
    },
    {
      "cell_type": "code",
      "execution_count": null,
      "metadata": {
        "colab": {
          "base_uri": "https://localhost:8080/"
        },
        "id": "PgmwzPNv-AQl",
        "outputId": "c107b698-e096-4371-c5b0-54cedcd33a0c"
      },
      "outputs": [
        {
          "name": "stdout",
          "output_type": "stream",
          "text": [
            "[[ 1  4]\n",
            " [ 9 16]]\n"
          ]
        }
      ],
      "source": [
        "# 배열 제곱\n",
        "print(x ** 2)"
      ]
    },
    {
      "cell_type": "markdown",
      "metadata": {
        "id": "Nhz7m_iXu3bF"
      },
      "source": [
        "**6) 배열 집계**\n",
        "\n",
        "- np.sum(), 혹은 array.sum()\n",
        "    * axis = 0 : 열 기준 집계\n",
        "    * axis = 1 : 행 기준 집계\n",
        "    * 생략하면 : 전체 집계\n",
        "- 동일한 형태로 사용 가능한 함수 : np.max(), np.min, np.mean(), np.std()"
      ]
    },
    {
      "cell_type": "code",
      "execution_count": null,
      "metadata": {
        "colab": {
          "base_uri": "https://localhost:8080/"
        },
        "id": "AL09SXqIva6h",
        "outputId": "17807bbc-ee27-4570-9640-cc3a706f72e2"
      },
      "outputs": [
        {
          "name": "stdout",
          "output_type": "stream",
          "text": [
            "[[1 5 7]\n",
            " [2 3 8]]\n"
          ]
        }
      ],
      "source": [
        "# array를 생성합니다.\n",
        "a = np.array([[1,5,7],[2,3,8]])\n",
        "print(a)"
      ]
    },
    {
      "cell_type": "code",
      "execution_count": null,
      "metadata": {
        "colab": {
          "base_uri": "https://localhost:8080/"
        },
        "id": "Z7n5jBiku3bG",
        "outputId": "070b27b1-34ea-4190-b337-7416d8fb5936"
      },
      "outputs": [
        {
          "name": "stdout",
          "output_type": "stream",
          "text": [
            "26\n",
            "[ 3  8 15]\n",
            "[13 13]\n"
          ]
        }
      ],
      "source": [
        "# 전체 집계\n",
        "print(np.sum(a))\n",
        "\n",
        "# 열기준 집계\n",
        "print(np.sum(a, axis = 0))\n",
        "\n",
        "# 행기준 집계\n",
        "print(np.sum(a, axis = 1))"
      ]
    },
    {
      "cell_type": "markdown",
      "metadata": {
        "id": "1ib2RYHuZr-a"
      },
      "source": [
        "* 조건에 따른 결과 지정 : np.where(조건문, 참일때 값, 거짓일때 값)"
      ]
    },
    {
      "cell_type": "code",
      "execution_count": null,
      "metadata": {
        "colab": {
          "base_uri": "https://localhost:8080/"
        },
        "id": "llIO8KaSZr2V",
        "outputId": "e4cf8f66-0183-44ab-dd1e-fb36cbda0fc7"
      },
      "outputs": [
        {
          "name": "stdout",
          "output_type": "stream",
          "text": [
            "[0 1 0 1]\n"
          ]
        }
      ],
      "source": [
        "a = np.array([1,3,2,7])\n",
        "print(np.where(a> 2, 1, 0))"
      ]
    },
    {
      "cell_type": "markdown",
      "metadata": {
        "id": "4gg5DDvrPI2v"
      },
      "source": [
        "## 4.종합실습"
      ]
    },
    {
      "cell_type": "markdown",
      "metadata": {
        "id": "sh0fGNc7VqxY"
      },
      "source": [
        "1) numpy 라이브러리를 np 별칭을 주어 불러오세요."
      ]
    },
    {
      "cell_type": "code",
      "execution_count": null,
      "metadata": {
        "id": "An8AOG0LPO3f"
      },
      "outputs": [],
      "source": [
        "# numpy 라이브러리 불러오기\n",
        "import numpy as np"
      ]
    },
    {
      "cell_type": "markdown",
      "metadata": {
        "id": "n4iZv88GVqye"
      },
      "source": [
        "2) 다음 형태를 갖는 2차원 배열을 만들어 np_arr 변수로 선언하세요."
      ]
    },
    {
      "cell_type": "code",
      "execution_count": null,
      "metadata": {
        "colab": {
          "base_uri": "https://localhost:8080/"
        },
        "id": "ieJ4z0qcEWK5",
        "outputId": "47086ac0-ad9a-48d2-8355-85f374475da1"
      },
      "outputs": [
        {
          "output_type": "stream",
          "name": "stdout",
          "text": [
            "[[ 1  2  3]\n",
            " [ 4  5  6]\n",
            " [ 7  8  9]\n",
            " [10 11 12]]\n"
          ]
        }
      ],
      "source": [
        "# [[  1  2  3]\n",
        "#  [  4  5  6]\n",
        "#  [  7  8  9]\n",
        "#  [ 10 11 12]]\n",
        "\n",
        "# 배열 만들기\n",
        "np_arr = np.array([[  1,  2,  3],\n",
        "                   [  4,  5,  6],\n",
        "                   [  7,  8,  9],\n",
        "                   [ 10, 11, 12]])\n",
        "\n",
        "# 확인\n",
        "print(np_arr)"
      ]
    },
    {
      "cell_type": "markdown",
      "metadata": {
        "id": "06rhCgTeVqxb"
      },
      "source": [
        "3) shape 속성을 사용해 np_arr 배열의 행과 열의 크기를 확인하세요."
      ]
    },
    {
      "cell_type": "code",
      "execution_count": null,
      "metadata": {
        "colab": {
          "base_uri": "https://localhost:8080/"
        },
        "id": "zzhPeZH_Vqxd",
        "outputId": "5f8c2768-4323-4a97-e73c-01b4bc32379f"
      },
      "outputs": [
        {
          "output_type": "execute_result",
          "data": {
            "text/plain": [
              "(4, 3)"
            ]
          },
          "metadata": {},
          "execution_count": 9
        }
      ],
      "source": [
        "# 배열 크기 확인\n",
        "np_arr.shape"
      ]
    },
    {
      "cell_type": "markdown",
      "metadata": {
        "id": "16jhLlJvY0rJ"
      },
      "source": [
        "4) np_arr 배열의 모든 요소에 10을 곱한 결과를 조회하세요.\n",
        "* np_arr 배열의 실제 값은 바꾸지 않고 10을 곱한 결과를 출력만 합니다"
      ]
    },
    {
      "cell_type": "code",
      "execution_count": null,
      "metadata": {
        "colab": {
          "base_uri": "https://localhost:8080/"
        },
        "id": "5W4FHMArYR0S",
        "outputId": "308d19a2-c9e7-483f-df68-e2619f7be4fc"
      },
      "outputs": [
        {
          "output_type": "stream",
          "name": "stdout",
          "text": [
            "[[ 10  20  30]\n",
            " [ 40  50  60]\n",
            " [ 70  80  90]\n",
            " [100 110 120]]\n",
            "\n",
            "[[ 1  2  3]\n",
            " [ 4  5  6]\n",
            " [ 7  8  9]\n",
            " [10 11 12]]\n",
            "\n",
            "[[ 10  20  30]\n",
            " [ 40  50  60]\n",
            " [ 70  80  90]\n",
            " [100 110 120]]\n"
          ]
        }
      ],
      "source": [
        "# print 함수 안에서 np_arr 배열에 10을 곱합니다.\n",
        "print(np_arr * 10)\n",
        "print()\n",
        "# np_arr 배열 확인하기\n",
        "print(np_arr)\n",
        "print()\n",
        "# 배열 원본 데이터에 10배를 곱하고 확인합니다.\n",
        "np_arr = np_arr *10\n",
        "print(np_arr)"
      ]
    },
    {
      "cell_type": "markdown",
      "metadata": {
        "id": "mt7JHQA_oTfS"
      },
      "source": [
        "10) np_arr 배열의 요소들 중에서 2의 배수는 1, 아니면 0인 배열 a를 만들고 조회하시오."
      ]
    },
    {
      "cell_type": "code",
      "execution_count": null,
      "metadata": {
        "colab": {
          "base_uri": "https://localhost:8080/"
        },
        "id": "-bGx2fYfn7yR",
        "outputId": "7dac2453-c172-4750-e7e4-2140d03ce166"
      },
      "outputs": [
        {
          "name": "stdout",
          "output_type": "stream",
          "text": [
            "[[0 1 0]\n",
            " [1 0 1]\n",
            " [0 1 1]\n",
            " [1 1 1]]\n"
          ]
        }
      ],
      "source": [
        "a = np.where(np_arr %2== 0, 1, 0)\n",
        "print(a)"
      ]
    }
  ],
  "metadata": {
    "colab": {
      "provenance": []
    },
    "kernelspec": {
      "display_name": "Python 3 (ipykernel)",
      "language": "python",
      "name": "python3"
    },
    "language_info": {
      "codemirror_mode": {
        "name": "ipython",
        "version": 3
      },
      "file_extension": ".py",
      "mimetype": "text/x-python",
      "name": "python",
      "nbconvert_exporter": "python",
      "pygments_lexer": "ipython3",
      "version": "3.9.7"
    }
  },
  "nbformat": 4,
  "nbformat_minor": 0
}