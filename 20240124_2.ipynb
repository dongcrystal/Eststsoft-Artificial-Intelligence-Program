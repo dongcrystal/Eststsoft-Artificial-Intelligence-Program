{
  "nbformat": 4,
  "nbformat_minor": 0,
  "metadata": {
    "colab": {
      "provenance": [],
      "authorship_tag": "ABX9TyMb+aq0zo3/NXLozY32kd/e"
    },
    "kernelspec": {
      "name": "python3",
      "display_name": "Python 3"
    },
    "language_info": {
      "name": "python"
    }
  },
  "cells": [
    {
      "cell_type": "code",
      "execution_count": null,
      "metadata": {
        "id": "J5hNyovyGoXO"
      },
      "outputs": [],
      "source": [
        "import numpy as np"
      ]
    },
    {
      "cell_type": "code",
      "source": [
        "k_score = np.array([96, 80, 76, 96, 88, 75, 78,89, 98, 70])\n",
        "k_score"
      ],
      "metadata": {
        "colab": {
          "base_uri": "https://localhost:8080/"
        },
        "id": "-HKGpM9xXzJz",
        "outputId": "cd451eb9-8d47-4cbd-ae4e-af76445f30e0"
      },
      "execution_count": null,
      "outputs": [
        {
          "output_type": "execute_result",
          "data": {
            "text/plain": [
              "array([96, 80, 76, 96, 88, 75, 78, 89, 98, 70])"
            ]
          },
          "metadata": {},
          "execution_count": 2
        }
      ]
    },
    {
      "cell_type": "code",
      "source": [
        "#Working with a list\n",
        "my_list = [1, \"hello\", 3.14]\n",
        "print(\"Original list:\",my_list)\n",
        "\n",
        "print(\"list after appending:\", my_list)\n",
        "print(\"List after removing an elemnet:\",my_list)\n",
        "\n",
        "from array import array\n",
        "my_array = array('i',[1, 2, 3])\n",
        "print(\"Original array:\", my_array)\n",
        "\n",
        "print(\"Array after appending:\",my_array)\n",
        "\n",
        "print(\"Array after changing an element:\",my_array)"
      ],
      "metadata": {
        "colab": {
          "base_uri": "https://localhost:8080/"
        },
        "id": "uSZchuPxYCEt",
        "outputId": "918bbad7-ebf4-411e-f04b-89ffdaf0ba69"
      },
      "execution_count": null,
      "outputs": [
        {
          "output_type": "stream",
          "name": "stdout",
          "text": [
            "Original list: [1, 'hello', 3.14]\n",
            "list after appending: [1, 'hello', 3.14]\n",
            "List after removing an elemnet: [1, 'hello', 3.14]\n",
            "Original array: array('i', [1, 2, 3])\n",
            "Array after appending: array('i', [1, 2, 3])\n",
            "Array after changing an element: array('i', [1, 2, 3])\n"
          ]
        }
      ]
    },
    {
      "cell_type": "code",
      "source": [
        "boolVar = 100 > 200\n",
        "boolVar\n",
        "type(boolVar)"
      ],
      "metadata": {
        "colab": {
          "base_uri": "https://localhost:8080/"
        },
        "id": "QIGrIWp62AgL",
        "outputId": "313a1506-3808-42fc-e0ea-5ad781f314c8"
      },
      "execution_count": null,
      "outputs": [
        {
          "output_type": "execute_result",
          "data": {
            "text/plain": [
              "bool"
            ]
          },
          "metadata": {},
          "execution_count": 5
        }
      ]
    },
    {
      "cell_type": "code",
      "source": [
        "intVal = 100**100\n",
        "intVal\n",
        "type(intVal)"
      ],
      "metadata": {
        "colab": {
          "base_uri": "https://localhost:8080/"
        },
        "id": "GlK0Eb675BtW",
        "outputId": "be9827f5-5f7f-42de-c455-081accd89b07"
      },
      "execution_count": null,
      "outputs": [
        {
          "output_type": "execute_result",
          "data": {
            "text/plain": [
              "int"
            ]
          },
          "metadata": {},
          "execution_count": 6
        }
      ]
    },
    {
      "cell_type": "code",
      "source": [
        "aa = []\n",
        "aa.append(0)\n",
        "aa.append(0)\n",
        "aa.append(0)\n",
        "aa.append(0)\n",
        "print(aa)"
      ],
      "metadata": {
        "colab": {
          "base_uri": "https://localhost:8080/"
        },
        "id": "CaTPapy_5vIZ",
        "outputId": "5e918b7f-c6eb-46c0-8959-64944e27ca17"
      },
      "execution_count": null,
      "outputs": [
        {
          "output_type": "stream",
          "name": "stdout",
          "text": [
            "[0, 0, 0, 0]\n"
          ]
        }
      ]
    },
    {
      "cell_type": "code",
      "source": [
        "aa = []\n",
        "for i in range(0,100):\n",
        "    aa.append(i)\n",
        "len(aa)\n",
        "print(aa)"
      ],
      "metadata": {
        "colab": {
          "base_uri": "https://localhost:8080/"
        },
        "id": "9CayUzdu8WyV",
        "outputId": "ff7f58da-9d52-4895-ad1a-d5b70b4658ce"
      },
      "execution_count": null,
      "outputs": [
        {
          "output_type": "stream",
          "name": "stdout",
          "text": [
            "[0, 1, 2, 3, 4, 5, 6, 7, 8, 9, 10, 11, 12, 13, 14, 15, 16, 17, 18, 19, 20, 21, 22, 23, 24, 25, 26, 27, 28, 29, 30, 31, 32, 33, 34, 35, 36, 37, 38, 39, 40, 41, 42, 43, 44, 45, 46, 47, 48, 49, 50, 51, 52, 53, 54, 55, 56, 57, 58, 59, 60, 61, 62, 63, 64, 65, 66, 67, 68, 69, 70, 71, 72, 73, 74, 75, 76, 77, 78, 79, 80, 81, 82, 83, 84, 85, 86, 87, 88, 89, 90, 91, 92, 93, 94, 95, 96, 97, 98, 99]\n"
          ]
        }
      ]
    },
    {
      "cell_type": "code",
      "source": [],
      "metadata": {
        "id": "_8nKLu1d8gol"
      },
      "execution_count": null,
      "outputs": []
    }
  ]
}