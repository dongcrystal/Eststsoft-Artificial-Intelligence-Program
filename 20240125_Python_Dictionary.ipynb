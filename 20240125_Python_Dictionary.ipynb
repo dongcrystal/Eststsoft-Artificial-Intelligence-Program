{
  "nbformat": 4,
  "nbformat_minor": 0,
  "metadata": {
    "colab": {
      "provenance": []
    },
    "kernelspec": {
      "name": "python3",
      "display_name": "Python 3"
    },
    "language_info": {
      "name": "python"
    }
  },
  "cells": [
    {
      "cell_type": "markdown",
      "source": [
        "# Section 04. 딕셔너리"
      ],
      "metadata": {
        "id": "CJQ_1qr6NYsb"
      }
    },
    {
      "cell_type": "markdown",
      "source": [
        "##1. 딕셔너리 생성과 자료 저장"
      ],
      "metadata": {
        "id": "NmVFqzSoNcnT"
      }
    },
    {
      "cell_type": "code",
      "execution_count": null,
      "metadata": {
        "colab": {
          "base_uri": "https://localhost:8080/"
        },
        "id": "wNj7K307NU5T",
        "outputId": "f51583ef-4983-4784-fc70-67a2ea051bad"
      },
      "outputs": [
        {
          "output_type": "execute_result",
          "data": {
            "text/plain": [
              "{}"
            ]
          },
          "metadata": {},
          "execution_count": 1
        }
      ],
      "source": [
        "my_dict={}\n",
        "my_dict"
      ]
    },
    {
      "cell_type": "code",
      "source": [
        "my_dict1=dict( )\n",
        "my_dict1"
      ],
      "metadata": {
        "colab": {
          "base_uri": "https://localhost:8080/"
        },
        "id": "5WqGrL-sNhLL",
        "outputId": "7b6ee527-9aaf-4319-a4d2-894bcaf9d7fb"
      },
      "execution_count": null,
      "outputs": [
        {
          "output_type": "execute_result",
          "data": {
            "text/plain": [
              "{}"
            ]
          },
          "metadata": {},
          "execution_count": 2
        }
      ]
    },
    {
      "cell_type": "markdown",
      "source": [
        "##2. 딕셔너리 원소의 접근과 사용\n",
        "\n",
        "###키 설정하기"
      ],
      "metadata": {
        "id": "ADOM-ILNNj7Z"
      }
    },
    {
      "cell_type": "code",
      "source": [
        "my_stocks={'ss':10, 'lg':5, 'sk':5}\n",
        "print(\"number of my ss stocks: %d\" % my_stocks['ss'])"
      ],
      "metadata": {
        "colab": {
          "base_uri": "https://localhost:8080/"
        },
        "id": "Pf8Dp27dNozA",
        "outputId": "795c7c4c-a09f-4e0b-e90d-229a305b0911"
      },
      "execution_count": null,
      "outputs": [
        {
          "output_type": "stream",
          "name": "stdout",
          "text": [
            "number of my ss stocks: 10\n"
          ]
        }
      ]
    },
    {
      "cell_type": "markdown",
      "source": [
        "중복이 허용되는 리스트는 딕셔너리의 키로 사용할 수 없고 튜플이나 문자형은 키로 사용할 수 있다."
      ],
      "metadata": {
        "id": "rYy0ZGQ2N3_M"
      }
    },
    {
      "cell_type": "code",
      "source": [
        "my_stocks1={['ss','lg']: 10}"
      ],
      "metadata": {
        "colab": {
          "base_uri": "https://localhost:8080/",
          "height": 174
        },
        "id": "X_1-gsy2NvHJ",
        "outputId": "7eeec0e7-51ae-493a-fc04-8fe2264e212b"
      },
      "execution_count": null,
      "outputs": [
        {
          "output_type": "error",
          "ename": "TypeError",
          "evalue": "ignored",
          "traceback": [
            "\u001b[0;31m---------------------------------------------------------------------------\u001b[0m",
            "\u001b[0;31mTypeError\u001b[0m                                 Traceback (most recent call last)",
            "\u001b[0;32m<ipython-input-4-f8f4f978d48c>\u001b[0m in \u001b[0;36m<cell line: 1>\u001b[0;34m()\u001b[0m\n\u001b[0;32m----> 1\u001b[0;31m \u001b[0mmy_stocks1\u001b[0m\u001b[0;34m=\u001b[0m\u001b[0;34m{\u001b[0m\u001b[0;34m[\u001b[0m\u001b[0;34m'ss'\u001b[0m\u001b[0;34m,\u001b[0m\u001b[0;34m'lg'\u001b[0m\u001b[0;34m]\u001b[0m\u001b[0;34m:\u001b[0m \u001b[0;36m10\u001b[0m\u001b[0;34m}\u001b[0m\u001b[0;34m\u001b[0m\u001b[0;34m\u001b[0m\u001b[0m\n\u001b[0m",
            "\u001b[0;31mTypeError\u001b[0m: unhashable type: 'list'"
          ]
        }
      ]
    },
    {
      "cell_type": "code",
      "source": [
        "my_stocks2={('ss','lg'): 10} # 튜플이나 문자형은 딕셔너리의 키로 사용 가능\n",
        "my_stocks2"
      ],
      "metadata": {
        "colab": {
          "base_uri": "https://localhost:8080/"
        },
        "id": "U8TIf38INwiq",
        "outputId": "3e4012ad-64ca-4502-ab11-cc4248fc3981"
      },
      "execution_count": null,
      "outputs": [
        {
          "output_type": "execute_result",
          "data": {
            "text/plain": [
              "{('ss', 'lg'): 10}"
            ]
          },
          "metadata": {},
          "execution_count": 5
        }
      ]
    },
    {
      "cell_type": "markdown",
      "source": [
        "###키와 값 사용하기"
      ],
      "metadata": {
        "id": "TyG7LAdrN_iP"
      }
    },
    {
      "cell_type": "code",
      "source": [
        "my_stocks={'ss': 10, 'lg': 5, 'sk': 5}\n",
        "my_stocks['lg']=15\n",
        "my_stocks"
      ],
      "metadata": {
        "colab": {
          "base_uri": "https://localhost:8080/"
        },
        "id": "_lrI9bjEOBfj",
        "outputId": "99067a23-cfac-4986-99de-8dd5b9d8b81a"
      },
      "execution_count": null,
      "outputs": [
        {
          "output_type": "execute_result",
          "data": {
            "text/plain": [
              "{'ss': 10, 'lg': 15, 'sk': 5}"
            ]
          },
          "metadata": {},
          "execution_count": 6
        }
      ]
    },
    {
      "cell_type": "code",
      "source": [
        "my_stocks={'ss': 10, 'lg': 5, 'sk': 5}\n",
        "my_stocks['naver']=20\n",
        "my_stocks"
      ],
      "metadata": {
        "colab": {
          "base_uri": "https://localhost:8080/"
        },
        "id": "sw6D2uS2ODOk",
        "outputId": "698d2c19-16e5-488b-e7cc-5d87f239388a"
      },
      "execution_count": null,
      "outputs": [
        {
          "output_type": "execute_result",
          "data": {
            "text/plain": [
              "{'ss': 10, 'lg': 5, 'sk': 5, 'naver': 20}"
            ]
          },
          "metadata": {},
          "execution_count": 7
        }
      ]
    },
    {
      "cell_type": "code",
      "source": [
        "my_stocks={'ss': 10, 'lg': 5, 'sk': 5, 'naver': 20}\n",
        "my_stocks['ss']"
      ],
      "metadata": {
        "colab": {
          "base_uri": "https://localhost:8080/"
        },
        "id": "V5GZqNnqOFT3",
        "outputId": "4f02d66f-448c-40d9-d569-603479538477"
      },
      "execution_count": null,
      "outputs": [
        {
          "output_type": "execute_result",
          "data": {
            "text/plain": [
              "10"
            ]
          },
          "metadata": {},
          "execution_count": 8
        }
      ]
    },
    {
      "cell_type": "code",
      "source": [
        "my_stocks={'ss': 10, 'lg': 5, 'sk': 5, 'naver': 20}\n",
        "print(\"number of my ss stocks: %d\" % my_stocks['ss']) # %d 정수형"
      ],
      "metadata": {
        "colab": {
          "base_uri": "https://localhost:8080/"
        },
        "id": "fPv_Qh0jOHwR",
        "outputId": "08fedb47-d0ce-4f66-dcd7-97e2d1a3fdb2"
      },
      "execution_count": null,
      "outputs": [
        {
          "output_type": "stream",
          "name": "stdout",
          "text": [
            "number of my ss stocks: 10\n"
          ]
        }
      ]
    },
    {
      "cell_type": "code",
      "source": [
        "my_stocks={'ss': 10, 'lg': 5, 'sk': 5, 'naver': 20}\n",
        "ss_has_price=\"ss\" in my_stocks\n",
        "ss_has_price"
      ],
      "metadata": {
        "colab": {
          "base_uri": "https://localhost:8080/"
        },
        "id": "IKGOyvn7OJU1",
        "outputId": "c6907319-e442-46c1-9119-419ee8873eee"
      },
      "execution_count": null,
      "outputs": [
        {
          "output_type": "execute_result",
          "data": {
            "text/plain": [
              "True"
            ]
          },
          "metadata": {},
          "execution_count": 10
        }
      ]
    },
    {
      "cell_type": "markdown",
      "source": [
        "##3. 딕셔너리에 유용한 내장 함수\n",
        "### 모든 키 출력하기: keys 함수"
      ],
      "metadata": {
        "id": "GOtM-rpOOLfh"
      }
    },
    {
      "cell_type": "code",
      "source": [
        "my_stocks={'ss': 10, 'lg': 5, 'sk': 5, 'naver': 20}\n",
        "print(\"Keys: %s\" % my_stocks.keys( ))"
      ],
      "metadata": {
        "colab": {
          "base_uri": "https://localhost:8080/"
        },
        "id": "eFqo0iG8OR-i",
        "outputId": "4904139a-749e-4001-a880-645475ff15b6"
      },
      "execution_count": null,
      "outputs": [
        {
          "output_type": "stream",
          "name": "stdout",
          "text": [
            "Keys: dict_keys(['ss', 'lg', 'sk', 'naver'])\n"
          ]
        }
      ]
    },
    {
      "cell_type": "code",
      "source": [
        "my_stocks={'ss': 10, 'lg': 5, 'sk': 5, 'naver': 20}\n",
        "print(f\"Keys: {my_stocks.keys( )}\")"
      ],
      "metadata": {
        "colab": {
          "base_uri": "https://localhost:8080/"
        },
        "id": "zF8zjQx9OTw4",
        "outputId": "25588595-8075-47ce-c689-2f62c7ebb0ab"
      },
      "execution_count": null,
      "outputs": [
        {
          "output_type": "stream",
          "name": "stdout",
          "text": [
            "Keys: dict_keys(['ss', 'lg', 'sk', 'naver'])\n"
          ]
        }
      ]
    },
    {
      "cell_type": "code",
      "source": [
        "my_stocks={'ss': 10, 'lg': 5, 'sk': 5, 'naver': 20}\n",
        "for value in my_stocks.keys( ):\n",
        "  print(value)"
      ],
      "metadata": {
        "colab": {
          "base_uri": "https://localhost:8080/"
        },
        "id": "K_U0AJLaOWBa",
        "outputId": "1064ca0b-6c25-48a4-accc-c6c510e4bc25"
      },
      "execution_count": null,
      "outputs": [
        {
          "output_type": "stream",
          "name": "stdout",
          "text": [
            "ss\n",
            "lg\n",
            "sk\n",
            "naver\n"
          ]
        }
      ]
    },
    {
      "cell_type": "code",
      "source": [
        "my_stocks={'ss': 10, 'lg': 5, 'sk': 5, 'naver': 20}\n",
        "for key in my_stocks.keys( ):\n",
        "  print(key, my_stocks[key])"
      ],
      "metadata": {
        "colab": {
          "base_uri": "https://localhost:8080/"
        },
        "id": "x69uZntkOazg",
        "outputId": "b10873b0-4a71-41be-def3-e4217c214bb0"
      },
      "execution_count": null,
      "outputs": [
        {
          "output_type": "stream",
          "name": "stdout",
          "text": [
            "ss 10\n",
            "lg 5\n",
            "sk 5\n",
            "naver 20\n"
          ]
        }
      ]
    },
    {
      "cell_type": "code",
      "source": [
        "my_stocks={'ss': 10, 'lg': 5, 'sk': 5, 'naver': 20}\n",
        "my_stocks_list=list(my_stocks.keys( ))\n",
        "my_stocks_list\n"
      ],
      "metadata": {
        "colab": {
          "base_uri": "https://localhost:8080/"
        },
        "id": "OZXQf-rHOdf4",
        "outputId": "435603bd-ca5b-4d64-d0ca-b9278d7ee352"
      },
      "execution_count": null,
      "outputs": [
        {
          "output_type": "execute_result",
          "data": {
            "text/plain": [
              "['ss', 'lg', 'sk', 'naver']"
            ]
          },
          "metadata": {},
          "execution_count": 16
        }
      ]
    },
    {
      "cell_type": "markdown",
      "source": [
        "### 모든 값 출력하기: values 함수"
      ],
      "metadata": {
        "id": "VLpEdh09OfwU"
      }
    },
    {
      "cell_type": "code",
      "source": [
        "my_stocks={'ss': 10, 'lg': 5, 'sk': 5, 'naver': 20}\n",
        "print(\"Values: %s\" % my_stocks.values( ))"
      ],
      "metadata": {
        "colab": {
          "base_uri": "https://localhost:8080/"
        },
        "id": "CjilISLyOh55",
        "outputId": "5164e86b-49ff-4e10-c082-e1cf4aaab422"
      },
      "execution_count": null,
      "outputs": [
        {
          "output_type": "stream",
          "name": "stdout",
          "text": [
            "Values: dict_values([10, 5, 5, 20])\n"
          ]
        }
      ]
    },
    {
      "cell_type": "code",
      "source": [
        "my_stocks={'ss': 10, 'lg': 5, 'sk': 5, 'naver': 20}\n",
        "for value in my_stocks.values( ):\n",
        "  print (value)"
      ],
      "metadata": {
        "colab": {
          "base_uri": "https://localhost:8080/"
        },
        "id": "ZkXXDCe-OlF0",
        "outputId": "ad1d591a-1d0f-4672-87f7-9148a3aacf33"
      },
      "execution_count": null,
      "outputs": [
        {
          "output_type": "stream",
          "name": "stdout",
          "text": [
            "10\n",
            "5\n",
            "5\n",
            "20\n"
          ]
        }
      ]
    },
    {
      "cell_type": "markdown",
      "source": [
        "### 키와 값 모든 쌍 출력하기: items 함수"
      ],
      "metadata": {
        "id": "1zr8vc_YOnq2"
      }
    },
    {
      "cell_type": "code",
      "source": [
        "my_stocks={'ss': 10, 'lg': 5, 'sk': 5, 'naver': 20}\n",
        "my_stocks_list1=list(my_stocks.items( ))\n",
        "my_stocks_list1"
      ],
      "metadata": {
        "colab": {
          "base_uri": "https://localhost:8080/"
        },
        "id": "FuLqDQyMOqPI",
        "outputId": "c1c7ff99-799b-47af-b447-9544df17e13f"
      },
      "execution_count": null,
      "outputs": [
        {
          "output_type": "execute_result",
          "data": {
            "text/plain": [
              "[('ss', 10), ('lg', 5), ('sk', 5), ('naver', 20)]"
            ]
          },
          "metadata": {},
          "execution_count": 19
        }
      ]
    },
    {
      "cell_type": "code",
      "source": [
        "my_stocks={'ss': 10, 'lg': 5, 'sk': 5, 'naver': 20}\n",
        "for value in my_stocks.items( ):\n",
        "  print (value)"
      ],
      "metadata": {
        "colab": {
          "base_uri": "https://localhost:8080/"
        },
        "id": "xyZOBRWtOsAr",
        "outputId": "92fcf1c7-be57-4b97-8873-dca3c7f1e1e7"
      },
      "execution_count": null,
      "outputs": [
        {
          "output_type": "stream",
          "name": "stdout",
          "text": [
            "('ss', 10)\n",
            "('lg', 5)\n",
            "('sk', 5)\n",
            "('naver', 20)\n"
          ]
        }
      ]
    },
    {
      "cell_type": "markdown",
      "source": [
        "### 값 가져오기: get 함수"
      ],
      "metadata": {
        "id": "p3_MmYRlOwWe"
      }
    },
    {
      "cell_type": "code",
      "source": [
        "my_stocks={'ss': 10, 'lg': 5, 'sk': 5, 'naver': 20}\n",
        "ss_quantity=my_stocks.get(\"ss\", 100) # ❶\n",
        "ss_quantity"
      ],
      "metadata": {
        "colab": {
          "base_uri": "https://localhost:8080/"
        },
        "id": "j_Rd9KBSO0U_",
        "outputId": "4979169f-63b2-4ca0-eaed-662cdb902013"
      },
      "execution_count": null,
      "outputs": [
        {
          "output_type": "execute_result",
          "data": {
            "text/plain": [
              "10"
            ]
          },
          "metadata": {},
          "execution_count": 21
        }
      ]
    },
    {
      "cell_type": "code",
      "source": [
        "my_stocks={'ss': 10, 'lg': 5, 'sk': 5, 'naver': 20}\n",
        "ss_quantity=my_stocks.get(\"kt\", 100) # ❷\n",
        "ss_quantity"
      ],
      "metadata": {
        "colab": {
          "base_uri": "https://localhost:8080/"
        },
        "id": "flks0lYBO8I0",
        "outputId": "1eaa07a5-7b33-4347-dc0b-465e6674171e"
      },
      "execution_count": null,
      "outputs": [
        {
          "output_type": "execute_result",
          "data": {
            "text/plain": [
              "100"
            ]
          },
          "metadata": {},
          "execution_count": 22
        }
      ]
    },
    {
      "cell_type": "code",
      "source": [
        "my_stocks={'ss': 10, 'lg': 5, 'sk': 5, 'naver': 20}\n",
        "no_ones_price=my_stocks.get(\"skt\") # ❸\n",
        "print(no_ones_price)"
      ],
      "metadata": {
        "colab": {
          "base_uri": "https://localhost:8080/"
        },
        "id": "Bz2S1wauPAM0",
        "outputId": "988caa4a-ca4b-4fbe-a415-b74083f7ff9b"
      },
      "execution_count": null,
      "outputs": [
        {
          "output_type": "stream",
          "name": "stdout",
          "text": [
            "None\n"
          ]
        }
      ]
    },
    {
      "cell_type": "markdown",
      "source": [
        "###키와 값 확인하기: in 연산자와 내장 함수의 결합"
      ],
      "metadata": {
        "id": "X_4ixdB5PDxA"
      }
    },
    {
      "cell_type": "code",
      "source": [
        "my_stocks={'ss': 10, 'lg': 5, 'sk': 5, 'naver': 20}\n",
        "\"ss\" in my_stocks"
      ],
      "metadata": {
        "colab": {
          "base_uri": "https://localhost:8080/"
        },
        "id": "folF921oPGEa",
        "outputId": "ce673b2e-daf3-41bf-a826-a777c2fe36d1"
      },
      "execution_count": null,
      "outputs": [
        {
          "output_type": "execute_result",
          "data": {
            "text/plain": [
              "True"
            ]
          },
          "metadata": {},
          "execution_count": 24
        }
      ]
    },
    {
      "cell_type": "code",
      "source": [
        "my_stocks={'ss': 10, 'lg': 5, 'sk': 5, 'naver': 20}\n",
        "\"kt\" in my_stocks"
      ],
      "metadata": {
        "colab": {
          "base_uri": "https://localhost:8080/"
        },
        "id": "TkaGXZMNPH9L",
        "outputId": "473a05e0-ad2f-4cac-d5f0-51205d3b7df8"
      },
      "execution_count": null,
      "outputs": [
        {
          "output_type": "execute_result",
          "data": {
            "text/plain": [
              "False"
            ]
          },
          "metadata": {},
          "execution_count": 25
        }
      ]
    },
    {
      "cell_type": "code",
      "source": [
        "my_stocks={'ss': 10, 'lg': 5, 'sk': 5, 'naver': 20}\n",
        "\"ss\" in my_stocks.keys( )"
      ],
      "metadata": {
        "colab": {
          "base_uri": "https://localhost:8080/"
        },
        "id": "yxcGVEX9PJ6t",
        "outputId": "ab6a75f9-2581-40aa-b1ad-8eeb3d28734b"
      },
      "execution_count": null,
      "outputs": [
        {
          "output_type": "execute_result",
          "data": {
            "text/plain": [
              "True"
            ]
          },
          "metadata": {},
          "execution_count": 26
        }
      ]
    },
    {
      "cell_type": "code",
      "source": [
        "my_stocks={'ss': 10, 'lg': 5, 'sk': 5, 'naver': 20}\n",
        "\"ss\" in my_stocks.values( )"
      ],
      "metadata": {
        "colab": {
          "base_uri": "https://localhost:8080/"
        },
        "id": "_42Nhi8xPNCH",
        "outputId": "3d7a7a8b-9188-402a-fd3b-934b7ab305de"
      },
      "execution_count": null,
      "outputs": [
        {
          "output_type": "execute_result",
          "data": {
            "text/plain": [
              "False"
            ]
          },
          "metadata": {},
          "execution_count": 27
        }
      ]
    },
    {
      "cell_type": "code",
      "source": [
        "my_stocks={'ss': 10, 'lg': 5, 'sk': 5, 'naver': 20}\n",
        "10 in my_stocks.values( )"
      ],
      "metadata": {
        "colab": {
          "base_uri": "https://localhost:8080/"
        },
        "id": "FhmIxLTSPOjs",
        "outputId": "199b9b16-ee18-4eaa-e379-b4cfaa7146d7"
      },
      "execution_count": null,
      "outputs": [
        {
          "output_type": "execute_result",
          "data": {
            "text/plain": [
              "True"
            ]
          },
          "metadata": {},
          "execution_count": 28
        }
      ]
    },
    {
      "cell_type": "code",
      "source": [
        "my_stocks={'ss': 10, 'lg': 5, 'sk': 5, 'naver': 20}\n",
        "\"ss\" in my_stocks.items( )"
      ],
      "metadata": {
        "colab": {
          "base_uri": "https://localhost:8080/"
        },
        "id": "E1qngHb_PQsc",
        "outputId": "b90e345c-e2e7-48df-d60e-53e19454f6dd"
      },
      "execution_count": null,
      "outputs": [
        {
          "output_type": "execute_result",
          "data": {
            "text/plain": [
              "False"
            ]
          },
          "metadata": {},
          "execution_count": 29
        }
      ]
    },
    {
      "cell_type": "code",
      "source": [
        "my_stocks={'ss': 10, 'lg': 5, 'sk': 5, 'naver': 20}\n",
        "('ss', 10) in my_stocks.items( ) # 튜플로 표현됨"
      ],
      "metadata": {
        "colab": {
          "base_uri": "https://localhost:8080/"
        },
        "id": "cAAcJjUdPS-Q",
        "outputId": "da5d78e7-d9aa-46de-f7a5-d361da342711"
      },
      "execution_count": null,
      "outputs": [
        {
          "output_type": "execute_result",
          "data": {
            "text/plain": [
              "True"
            ]
          },
          "metadata": {},
          "execution_count": 30
        }
      ]
    },
    {
      "cell_type": "code",
      "source": [
        "my_stocks={'ss': 10, 'lg': 5, 'sk': 5, 'naver': 20}\n",
        "try:\n",
        "  kt=my_stocks[\"kt\"]\n",
        "except KeyError:\n",
        "  print(\"no price for kt!\")"
      ],
      "metadata": {
        "colab": {
          "base_uri": "https://localhost:8080/"
        },
        "id": "vbzdUVjnPUkq",
        "outputId": "d9433b73-b842-4a45-d1ee-ee4ad9fc1052"
      },
      "execution_count": null,
      "outputs": [
        {
          "output_type": "stream",
          "name": "stdout",
          "text": [
            "no price for kt!\n"
          ]
        }
      ]
    },
    {
      "cell_type": "code",
      "source": [
        "my_stocks={'ss': 10, 'lg': 5, 'sk': 5, 'naver': 20}\n",
        "try:\n",
        "  ss=my_stocks[\"ss\"]\n",
        "  print(\"ss exists\")\n",
        "except KeyError:\n",
        "  print(\"no price for ss!\")"
      ],
      "metadata": {
        "id": "_3TIHSvhPYPC",
        "outputId": "b61df544-e892-4a43-81e6-d686ac6a19a9",
        "colab": {
          "base_uri": "https://localhost:8080/"
        }
      },
      "execution_count": null,
      "outputs": [
        {
          "output_type": "stream",
          "name": "stdout",
          "text": [
            "ss exists\n"
          ]
        }
      ]
    }
  ]
}