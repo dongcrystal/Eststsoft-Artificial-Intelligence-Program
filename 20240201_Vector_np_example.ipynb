{
  "cells": [
    {
      "cell_type": "code",
      "execution_count": null,
      "metadata": {
        "id": "SNi9uVKmW2So"
      },
      "outputs": [],
      "source": [
        "import numpy as np # numpy를 사용해서 벡터와 행렬 생성"
      ]
    },
    {
      "cell_type": "code",
      "execution_count": null,
      "metadata": {
        "id": "yr3crF6iW2Sq"
      },
      "outputs": [],
      "source": [
        "a = np.array([1,2])\n",
        "b = np.array([2,2])\n",
        "c = np.array([-3, -3]) # array()를 이용하는 경우는 보통 리스트를 인자로 입력"
      ]
    },
    {
      "cell_type": "code",
      "execution_count": null,
      "metadata": {
        "id": "6aZ1iMvlW2Sq",
        "outputId": "5c13061f-06df-4981-d6f3-42e27196e835"
      },
      "outputs": [
        {
          "data": {
            "text/plain": [
              "array([1, 2])"
            ]
          },
          "execution_count": 3,
          "metadata": {},
          "output_type": "execute_result"
        }
      ],
      "source": [
        "a"
      ]
    },
    {
      "cell_type": "markdown",
      "metadata": {
        "id": "2LREZbCRW2Sr"
      },
      "source": [
        "# 거리 구하기"
      ]
    },
    {
      "cell_type": "code",
      "execution_count": null,
      "metadata": {
        "id": "cWjj1Kf4W2Sr",
        "outputId": "a0c425de-1611-4eb7-9bec-da2535b3dcc0"
      },
      "outputs": [
        {
          "data": {
            "text/plain": [
              "2.23606797749979"
            ]
          },
          "execution_count": 4,
          "metadata": {},
          "output_type": "execute_result"
        }
      ],
      "source": [
        "np.linalg.norm(a)"
      ]
    },
    {
      "cell_type": "code",
      "execution_count": null,
      "metadata": {
        "id": "wa1bKHOcW2Ss",
        "outputId": "e179fdad-f171-412a-b304-81d184912179"
      },
      "outputs": [
        {
          "data": {
            "text/plain": [
              "2.8284271247461903"
            ]
          },
          "execution_count": 4,
          "metadata": {},
          "output_type": "execute_result"
        }
      ],
      "source": [
        "np.linalg.norm(b)"
      ]
    },
    {
      "cell_type": "code",
      "execution_count": null,
      "metadata": {
        "id": "3EjiTfaZW2Ss",
        "outputId": "403ce5f1-5afa-49cc-9416-7dce6ad08915"
      },
      "outputs": [
        {
          "name": "stdout",
          "output_type": "stream",
          "text": [
            "1.0\n",
            "6.4031242374328485\n"
          ]
        }
      ],
      "source": [
        "print(np.linalg.norm(b-a))\n",
        "print(np.linalg.norm(c-a))"
      ]
    },
    {
      "cell_type": "code",
      "execution_count": null,
      "metadata": {
        "id": "CmYwqxxaW2Ss"
      },
      "outputs": [],
      "source": [
        "dp1 = np.array([30,1])\n",
        "dp2 = np.array([33,2])\n",
        "dp3 = np.array([55,25])"
      ]
    },
    {
      "cell_type": "code",
      "execution_count": null,
      "metadata": {
        "id": "YsXVVw4JW2St",
        "outputId": "c2a3089a-c8d2-46c2-bc23-76a8d9a8eaeb"
      },
      "outputs": [
        {
          "name": "stdout",
          "output_type": "stream",
          "text": [
            "3.1622776601683795\n",
            "34.655446902326915\n"
          ]
        }
      ],
      "source": [
        "print(np.linalg.norm(dp2-dp1))\n",
        "print(np.linalg.norm(dp3-dp1))"
      ]
    },
    {
      "cell_type": "markdown",
      "metadata": {
        "id": "zZ5i0IOBW2St"
      },
      "source": [
        "# Cosine similarity"
      ]
    },
    {
      "cell_type": "code",
      "execution_count": null,
      "metadata": {
        "id": "frHh2uHRW2St",
        "outputId": "5014e543-13fd-486e-b140-e8598465f73b"
      },
      "outputs": [
        {
          "data": {
            "text/plain": [
              "array([1, 2])"
            ]
          },
          "execution_count": 7,
          "metadata": {},
          "output_type": "execute_result"
        }
      ],
      "source": [
        "a"
      ]
    },
    {
      "cell_type": "code",
      "execution_count": null,
      "metadata": {
        "id": "THqoTqvUW2St",
        "outputId": "ee8b10c4-f686-47b2-87d4-95c5b1516704"
      },
      "outputs": [
        {
          "data": {
            "text/plain": [
              "array([2, 2])"
            ]
          },
          "execution_count": 8,
          "metadata": {},
          "output_type": "execute_result"
        }
      ],
      "source": [
        "b"
      ]
    },
    {
      "cell_type": "code",
      "execution_count": null,
      "metadata": {
        "id": "vhfWyPEcW2St",
        "outputId": "673ecda9-aed6-4caa-991f-7d8bddab320b"
      },
      "outputs": [
        {
          "data": {
            "text/plain": [
              "6"
            ]
          },
          "execution_count": 9,
          "metadata": {},
          "output_type": "execute_result"
        }
      ],
      "source": [
        "np.dot(a,b)"
      ]
    },
    {
      "cell_type": "code",
      "execution_count": null,
      "metadata": {
        "id": "hUQnoKeeW2St",
        "outputId": "721d49e4-225c-4b64-d7a8-513134946d7b"
      },
      "outputs": [
        {
          "data": {
            "text/plain": [
              "0.9486832980505138"
            ]
          },
          "execution_count": 10,
          "metadata": {},
          "output_type": "execute_result"
        }
      ],
      "source": [
        "np.dot(a,b)/(np.linalg.norm(a)*np.linalg.norm(b))"
      ]
    },
    {
      "cell_type": "code",
      "execution_count": null,
      "metadata": {
        "id": "BaHf6LD0W2Su",
        "outputId": "30c5bae5-2580-4807-c489-3c30d8b94bfb"
      },
      "outputs": [
        {
          "data": {
            "text/plain": [
              "array([-3, -3])"
            ]
          },
          "execution_count": 11,
          "metadata": {},
          "output_type": "execute_result"
        }
      ],
      "source": [
        "c"
      ]
    },
    {
      "cell_type": "code",
      "execution_count": null,
      "metadata": {
        "id": "L43YMX2TW2Su",
        "outputId": "750231c1-c801-4ed4-ab2d-b8d03ac59d7c"
      },
      "outputs": [
        {
          "data": {
            "text/plain": [
              "-0.9486832980505138"
            ]
          },
          "execution_count": 12,
          "metadata": {},
          "output_type": "execute_result"
        }
      ],
      "source": [
        "np.dot(a,c)/(np.linalg.norm(a)*np.linalg.norm(c))"
      ]
    },
    {
      "cell_type": "code",
      "execution_count": null,
      "metadata": {
        "id": "KPNvqfG0W2Su"
      },
      "outputs": [],
      "source": [
        "doc1 = np.array([2,1,0,0,0,1])\n",
        "doc2 = np.array([1,0,2,1,0,0])\n",
        "doc3 = np.array([0,1,0,0,1,2])"
      ]
    },
    {
      "cell_type": "code",
      "execution_count": null,
      "metadata": {
        "id": "lC2YgcvKW2Su",
        "outputId": "d1895fff-99e2-458d-e23a-a6cde376499a"
      },
      "outputs": [
        {
          "name": "stdout",
          "output_type": "stream",
          "text": [
            "2.8284271247461903\n",
            "2.449489742783178\n"
          ]
        }
      ],
      "source": [
        "print(np.linalg.norm(doc2-doc1))\n",
        "print(np.linalg.norm(doc3-doc1))"
      ]
    },
    {
      "cell_type": "code",
      "execution_count": null,
      "metadata": {
        "id": "OEMN-F38W2Su",
        "outputId": "00294917-780f-4c87-ca2f-ea23396ca4de"
      },
      "outputs": [
        {
          "name": "stdout",
          "output_type": "stream",
          "text": [
            "0.33333333333333337\n",
            "0.5000000000000001\n"
          ]
        }
      ],
      "source": [
        "print(np.dot(doc1,doc2)/(np.linalg.norm(doc1)*np.linalg.norm(doc2)))\n",
        "print(np.dot(doc1,doc3)/(np.linalg.norm(doc1)*np.linalg.norm(doc3)))"
      ]
    },
    {
      "cell_type": "code",
      "execution_count": null,
      "metadata": {
        "id": "-LS2KxJNW2Su"
      },
      "outputs": [],
      "source": []
    }
  ],
  "metadata": {
    "kernelspec": {
      "display_name": "Python 3 (ipykernel)",
      "language": "python",
      "name": "python3"
    },
    "language_info": {
      "codemirror_mode": {
        "name": "ipython",
        "version": 3
      },
      "file_extension": ".py",
      "mimetype": "text/x-python",
      "name": "python",
      "nbconvert_exporter": "python",
      "pygments_lexer": "ipython3",
      "version": "3.8.5"
    },
    "colab": {
      "provenance": []
    }
  },
  "nbformat": 4,
  "nbformat_minor": 0
}