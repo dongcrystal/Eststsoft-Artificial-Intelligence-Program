{
  "cells": [
    {
      "cell_type": "markdown",
      "metadata": {
        "id": "view-in-github",
        "colab_type": "text"
      },
      "source": [
        "<a href=\"https://colab.research.google.com/github/dongcrystal/Eststsoft-Artificial-Intelligence-Program/blob/main/20240201_doc_vectorization_example2.ipynb\" target=\"_parent\"><img src=\"https://colab.research.google.com/assets/colab-badge.svg\" alt=\"Open In Colab\"/></a>"
      ]
    },
    {
      "cell_type": "code",
      "execution_count": null,
      "metadata": {
        "id": "lLoTyjzwXerx"
      },
      "outputs": [],
      "source": [
        "\n",
        "from os import listdir\n",
        "from os.path import isfile, join\n",
        "\n",
        "mypath = './docs/'\n",
        "onlyfiles = [f for f in listdir(mypath) if isfile(join(mypath, f))]\n",
        "\n",
        "total_docs = []\n",
        "for file in onlyfiles:\n",
        "    file_path = mypath+file\n",
        "    with open(file_path, 'r', encoding='utf8') as f:\n",
        "        content = f.read()\n",
        "    total_docs.append(content)"
      ]
    },
    {
      "cell_type": "code",
      "execution_count": null,
      "metadata": {
        "id": "LKGv_jSVXery",
        "outputId": "a3a57fe5-032a-428e-c646-a8c527bfbc5e"
      },
      "outputs": [
        {
          "data": {
            "text/plain": [
              "4"
            ]
          },
          "execution_count": 2,
          "metadata": {},
          "output_type": "execute_result"
        }
      ],
      "source": [
        "len(total_docs)"
      ]
    },
    {
      "cell_type": "code",
      "execution_count": null,
      "metadata": {
        "scrolled": true,
        "id": "6qvXpMiVXery",
        "outputId": "a3bf5f4b-2697-436d-cdfa-b0e045c0ba03"
      },
      "outputs": [
        {
          "data": {
            "text/plain": [
              "'Smartphones are by our sides, on our desks, in our pockets and bags all day long. We use them for hours every day (as the latest software on iPhone and Android phones reveals in all-too-clear detail).\\nSo, it’s no surprise that battery anxiety, that great malady of the twenty-first century, is more perniciously present than ever.\\n\\nThe latest iPhones, I’d venture, have great battery life. I favor the iPhone XS Max and, as I’ve mentioned before, I’ve never had an issue with the battery running out, nor with the iPhone XR which, after all, has the largest battery of any iPhone. But how about the iPhone XS, the smallest-screened of the 2018 iPhones? Again, I haven’t had an issue except on those extra-long days, like flying west from London to California, for instance. On those 32-hour days caused by the time difference, the iPhone XS has struggled.\\nSo, that was the Smart Battery Case I plumped for, to see if it could banish battery anxiety altogether. The essentials of this review apply to the iPhone XS Max and iPhone XR as well, but it was the iPhone XS I tested.\\nHow does it fit?\\n\\nYou can tell from the moment you open the packaging, with the back plate holding the case in place, that this is a product where attention to detail is everything. It is beautifully crafted from premium materials.\\nTo wrap it around the iPhone XS you bend the upper part of the case back to 45 degrees. Once you’ve done that, you can slide the iPhone in from the top of the case along the microfibre lining. It fits smoothly on to the internal Lightning connector at the base of the case.\\nHow does it look and feel?\\n\\nIt’s big. It makes a slim, lightweight phone heavier and considerably thicker. But that may be a worthwhile trade for the peace of mind of knowing your phone won’t run out of juice.\\n\\nThe design here is different from previous Apple smart battery cases. They have a battery bulge in the middle of the back. Here, it stretches right down the back from just below the camera unit to the bottom. This means there’s a lot more battery on board, but it feels very different in the hand. It will no longer slide into a trouser pocket, for instance.\\n\\nThe silicone back is smooth and tactile. This feels good to the touch and is entirely non-slip – unlike most smartphones out there today which can slide off even the flattest surface, no matter how carefully you put them down, the instant your back is turned.\\n\\nOr is that just me?\\n\\nIt’s also, no surprise here, a perfect fit. Every button clicks with the same pressure as the phone when it’s naked. The switch to enable and disable the phone’s ringtone and turn it to silent is reachable – though you’ll need a fingernail to flip it on and off easily.\\n\\nAnd the holes drilled in the bottom edge are, of course, a flawless match for the two grilles on the base of the iPhone.'"
            ]
          },
          "execution_count": 3,
          "metadata": {},
          "output_type": "execute_result"
        }
      ],
      "source": [
        "total_docs[0]"
      ]
    },
    {
      "cell_type": "code",
      "execution_count": null,
      "metadata": {
        "id": "p3jGxGV8Xerz",
        "outputId": "470d47b5-c436-4f65-f4fd-13f5ac030d97"
      },
      "outputs": [
        {
          "data": {
            "text/plain": [
              "'Four times, Serena Williams was only one point — a single point — from closing out a victory in the Australian Open quarterfinals.\\n\\nOn the first such chance, at 5-1, 40-30 in the third set, she turned her left ankle awkwardly. The owner of the best serve in the sport would lose every point she served the rest of the way.\\n\\nAnd so it was that a startling reversal and result would follow Wednesday at Melbourne Park, with Williams dropping the last six games of a 6-4, 4-6, 7-5 loss to No. 7-seeded Karolina Pliskova of the Czech Republic.\\n\\n\"I can\\'t say that I choked on those match points,\" Williams said. \"She literally played her best tennis ever on those shots.\"\\nThe 37-year-old American didn\\'t call for a trainer during the match and later wouldn\\'t blame the ankle for the way everything changed down the stretch, saying afterward that it \"seems to be fine.\"\\n\\nBut instead of Williams moving closer to an eighth championship at the Australian Open and record-tying 24th Grand Slam title overall, it is Pliskova who will continue the pursuit of her first major trophy.\\n\\n\"I was almost in the locker room,\" Pliskova told the Rod Laver Arena crowd, \"but now I\\'m standing here as the winner.\"\\n\\nNormally, Williams is the one manufacturing a comeback. This time, it was surprising to see her let a sizable lead vanish. Only twice before in 380 Grand Slam matches had Williams lost after holding a match point, at the 2010 French Open and 1999 Australian Open.\\n\\nIn Thursday\\'s semifinals, Pliskova will face No. 4-seeded Naomi Osaka, who advanced by beating No. 6 Elina Svitolina 6-4, 6-1. The other women\\'s semifinal will be unseeded Danielle Collins of St. Petersburg vs. two-time Wimbledon champion Petra Kvitova.\\n\\nIn men\\'s action Wednesday, No. 28 Lucas Pouille of France reached his first Grand Slam semifinal by beating 2016 Wimbledon runner-up Milos Raonic of Canada 7-6 (4), 6-3, 6-7 (2), 6-4. Pouille, who is coached by two-time major champion Amelie Mauresmo, had been 0-5 for his career at the Australian Open until last week. His next opponent will be 14-time major champion Novak Djokovic, who moved on when 2014 U.S. Open finalist Kei Nishikori stopped playing while trailing 6-1, 4-1.\\n\\nNishikori was treated for leg problems by a trainer.\\n\\nWilliams\\' surprising departure scuttled what would have been a much-anticipated rematch against Osaka, who beat her in the chaotic U.S. Open final last September.\\n\\nThis defeat is the earliest in Australia for Williams since 2014, when she exited with a fourth-round loss to Ana Ivanovic. Since then? She won the tournament in 2015, lost in the final in 2016, and won again in 2017 while pregnant, before missing last year\\'s edition a few months after the birth of her daughter.\\n\\nAs for chasing Margaret Court\\'s all-time mark of 24 Slam trophies in singles, Williams said: \"It hasn\\'t happened yet, but I feel like it\\'s going to happen.\"\\n\\nThe match against Pliskova was played under a stifling sun, with the temperature around 80 degrees (25 degrees Celsius). Williams — coming off an intense three-set victory over No. 1 Simona Halep in the fourth round — often stepped into the patches of shade behind each baseline.'"
            ]
          },
          "execution_count": 4,
          "metadata": {},
          "output_type": "execute_result"
        }
      ],
      "source": [
        "total_docs[-1]"
      ]
    },
    {
      "cell_type": "code",
      "execution_count": null,
      "metadata": {
        "id": "mwx-hINoXerz"
      },
      "outputs": [],
      "source": [
        "import preprocessing # import a python file for English text preprocessing"
      ]
    },
    {
      "cell_type": "code",
      "execution_count": null,
      "metadata": {
        "id": "Yq19bFDhXerz"
      },
      "outputs": [],
      "source": [
        "stopwords = ['be', 'today', 'yesterday', 'new', 'york', 'time'] # 불용어 사전 생성하기"
      ]
    },
    {
      "cell_type": "code",
      "execution_count": null,
      "metadata": {
        "id": "3p4Fh6buXerz"
      },
      "outputs": [],
      "source": [
        "docs_nouns = [preprocessing.En_preprocessing(doc, stopwords) for doc in total_docs]"
      ]
    },
    {
      "cell_type": "code",
      "execution_count": null,
      "metadata": {
        "id": "Qnpl5DG7Xerz",
        "outputId": "0bd9b0ee-48d0-4aef-9e9f-727a5fa6655f"
      },
      "outputs": [
        {
          "data": {
            "text/plain": [
              "4"
            ]
          },
          "execution_count": 7,
          "metadata": {},
          "output_type": "execute_result"
        }
      ],
      "source": [
        "len(docs_nouns)"
      ]
    },
    {
      "cell_type": "code",
      "execution_count": null,
      "metadata": {
        "id": "gJS-skcAXer0",
        "outputId": "3979f432-71be-49cc-fa01-b41bf39f8d54"
      },
      "outputs": [
        {
          "data": {
            "text/plain": [
              "['smartphones',\n",
              " 'side',\n",
              " 'desk',\n",
              " 'pocket',\n",
              " 'bag',\n",
              " 'day',\n",
              " 'hour',\n",
              " 'day',\n",
              " 'software',\n",
              " 'iphone',\n",
              " 'phone',\n",
              " 'reveals',\n",
              " 'detail',\n",
              " 'surprise',\n",
              " 'battery',\n",
              " 'anxiety',\n",
              " 'malady',\n",
              " 'century',\n",
              " 'iphones',\n",
              " 'venture',\n",
              " 'battery',\n",
              " 'life',\n",
              " 'iphone',\n",
              " 'x',\n",
              " 'max',\n",
              " 'issue',\n",
              " 'battery',\n",
              " 'iphone',\n",
              " 'xr',\n",
              " 'battery',\n",
              " 'iphone',\n",
              " 'iphone',\n",
              " 'iphones',\n",
              " 'havent',\n",
              " 'issue',\n",
              " 'day',\n",
              " 'london',\n",
              " 'instance',\n",
              " 'day',\n",
              " 'difference',\n",
              " 'iphone',\n",
              " 'x',\n",
              " 'battery',\n",
              " 'case',\n",
              " 'battery',\n",
              " 'anxiety',\n",
              " 'essential',\n",
              " 'review',\n",
              " 'iphone',\n",
              " 'x',\n",
              " 'max',\n",
              " 'iphone',\n",
              " 'xr',\n",
              " 'iphone',\n",
              " 'x',\n",
              " 'moment',\n",
              " 'packaging',\n",
              " 'plate',\n",
              " 'case',\n",
              " 'place',\n",
              " 'product',\n",
              " 'attention',\n",
              " 'everything',\n",
              " 'material',\n",
              " 'iphone',\n",
              " 'x',\n",
              " 'part',\n",
              " 'case',\n",
              " 'degree',\n",
              " 'iphone',\n",
              " 'top',\n",
              " 'case',\n",
              " 'microfibre',\n",
              " 'lightning',\n",
              " 'connector',\n",
              " 'base',\n",
              " 'case',\n",
              " 'lightweight',\n",
              " 'phone',\n",
              " 'thicker',\n",
              " 'trade',\n",
              " 'peace',\n",
              " 'mind',\n",
              " 'phone',\n",
              " 'wont',\n",
              " 'juice',\n",
              " 'design',\n",
              " 'apple',\n",
              " 'battery',\n",
              " 'case',\n",
              " 'battery',\n",
              " 'bulge',\n",
              " 'middle',\n",
              " 'back',\n",
              " 'back',\n",
              " 'camera',\n",
              " 'unit',\n",
              " 'bottom',\n",
              " 'lot',\n",
              " 'battery',\n",
              " 'board',\n",
              " 'hand',\n",
              " 'trouser',\n",
              " 'pocket',\n",
              " 'instance',\n",
              " 'silicone',\n",
              " 'feel',\n",
              " 'touch',\n",
              " 'smartphones',\n",
              " 'surface',\n",
              " 'matter',\n",
              " 'back',\n",
              " 'surprise',\n",
              " 'fit',\n",
              " 'button',\n",
              " 'pressure',\n",
              " 'phone',\n",
              " 'switch',\n",
              " 'phone',\n",
              " 'ringtone',\n",
              " 'fingernail',\n",
              " 'hole',\n",
              " 'bottom',\n",
              " 'edge',\n",
              " 'course',\n",
              " 'match',\n",
              " 'grille',\n",
              " 'base',\n",
              " 'iphone']"
            ]
          },
          "execution_count": 8,
          "metadata": {},
          "output_type": "execute_result"
        }
      ],
      "source": [
        "docs_nouns[0]"
      ]
    },
    {
      "cell_type": "code",
      "execution_count": null,
      "metadata": {
        "id": "YDvKVuWQXer0"
      },
      "outputs": [],
      "source": [
        "import numpy as np\n",
        "from sklearn.feature_extraction.text import CountVectorizer\n",
        "from sklearn.feature_extraction.text import TfidfVectorizer"
      ]
    },
    {
      "cell_type": "code",
      "execution_count": null,
      "metadata": {
        "id": "JiFWoOhuXer0"
      },
      "outputs": [],
      "source": [
        "documents_filtered = []\n",
        "for doc in docs_nouns:\n",
        "    document_filtered =' '.join(doc)\n",
        "    documents_filtered.append(document_filtered) # list of docs, doc 은 단어들로 구성이 된 string data\n",
        "# 불필요한 단어들을 제거하고 난후 DTM로 변환하기 위해 다시 list of strings의 형태로 변환"
      ]
    },
    {
      "cell_type": "code",
      "execution_count": null,
      "metadata": {
        "id": "I5wp6q8uXer0",
        "outputId": "b80cc860-36dc-42b4-c443-b66902eaf8de"
      },
      "outputs": [
        {
          "data": {
            "text/plain": [
              "'smartphones side desk pocket bag day hour day software iphone phone reveals detail surprise battery anxiety malady century iphones venture battery life iphone x max issue battery iphone xr battery iphone iphone iphones havent issue day london instance day difference iphone x battery case battery anxiety essential review iphone x max iphone xr iphone x moment packaging plate case place product attention everything material iphone x part case degree iphone top case microfibre lightning connector base case lightweight phone thicker trade peace mind phone wont juice design apple battery case battery bulge middle back back camera unit bottom lot battery board hand trouser pocket instance silicone feel touch smartphones surface matter back surprise fit button pressure phone switch phone ringtone fingernail hole bottom edge course match grille base iphone'"
            ]
          },
          "execution_count": 14,
          "metadata": {},
          "output_type": "execute_result"
        }
      ],
      "source": [
        "documents_filtered[0]"
      ]
    },
    {
      "cell_type": "code",
      "execution_count": null,
      "metadata": {
        "id": "bkP149hOXer0"
      },
      "outputs": [],
      "source": [
        "tf_vectorizer = CountVectorizer(min_df=1, ngram_range=(1,1))\n",
        "DTM_tf = tf_vectorizer.fit_transform(documents_filtered)"
      ]
    },
    {
      "cell_type": "code",
      "execution_count": null,
      "metadata": {
        "id": "SgGFrq-VXer0"
      },
      "outputs": [],
      "source": [
        "DTM_TF = np.array(DTM_tf.todense())"
      ]
    },
    {
      "cell_type": "code",
      "execution_count": null,
      "metadata": {
        "id": "SSxdS7kJXer0",
        "outputId": "733532a7-b362-4dc6-fdd2-65dde119071a"
      },
      "outputs": [
        {
          "data": {
            "text/plain": [
              "array([[0, 0, 0, ..., 0, 0, 0],\n",
              "       [0, 0, 0, ..., 2, 0, 1],\n",
              "       [0, 2, 1, ..., 1, 1, 0],\n",
              "       [1, 0, 0, ..., 1, 0, 0]], dtype=int64)"
            ]
          },
          "execution_count": 13,
          "metadata": {},
          "output_type": "execute_result"
        }
      ],
      "source": [
        "DTM_TF"
      ]
    },
    {
      "cell_type": "code",
      "execution_count": null,
      "metadata": {
        "id": "z9SpUoaTXer0",
        "outputId": "aaaf79f3-35d2-4996-a75d-f5bac73e02ec"
      },
      "outputs": [
        {
          "data": {
            "text/plain": [
              "(4, 285)"
            ]
          },
          "execution_count": 15,
          "metadata": {},
          "output_type": "execute_result"
        }
      ],
      "source": [
        "DTM_TF.shape"
      ]
    },
    {
      "cell_type": "code",
      "execution_count": null,
      "metadata": {
        "id": "rp-eZUC-Xer1",
        "outputId": "96c64f0a-c000-47a2-e367-8e9b14f590c4"
      },
      "outputs": [
        {
          "data": {
            "text/plain": [
              "array([ 0,  0,  0,  0,  0,  0,  0,  2,  0,  0,  1,  0,  0,  1,  0,  3,  1,\n",
              "        2,  0,  0,  0,  9,  0,  0,  1,  0,  2,  0,  1,  1,  0,  0,  1,  0,\n",
              "        0,  0,  0,  6,  0,  0,  1,  0,  0,  0,  0,  0,  0,  0,  0,  0,  0,\n",
              "        0,  0,  0,  0,  1,  1,  0,  0,  0,  0,  4,  0,  1,  0,  1,  1,  1,\n",
              "        0,  1,  0,  0,  1,  0,  1,  1,  0,  0,  0,  1,  0,  1,  1,  0,  0,\n",
              "        0,  0,  0,  0,  0,  0,  0,  1,  0,  0,  1,  0,  1,  0,  0,  1,  0,\n",
              "        1,  0,  0,  0,  2,  0, 12,  2,  2,  0,  1,  0,  0,  0,  0,  0,  0,\n",
              "        0,  0,  0,  0,  0,  1,  1,  1,  0,  1,  0,  0,  0,  1,  0,  1,  0,\n",
              "        0,  0,  1,  1,  1,  0,  2,  0,  0,  1,  1,  0,  1,  0,  1,  0,  0,\n",
              "        0,  0,  0,  0,  0,  0,  0,  0,  0,  0,  0,  0,  1,  0,  1,  0,  0,\n",
              "        1,  0,  0,  0,  0,  0,  5,  0,  0,  1,  1,  0,  2,  0,  0,  0,  0,\n",
              "        0,  0,  1,  0,  0,  0,  1,  0,  0,  0,  0,  0,  0,  0,  0,  0,  0,\n",
              "        1,  0,  1,  0,  1,  0,  0,  0,  0,  0,  0,  0,  0,  0,  0,  0,  0,\n",
              "        0,  0,  0,  1,  0,  1,  0,  0,  0,  0,  2,  1,  0,  0,  0,  0,  0,\n",
              "        0,  0,  0,  0,  0,  0,  1,  2,  1,  0,  0,  0,  1,  0,  0,  0,  0,\n",
              "        1,  1,  0,  0,  1,  0,  0,  1,  0,  1,  0,  1,  0,  0,  0,  0,  0,\n",
              "        0,  0,  0,  0,  0,  0,  0,  0,  1,  2,  0,  0,  0], dtype=int64)"
            ]
          },
          "execution_count": 16,
          "metadata": {},
          "output_type": "execute_result"
        }
      ],
      "source": [
        "DTM_TF[0]"
      ]
    },
    {
      "cell_type": "code",
      "execution_count": null,
      "metadata": {
        "id": "j7tiOZNpXer1",
        "outputId": "87aa2b75-2a77-46c8-ed59-a7e58f5b22e2"
      },
      "outputs": [
        {
          "data": {
            "text/plain": [
              "23.895606290697042"
            ]
          },
          "execution_count": 27,
          "metadata": {},
          "output_type": "execute_result"
        }
      ],
      "source": [
        "np.linalg.norm(DTM_TF[1]-DTM_TF[0])"
      ]
    },
    {
      "cell_type": "code",
      "execution_count": null,
      "metadata": {
        "id": "f9DyoiBLXer1",
        "outputId": "2bc4885f-365b-4ca4-e5f6-0d56cbf51241"
      },
      "outputs": [
        {
          "data": {
            "text/plain": [
              "24.919871588754223"
            ]
          },
          "execution_count": 28,
          "metadata": {},
          "output_type": "execute_result"
        }
      ],
      "source": [
        "np.linalg.norm(DTM_TF[2]-DTM_TF[0])"
      ]
    },
    {
      "cell_type": "code",
      "execution_count": null,
      "metadata": {
        "id": "vJr41ALkXer1",
        "outputId": "6f358566-16f4-4b5a-b1f8-8461b5af88d8"
      },
      "outputs": [
        {
          "data": {
            "text/plain": [
              "25.826343140289914"
            ]
          },
          "execution_count": 29,
          "metadata": {},
          "output_type": "execute_result"
        }
      ],
      "source": [
        "np.linalg.norm(DTM_TF[3]-DTM_TF[0])"
      ]
    },
    {
      "cell_type": "code",
      "execution_count": null,
      "metadata": {
        "id": "m2ZFb0ldXer1",
        "outputId": "60acc50c-30cb-4832-86ab-728661ce95c0"
      },
      "outputs": [
        {
          "name": "stdout",
          "output_type": "stream",
          "text": [
            "0.5959464513198515\n"
          ]
        }
      ],
      "source": [
        "print(np.dot(DTM_TF[0],DTM_TF[1])/(np.linalg.norm(DTM_TF[0])*np.linalg.norm(DTM_TF[1])))"
      ]
    },
    {
      "cell_type": "code",
      "execution_count": null,
      "metadata": {
        "id": "Ngyo61ICXer1",
        "outputId": "8e47a231-bac6-4309-cf0e-d474ff015c4e"
      },
      "outputs": [
        {
          "name": "stdout",
          "output_type": "stream",
          "text": [
            "0.010149858103156184\n"
          ]
        }
      ],
      "source": [
        "print(np.dot(DTM_TF[0],DTM_TF[2])/(np.linalg.norm(DTM_TF[0])*np.linalg.norm(DTM_TF[2])))"
      ]
    },
    {
      "cell_type": "code",
      "execution_count": null,
      "metadata": {
        "id": "KIo_yMNLXer1",
        "outputId": "447763cb-09fe-41d8-be82-627c40ab5bb5"
      },
      "outputs": [
        {
          "name": "stdout",
          "output_type": "stream",
          "text": [
            "0.021112128709387182\n"
          ]
        }
      ],
      "source": [
        "print(np.dot(DTM_TF[0],DTM_TF[3])/(np.linalg.norm(DTM_TF[0])*np.linalg.norm(DTM_TF[3])))"
      ]
    },
    {
      "cell_type": "code",
      "execution_count": null,
      "metadata": {
        "collapsed": true,
        "id": "9k88PrzQXer1"
      },
      "outputs": [],
      "source": []
    }
  ],
  "metadata": {
    "kernelspec": {
      "display_name": "Python 3",
      "language": "python",
      "name": "python3"
    },
    "language_info": {
      "codemirror_mode": {
        "name": "ipython",
        "version": 3
      },
      "file_extension": ".py",
      "mimetype": "text/x-python",
      "name": "python",
      "nbconvert_exporter": "python",
      "pygments_lexer": "ipython3",
      "version": "3.8.5"
    },
    "colab": {
      "provenance": [],
      "include_colab_link": true
    }
  },
  "nbformat": 4,
  "nbformat_minor": 0
}